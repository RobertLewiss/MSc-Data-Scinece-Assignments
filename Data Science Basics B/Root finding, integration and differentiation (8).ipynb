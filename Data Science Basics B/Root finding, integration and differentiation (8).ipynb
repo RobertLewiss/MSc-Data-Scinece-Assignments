{
 "cells": [
  {
   "cell_type": "code",
   "execution_count": 1,
   "metadata": {
    "deletable": false,
    "editable": false,
    "init_cell": true,
    "nbgrader": {
     "cell_type": "code",
     "checksum": "31e084a98b8c2bb76ed461c2bd9905bf",
     "grade": false,
     "grade_id": "cell-bc8338f73d72e948",
     "locked": true,
     "schema_version": 3,
     "solution": false,
     "task": false
    }
   },
   "outputs": [],
   "source": [
    "# Import some libraries from python and set some defaults\n",
    "%matplotlib inline\n",
    "import numpy as np\n",
    "import matplotlib.pyplot as plt\n",
    "from matplotlib import rc\n",
    "import matplotlib.image as mpimg\n",
    "from matplotlib.ticker import MaxNLocator\n",
    "import sys\n",
    "import os\n",
    "import time\n",
    "sys.path.append(os.getcwd())\n",
    "# from scipy.interpolate import CubicSpline\n",
    "import pickle\n",
    "import copy\n",
    "from scipy import special\n",
    "#set the font size for plots\n",
    "plt.rcParams.update({'font.size': 17})\n",
    "params = {'axes.labelsize': 16, 'axes.titlesize': 16}\n",
    "plt.rcParams.update(params)\n",
    "rc('animation', html='html5')"
   ]
  },
  {
   "cell_type": "code",
   "execution_count": 2,
   "metadata": {
    "deletable": false,
    "editable": false,
    "init_cell": true,
    "nbgrader": {
     "cell_type": "code",
     "checksum": "9eeb726f64a211c65a67e2231584cfe9",
     "grade": false,
     "grade_id": "cell-59a649443c275cef",
     "locked": true,
     "schema_version": 3,
     "solution": false,
     "task": false
    },
    "tags": [
     "hide_input"
    ]
   },
   "outputs": [],
   "source": [
    "from ipywidgets import widgets, interact, interactive, fixed\n",
    "from ipywidgets import Button, HBox, VBox\n",
    "import shelve\n",
    "assessmentName=\"test_ballistic\";\n",
    "import os\n",
    "\n",
    "def get_last_value(key):\n",
    "    if os.path.isfile('.choices.shelve') or os.path.isfile('.choices.shelve.dir'):\n",
    "        s=shelve.open('.choices.shelve')\n",
    "        return s.get(key,None)\n",
    "    return None\n",
    "\n",
    "def make_value_change_fn(assessmentName,name):\n",
    "    def fn(change):\n",
    "        s=shelve.open('.choices.shelve')\n",
    "        key='{0}_{1}'.format(assessmentName,name)\n",
    "        s[key]=change['new']\n",
    "        s.close()\n",
    "    return fn\n",
    " \n",
    "class myFloatBox:\n",
    "    def __init__(self,name,description,long_description):\n",
    "        self.name=name\n",
    "        self.description=description\n",
    "        self.long_description=long_description\n",
    "    def getWidget(self):\n",
    "        self.widgets=[ \n",
    "              widgets.FloatText(\n",
    "              description=self.description,\n",
    "        disabled=False,\n",
    "                  value=get_last_value('{0}_{1}'.format(assessmentName,self.name))\n",
    "        )]\n",
    "        \n",
    "        txt=widgets.HTMLMath(\n",
    "            value=self.long_description,\n",
    "            placeholder='',\n",
    "            description='',\n",
    "        )\n",
    "        \n",
    "        self.widget=VBox([txt]+self.widgets)\n",
    "        self.widgets[0].observe(make_value_change_fn(assessmentName,self.name), names='value')\n",
    "\n",
    "        return self.widget\n",
    "    \n",
    "\n"
   ]
  },
  {
   "cell_type": "markdown",
   "metadata": {
    "deletable": false,
    "editable": false,
    "nbgrader": {
     "cell_type": "markdown",
     "checksum": "a77131c6c71493b7b4520600016e2ada",
     "grade": false,
     "grade_id": "cell-d8f55e899ab67786",
     "locked": true,
     "schema_version": 3,
     "solution": false,
     "task": false
    }
   },
   "source": [
    "# Preamble: workshop notebooks\n",
    "\n",
    "Work through this notebook cell by cell.\n",
    "\n",
    "When working on your solution, you can save the notebook as many times as you like. You can also submit \n",
    "as many times as you like. In fact, it is a good idea to save and submit often.\n",
    "\n",
    "**Validate** the notebook before submitting. Use the *validate* button in the browser\n",
    "\n",
    "**Do not copy or delete one of the original cells**. Doing so means you cannot validate the notebook.\n",
    "If required, *create a new cell*, and copy the *contents* of another cell.\n",
    "\n",
    "\n",
    "**Only the last submission before the deadline** will be marked.\n",
    "Note that you have to **submit** at least once for your work to be marked.\n"
   ]
  },
  {
   "cell_type": "markdown",
   "metadata": {
    "deletable": false,
    "editable": false,
    "nbgrader": {
     "cell_type": "markdown",
     "checksum": "c3686ca06ef8cdc0c8e865600f306af7",
     "grade": false,
     "grade_id": "cell-fc9c896ced0949fb",
     "locked": true,
     "schema_version": 3,
     "solution": false,
     "task": false
    }
   },
   "source": [
    "The notebook contains cells with code. Some of the code is (intentionally) missing. Please insert appropriate code below the line 'YOUR CODE HERE'. Cells which do not contain any 'YOUR CODE HERE' lines will allow you to test your code; if they return an error there is something wrong with your implementation; if they do not return an error your code might be correct (it is unfortunately not possible to check for every possible error).\n",
    "\n",
    "Note:\n",
    "\n",
    "simply add numerical value in a dropbox for it to get marked\n",
    "\n",
    "when asked for true/false in a box:\n",
    "\n",
    "ticking a box means True\n",
    "not ticking (or ticking an even number of times) yields False\n"
   ]
  },
  {
   "cell_type": "markdown",
   "metadata": {
    "deletable": false,
    "editable": false,
    "nbgrader": {
     "cell_type": "markdown",
     "checksum": "81f6734f7d4df49ae238191225c34e6e",
     "grade": false,
     "grade_id": "cell-2a46e0d302f82a8c",
     "locked": true,
     "schema_version": 3,
     "solution": false,
     "task": false
    }
   },
   "source": [
    "The notebook contains cells with code. Some of the code is (intentionally) missing. Please insert appropriate code where it says 'YOUR CODE HERE' and delete or comment out the 'raise NotImplementedError()' statements. Cells which do not contain any 'YOUR CODE HERE' lines will allow you to test your code; if they return an error there is something wrong with your implementation; if they do not return an error your code might be correct (it is unfortunately not possible to check for every possible error)."
   ]
  },
  {
   "cell_type": "markdown",
   "metadata": {
    "deletable": false,
    "editable": false,
    "nbgrader": {
     "cell_type": "markdown",
     "checksum": "40758a8746414350b95cf1e387b1909e",
     "grade": false,
     "grade_id": "cell-545ea94a47e65283",
     "locked": true,
     "schema_version": 3,
     "solution": false,
     "task": false
    }
   },
   "source": [
    "## Workshop V: Root finding, integration and differentiation\n",
    "\n",
    "In this notebook we implement and test methods for numerical integration, namely the **Newton-Cotes**, **trapezoidal** and **Simpson** integration methods. \n",
    "\n"
   ]
  },
  {
   "cell_type": "markdown",
   "metadata": {
    "deletable": false,
    "editable": false,
    "nbgrader": {
     "cell_type": "markdown",
     "checksum": "67e6e4dfd87eacc333d6c1ff974b1a02",
     "grade": false,
     "grade_id": "cell-f1557437943afeae",
     "locked": true,
     "schema_version": 3,
     "solution": false,
     "task": false
    }
   },
   "source": [
    "# Part 1: Root finding\n"
   ]
  },
  {
   "cell_type": "markdown",
   "metadata": {
    "deletable": false,
    "editable": false,
    "nbgrader": {
     "cell_type": "markdown",
     "checksum": "17c852494cf9908ab523fec01555fb37",
     "grade": false,
     "grade_id": "cell-84e63bf61198ccfc",
     "locked": true,
     "schema_version": 3,
     "solution": false,
     "task": false
    }
   },
   "source": [
    "Given a function $f(x)$, root finding means finding one (or more) values $x$ for which $f(x)=0$ (up to some user-defined precision). When there is more than one root, this can be a very complicated task. This is typically the case in multiple dimensions (i.e when $x$ is a vector). Here, we will restrict ourselves to the 1 dimensional case.\n",
    "\n",
    "We will implement three methods to find the zeroes of a given function. In all cases we would like to have the option to record intermediate estimates, for example to determine the rate of convergence, or to debug when no roots are found. To do so, we will use a flag `returnPoints` to specify whether or not we want the list of values of $x$ tested so far (possible roots, $x_i$, $i=1\\cdots N$), and the associated function evaluations, $f(x_i), i=1\\cdots N$), to be returned. For example, if we found the final value of x and have the values of x stored in `xs` and the associated values $f(x_i)$ stored in `vs` (`v` for value), we can use this code snippet to determine what the function should return:\n",
    "\n",
    "```\n",
    "if returnPoints:\n",
    "    return x,(xs,vs)\n",
    "else:\n",
    "    return x\n",
    "```\n",
    "\n",
    "The initial value(s) provided to the method should be included in `xs` and the corresponding value of the function in `vs`. The automatic testing cells below assume this is the case."
   ]
  },
  {
   "cell_type": "markdown",
   "metadata": {
    "deletable": false,
    "editable": false,
    "nbgrader": {
     "cell_type": "markdown",
     "checksum": "4d487b9a82232d3cafd8cf14e6e35636",
     "grade": false,
     "grade_id": "cell-e66f46d5f7d90796",
     "locked": true,
     "schema_version": 3,
     "solution": false,
     "task": false
    }
   },
   "source": [
    "### 1) Newton-Raphson method\n",
    "\n",
    "Implement this method in the cell below"
   ]
  },
  {
   "cell_type": "code",
   "execution_count": 23,
   "metadata": {
    "deletable": false,
    "nbgrader": {
     "cell_type": "code",
     "checksum": "1237a82c2e75f4eda00f3117a8941277",
     "grade": false,
     "grade_id": "cell-74fa2766b4a257c0",
     "locked": false,
     "schema_version": 3,
     "solution": true,
     "task": false
    }
   },
   "outputs": [],
   "source": [
    "class NotConverging(Exception):\n",
    "    ''' This is an exception to be raised when there is no convergence.'''\n",
    "    pass\n",
    "\n",
    "\n",
    "def NewtonRaphson(f,df,x0,tolerance,returnPoints=False):\n",
    "    '''\n",
    "       Finds a root of the equation f(x)=0.\n",
    "       Input:\n",
    "       f: the function f(x) (must be a one-parameter python function)\n",
    "       df: the derivative of f, df/dx (must be a one-parameter python function)\n",
    "       x0: the starting value (starting guess) for the root finding (float)\n",
    "       tolerance: the integration tolerance (float)\n",
    "       returnPoints: (bool) if True, return the result and the steps, \n",
    "       if False, return only the result. \n",
    "       \n",
    "       The function stops iterating when either\n",
    "       \n",
    "            | x_{i+1} - x_{i} | < tolerance\n",
    "            \n",
    "        and returns succesfully, or if the maximum number of 1000 iterations is reached, it\n",
    "        returns the NotConverging exception.\n",
    "    '''\n",
    "    # YOUR CODE HERE\n",
    "    error = 0.1\n",
    "    x_i = x0\n",
    "    xs = []\n",
    "    vs = []\n",
    "    \n",
    "    count = 0\n",
    "    \n",
    "    while tolerance < error:\n",
    "        \n",
    "        xs.append(x_i)\n",
    "        vs.append(f(x_i))\n",
    "        \n",
    "       \n",
    "        x_i_one = x_i - f(x_i)/df(x_i)\n",
    "        \n",
    "        error = abs(x_i_one - x_i)\n",
    "        \n",
    "        x_i = x_i_one\n",
    "  \n",
    "        count += 1\n",
    "    \n",
    "    \n",
    "        if count == 1000:\n",
    "            return NotConverging(Exception)\n",
    "    \n",
    "    xs.append(x_i)\n",
    "    vs.append(f(x_i))\n",
    " \n",
    "    if returnPoints:\n",
    "        return x_i ,(xs,vs)\n",
    "    else:\n",
    "        return x_i"
   ]
  },
  {
   "cell_type": "code",
   "execution_count": 24,
   "metadata": {},
   "outputs": [
    {
     "name": "stdout",
     "output_type": "stream",
     "text": [
      "Root found is x=1.00 for which f(x)=0.0000, tolerance was 0.0010\n"
     ]
    },
    {
     "data": {
      "image/png": "[encoded data removed]",
      "text/plain": [
       "<Figure size 360x360 with 1 Axes>"
      ]
     },
     "metadata": {},
     "output_type": "display_data"
    }
   ],
   "source": [
    "# Example test case: find root for the function f(x)=x^2-1\n",
    "\n",
    "# definition of the function f(x)=x^2-1\n",
    "def f(x):\n",
    "    return np.array(x)**2-1.0\n",
    "# corresponding derivative\n",
    "def df(x):\n",
    "    return 2.0*x\n",
    "\n",
    "# initial guess, take x= 0.5\n",
    "# required accuracy is acc = 1e-3\n",
    "x_guess          = 2.5\n",
    "acc              = 1e-3\n",
    "ans              = NewtonRaphson(f,df,x_guess,acc,returnPoints=True)\n",
    "x_root, (xs, vs) = ans\n",
    "\n",
    "# Some feedback to the screen\n",
    "feedback = r\"Root found is x={0:1.2f} for which f(x)={1:1.4f}, tolerance was {2:1.4f}\".format(x_root, f(x_root), acc)\n",
    "print(feedback)\n",
    "\n",
    "# plot result, including intermediate estimates of the roots\n",
    "fig, ax = plt.subplots(1,1, figsize=(5, 5))\n",
    "\n",
    "# plot the intermediate values\n",
    "label = 'intermediate'\n",
    "ax.plot(xs, vs, '-D', color='blue', label=label)\n",
    "\n",
    "# plot starting value\n",
    "label = 'start'\n",
    "ax.plot(x_guess, f(x_guess), 'D', color='cyan', label=label)\n",
    "\n",
    "# plot the root\n",
    "label = 'root'\n",
    "ax.plot(x_root, f(x_root), 'D', color='red', label=label)\n",
    "\n",
    "ax.legend()\n",
    "\n",
    "#ax.plot(ans[1][0],f(ans[1][0]),'D')\n",
    "#ax.plot(ans[1][0],f(ans[1][0]))\n",
    "ax.set_xlim([-1, 8.])\n",
    "ax.set_ylim([-1, 8.])\n",
    "ax.set_ylabel(r\"$x^2-1$\")\n",
    "ax.set_xlabel(r\"$x$\")\n",
    "ax.title.set_text(r\"Newton-Raphson root finding, $x^2-1=0$\")\n",
    "ax.grid(True)\n"
   ]
  },
  {
   "cell_type": "markdown",
   "metadata": {
    "deletable": false,
    "editable": false,
    "nbgrader": {
     "cell_type": "markdown",
     "checksum": "d6411211e4b9ac6afb30f4416d1f2de2",
     "grade": false,
     "grade_id": "cell-73490550d7e12d68",
     "locked": true,
     "schema_version": 3,
     "solution": false,
     "task": false
    }
   },
   "source": [
    "The cell below tests your implementation of the Newton-Raphson scheme.\n",
    "\n",
    "It defines a new function, and test whether your implementation corerct identifies the root.\n",
    "\n",
    "** 5 marks **"
   ]
  },
  {
   "cell_type": "code",
   "execution_count": 25,
   "metadata": {
    "deletable": false,
    "editable": false,
    "nbgrader": {
     "cell_type": "code",
     "checksum": "2601d15efc757ee7d77f0041494b9adb",
     "grade": true,
     "grade_id": "cell-8e63e22b990441e5",
     "locked": true,
     "points": 5,
     "schema_version": 3,
     "solution": false,
     "task": false
    }
   },
   "outputs": [],
   "source": [
    "# this tests the implementation of Newton-Raphson on another function\n",
    "def f(x): return np.log(x)-np.pi \n",
    "def df(x): return 1.0/(x)\n",
    "\n",
    "assert np.isclose(NewtonRaphson(f,df,0.1,1e-10),np.exp(np.pi))\n",
    "x,(xs,vs)=NewtonRaphson(f,df,0.05,1e-3,returnPoints=True)\n",
    "assert len(xs)==9 and len(vs)==9"
   ]
  },
  {
   "cell_type": "markdown",
   "metadata": {
    "deletable": false,
    "editable": false,
    "nbgrader": {
     "cell_type": "markdown",
     "checksum": "dcc07821878cbe87e24d0e8653c275d5",
     "grade": false,
     "grade_id": "cell-02c5c84052fa34d4",
     "locked": true,
     "schema_version": 3,
     "solution": false,
     "task": false
    }
   },
   "source": [
    "### 2) Secant method\n",
    "\n",
    "Implement this method in the cell below"
   ]
  },
  {
   "cell_type": "code",
   "execution_count": 26,
   "metadata": {
    "deletable": false,
    "nbgrader": {
     "cell_type": "code",
     "checksum": "19aef137fa98b24b5e1c552d6d7fe359",
     "grade": false,
     "grade_id": "cell-1870f180a1b1156c",
     "locked": false,
     "schema_version": 3,
     "solution": true,
     "task": false
    }
   },
   "outputs": [],
   "source": [
    "def secant(f,x0,x1,tolerance,returnPoints=False):\n",
    "    \n",
    "    '''\n",
    "    finds a root of the equation f(x)=0, \n",
    "    Input:\n",
    "       f: the function f(x) (must be a one-parameter python function)\n",
    "       x0, x1: the starting values for the root finding (float)\n",
    "       torerance: the integration tolerance (float)\n",
    "       returnPoints: (bool) if True, return the result and the steps, \n",
    "       if False, return only the result. \n",
    "       \n",
    "    x0 and x1 are the first two guesses (x0 != x1). Starting from these, the\n",
    "    method determines subsequent improved guesses, x2, x3, ...\n",
    "    \n",
    "    The termination condition is\n",
    "    \n",
    "    | (x_{i+1}-x{i})/(x_{i+1}+x_{i}) | < tolerance,\n",
    "    \n",
    "    where the x_{i+1} and x_{i} are the two last guesses.\n",
    "    If the method fails to converge after 1000 steps, we bail out\n",
    "    with a NotConverging exception\n",
    "    \n",
    "    '''\n",
    "    \n",
    "        # YOUR CODE HERE\n",
    "    error = 0.1\n",
    "    \n",
    "    x_i_minus = x0\n",
    "    x_i = x1\n",
    "    \n",
    "    xs = [x_i_minus]\n",
    "    vs = [f(x_i_minus)]\n",
    "    \n",
    "    count = 0\n",
    "    \n",
    "    while tolerance < error:\n",
    "        \n",
    "        xs.append(x_i)\n",
    "        vs.append(f(x_i))\n",
    "        \n",
    "        \n",
    "        x_i_plus = x_i - f(x_i)/( (f(x_i) - f(x_i_minus) ) / (x_i - x_i_minus) )\n",
    "        \n",
    "        error = abs( (x_i_plus-x_i)/(x_i + x_i_plus) )\n",
    "        \n",
    "        x_i_minus = x_i\n",
    "        x_i = x_i_plus\n",
    "\n",
    "        count += 1\n",
    "    \n",
    "    \n",
    "        if count == 1000:\n",
    "            return print('error')\n",
    "    \n",
    "    xs.append(x_i)\n",
    "    vs.append(f(x_i))\n",
    "\n",
    "    \n",
    "    if returnPoints:\n",
    "        return x_i ,(xs,vs)\n",
    "    else:\n",
    "        return x_i\n"
   ]
  },
  {
   "cell_type": "code",
   "execution_count": 27,
   "metadata": {},
   "outputs": [
    {
     "name": "stdout",
     "output_type": "stream",
     "text": [
      "Root found is x=1.00 for which f(x)=-0.0000, tolerance was 0.0010\n"
     ]
    },
    {
     "data": {
      "image/png": "[encoded data removed]",
      "text/plain": [
       "<Figure size 360x360 with 1 Axes>"
      ]
     },
     "metadata": {},
     "output_type": "display_data"
    }
   ],
   "source": [
    "# Example test case: find root for the function f(x)=x^2-1\n",
    "\n",
    "# definition of the function f(x)=x^2-1\n",
    "def f(x):\n",
    "    return np.array(x)**2-1.0\n",
    "# corresponding derivative\n",
    "def df(x):\n",
    "    return 2.0*x\n",
    "\n",
    "# initial guess, take x= 0.5\n",
    "# required accuracy is acc = 1e-3\n",
    "x_guess          = 2.5\n",
    "x0               = 0.5\n",
    "x1               = 2.0\n",
    "acc              = 1e-3\n",
    "ans              = secant(f, x0, x1, acc, returnPoints=True)\n",
    "x_root, (xs, vs) = ans\n",
    "\n",
    "# Some feedback to the screen\n",
    "feedback = r\"Root found is x={0:1.2f} for which f(x)={1:1.4f}, tolerance was {2:1.4f}\".format(x_root, f(x_root), acc)\n",
    "print(feedback)\n",
    "\n",
    "# plot result, including intermediate estimates of the roots\n",
    "fig, ax = plt.subplots(1,1, figsize=(5, 5))\n",
    "\n",
    "# plot the intermediate values\n",
    "label = 'intermediate'\n",
    "ax.plot(xs, vs, '-D', color='blue', label=label)\n",
    "\n",
    "# plot starting value\n",
    "label = 'start'\n",
    "ax.plot(x_guess, f(x_guess), 'D', color='cyan', label=label)\n",
    "\n",
    "# plot the root\n",
    "label = 'root'\n",
    "ax.plot(x_root, f(x_root), 'D', color='red', label=label)\n",
    "\n",
    "ax.legend()\n",
    "ax.set_xlim([-1, 8.])\n",
    "ax.set_ylim([-1, 8.])\n",
    "ax.set_ylabel(r\"$x^2-1$\")\n",
    "ax.set_xlabel(r\"$x$\")\n",
    "ax.title.set_text(r\"Secant root finding, $x^2-1=0$\")\n",
    "ax.grid(True)\n"
   ]
  },
  {
   "cell_type": "markdown",
   "metadata": {
    "deletable": false,
    "editable": false,
    "nbgrader": {
     "cell_type": "markdown",
     "checksum": "6cc7c5da70b8bcfb41861a37f588a339",
     "grade": false,
     "grade_id": "cell-48086cec106880d5",
     "locked": true,
     "schema_version": 3,
     "solution": false,
     "task": false
    }
   },
   "source": [
    "The cell below tests your implementation of the secant method.\n",
    "\n",
    "** 5 marks **"
   ]
  },
  {
   "cell_type": "code",
   "execution_count": 28,
   "metadata": {
    "deletable": false,
    "editable": false,
    "nbgrader": {
     "cell_type": "code",
     "checksum": "ca1ea344aeaff487973bdcee397a5212",
     "grade": true,
     "grade_id": "cell-88ec1c031d2ab85b",
     "locked": true,
     "points": 5,
     "schema_version": 3,
     "solution": false,
     "task": false
    },
    "tags": [
     "hide_input"
    ]
   },
   "outputs": [],
   "source": [
    "# this tests the implementation of secant root finder on another function\n",
    "def f(x): return np.exp(x)-np.pi \n",
    "def df(x): return np.exp(x)\n",
    "\n",
    "assert np.isclose(secant(f,0,2,1e-10),np.log(np.pi))\n",
    "x,(xs,vs)=secant(f,0,2,1e-3,returnPoints=True)\n",
    "assert len(xs)==8 and len(vs)==8"
   ]
  },
  {
   "cell_type": "markdown",
   "metadata": {
    "deletable": false,
    "editable": false,
    "nbgrader": {
     "cell_type": "markdown",
     "checksum": "24ee429ae8a2ec0d7534bba0748cf01e",
     "grade": false,
     "grade_id": "cell-50f4f152f7b018fa",
     "locked": true,
     "schema_version": 3,
     "solution": false,
     "task": false
    }
   },
   "source": [
    "### 3) Bisection method"
   ]
  },
  {
   "cell_type": "code",
   "execution_count": 29,
   "metadata": {
    "deletable": false,
    "nbgrader": {
     "cell_type": "code",
     "checksum": "7c80ca8e594296d3b0b36541d994c769",
     "grade": false,
     "grade_id": "cell-2f4d96ca37ffae66",
     "locked": false,
     "schema_version": 3,
     "solution": true,
     "task": false
    }
   },
   "outputs": [],
   "source": [
    "def bisect(f, x0, x1, tolerance, returnPoints=False):\n",
    "    \n",
    "    '''\n",
    "    finds a root of the equation f(x)=0. \n",
    "    \n",
    "    Input:\n",
    "       f: the function f(x) (must be a one-parameter python function)\n",
    "       x0, x1: guess that should straddle a root (float)\n",
    "       torerance: the integration tolerance (float)\n",
    "       returnPoints: (bool) if True, return the result and the steps, \n",
    "       if False, return only the result. \n",
    "       \n",
    "    x0 and x1 are the first two guesses.\n",
    "    They need to **straddle** a root, meaning f(x0)*f(x1)<0.\n",
    " \n",
    "    It should not matter which one corresponds to a positive \n",
    "    value of f. \n",
    "    \n",
    "    The iteration terminates when the length of the interval\n",
    "    between the two last estimates is smaller than the tolerance,\n",
    "    \n",
    "    | x_{i+1} - x_{i} | < tolerance\n",
    "    \n",
    "    When this condition is satisfied, the function should return\n",
    "    \n",
    "    x_{i+2} = (x_{i+1}-x{i}) / 2\n",
    "     \n",
    "     \n",
    "   The list of returned points should not include x0 or x1.\n",
    "\n",
    "    '''\n",
    "    error = 0.1\n",
    "    \n",
    "    \n",
    "    a = x0 \n",
    "    b = x1 \n",
    "    \n",
    "    xs = []\n",
    "    vs = []\n",
    "    \n",
    "    count = 0\n",
    "    \n",
    "    if f(a)>0 and f(b)<0:\n",
    "        print('F(a) is +ve')\n",
    "        \n",
    "        while tolerance < error:\n",
    "        \n",
    "            \n",
    "\n",
    "            x_ii = (a + b)/2\n",
    "\n",
    "            xs.append(x_ii)\n",
    "            vs.append(f(x_ii))\n",
    "\n",
    "            if f(x_ii)<0: \n",
    "                error = abs(x_ii - b)\n",
    "                b = x_ii\n",
    "            else:  \n",
    "                error = abs(x_ii - a)\n",
    "                a = x_ii\n",
    "\n",
    "\n",
    "\n",
    "            count += 1\n",
    "\n",
    "            if count == 1000:\n",
    "                print('ERROR')\n",
    "\n",
    "\n",
    "    \n",
    "       \n",
    "    xs.append(x_ii)\n",
    "    vs.append(f(x_ii))\n",
    "\n",
    "    \n",
    "    if returnPoints:\n",
    "        return x_ii ,(xs,vs)\n",
    "    else:\n",
    "        return x_ii\n"
   ]
  },
  {
   "cell_type": "code",
   "execution_count": 30,
   "metadata": {},
   "outputs": [
    {
     "name": "stdout",
     "output_type": "stream",
     "text": [
      "Root found is x=1.00 for which f(x)=-0.0000, tolerance was 0.0010\n"
     ]
    },
    {
     "data": {
      "image/png": "[encoded data removed]",
      "text/plain": [
       "<Figure size 360x360 with 1 Axes>"
      ]
     },
     "metadata": {},
     "output_type": "display_data"
    }
   ],
   "source": [
    "# Example test case: find root for the function f(x)=x^2-1\n",
    "\n",
    "# definition of the function f(x)=x^2-1\n",
    "def f(x):\n",
    "    return np.array(x)**2-1.0\n",
    "# corresponding derivative\n",
    "def df(x):\n",
    "    return 2.0*x\n",
    "\n",
    "# initial guess, take x= 0.5\n",
    "# required accuracy is acc = 1e-3\n",
    "x_guess          = 2.5\n",
    "x0               = 0.5\n",
    "x1               = 2.0\n",
    "acc              = 1e-3\n",
    "ans              = secant(f, x0, x1, acc, returnPoints=True)\n",
    "x_root, (xs, vs) = ans\n",
    "\n",
    "# Some feedback to the screen\n",
    "feedback = r\"Root found is x={0:1.2f} for which f(x)={1:1.4f}, tolerance was {2:1.4f}\".format(x_root, f(x_root), acc)\n",
    "print(feedback)\n",
    "\n",
    "# plot result, including intermediate estimates of the roots\n",
    "fig, ax = plt.subplots(1,1, figsize=(5, 5))\n",
    "\n",
    "# plot the intermediate values\n",
    "label = 'intermediate'\n",
    "ax.plot(xs, vs, '-D', color='blue', label=label)\n",
    "\n",
    "# plot starting value\n",
    "label = 'start'\n",
    "ax.plot(x_guess, f(x_guess), 'D', color='cyan', label=label)\n",
    "\n",
    "# plot the root\n",
    "label = 'root'\n",
    "ax.plot(x_root, f(x_root), 'D', color='red', label=label)\n",
    "\n",
    "ax.legend()\n",
    "ax.set_xlim([-1, 8.])\n",
    "ax.set_ylim([-1, 8.])\n",
    "ax.set_ylabel(r\"$x^2-1$\")\n",
    "ax.set_xlabel(r\"$x$\")\n",
    "ax.title.set_text(r\"Bisection root finding, $x^2-1=0$\")\n",
    "ax.grid(True)\n"
   ]
  },
  {
   "cell_type": "markdown",
   "metadata": {
    "deletable": false,
    "editable": false,
    "nbgrader": {
     "cell_type": "markdown",
     "checksum": "39778f6cc7b0aed3096744217ee3962e",
     "grade": false,
     "grade_id": "cell-53c470e320f0c6b0",
     "locked": true,
     "schema_version": 3,
     "solution": false,
     "task": false
    }
   },
   "source": [
    "The cell below tests your implementation of the bisection method.\n",
    "\n",
    "** 5 marks **"
   ]
  },
  {
   "cell_type": "code",
   "execution_count": 31,
   "metadata": {
    "deletable": false,
    "editable": false,
    "nbgrader": {
     "cell_type": "code",
     "checksum": "03b435517a17ecaec2c1bc25a864e819",
     "grade": true,
     "grade_id": "cell-d3f38347876a79b5",
     "locked": true,
     "points": 5,
     "schema_version": 3,
     "solution": false,
     "task": false
    },
    "tags": [
     "hide_input"
    ]
   },
   "outputs": [
    {
     "name": "stdout",
     "output_type": "stream",
     "text": [
      "F(a) is +ve\n",
      "F(a) is +ve\n"
     ]
    }
   ],
   "source": [
    "# this tests the implementation of bisection root finding on another function\n",
    "def f(x): return np.cos(x)-np.sin(x) \n",
    "def df(x): return -np.sin(x)-np.cos(x)\n",
    "\n",
    "assert np.isclose(bisect(f,0,2,1e-10),np.pi/4)\n",
    "x,(xs,vs)=bisect(f,0,2,1e-3,returnPoints=True)\n",
    "assert len(xs)==12 and len(vs)==12"
   ]
  },
  {
   "cell_type": "markdown",
   "metadata": {
    "deletable": false,
    "editable": false,
    "nbgrader": {
     "cell_type": "markdown",
     "checksum": "cc31e3b6773fd1c78eb655bf384a5dd0",
     "grade": false,
     "grade_id": "cell-092b0bb1e2def453",
     "locked": true,
     "schema_version": 3,
     "solution": false,
     "task": false
    }
   },
   "source": [
    "### Finding the roots of an (unknown) function with more than one root\n",
    "\n",
    "The hidden cell below defines a function f(x), and plots it over a given range in x.\n",
    "Compute the first three roots of f(x) to 8 significant figures.\n",
    "\n",
    "Enter your answers in the boxes below, in increasing order. The boxes will appear when you run the hidden cells below.\n"
   ]
  },
  {
   "cell_type": "code",
   "execution_count": 32,
   "metadata": {
    "deletable": false,
    "editable": false,
    "nbgrader": {
     "cell_type": "code",
     "checksum": "a4a5e1fe69ed471a68cdd3cdd2826dcc",
     "grade": false,
     "grade_id": "cell-0ad78afc9d6fa3bd",
     "locked": true,
     "schema_version": 3,
     "solution": false,
     "task": false
    },
    "tags": [
     "hide_input"
    ]
   },
   "outputs": [
    {
     "data": {
      "image/png": "[encoded data removed]",
      "text/plain": [
       "<Figure size 504x504 with 1 Axes>"
      ]
     },
     "metadata": {},
     "output_type": "display_data"
    }
   ],
   "source": [
    "def f(x):\n",
    "    return special.jv(0,x)\n",
    "\n",
    "x = np.arange(0,100,0.1)    \n",
    "fig, ax = plt.subplots(1,1, figsize=(7, 7))\n",
    "\n",
    "ax.plot(x,f(x))\n",
    "\n",
    "ax.set_xlim([0, 14])\n",
    "ax.set_ylim([-0.5, 0.75])\n",
    "ax.set_ylabel(r\"$f(x)$\")\n",
    "ax.set_xlabel(r\"$x$\")\n",
    "ax.title.set_text(r\"The function f(x). Compute its first 3 roots that are > 0\")\n",
    "ax.grid(True)\n",
    "    \n",
    "\n",
    "\n"
   ]
  },
  {
   "cell_type": "code",
   "execution_count": 33,
   "metadata": {
    "deletable": false,
    "nbgrader": {
     "cell_type": "code",
     "checksum": "1faae96460fe04b32ed15fec51364228",
     "grade": false,
     "grade_id": "cell-e44eda1b052c3eb9",
     "locked": false,
     "schema_version": 3,
     "solution": true,
     "task": false
    }
   },
   "outputs": [
    {
     "name": "stdout",
     "output_type": "stream",
     "text": [
      "F(a) is +ve\n",
      "F(a) is +ve\n",
      "F(a) is +ve\n",
      "2.4048255626112223 5.520078115165234 11.791534446179867\n"
     ]
    }
   ],
   "source": [
    "# Use this cell to implement your solution\n",
    "# YOUR CODE HERE\n",
    "\n",
    "tolerance = 10**-8\n",
    "#i\n",
    "x0 = 1\n",
    "x1 = 2.5\n",
    "\n",
    "xx1 = bisect(f,x0,x1,tolerance,returnPoints=False)\n",
    "\n",
    "#ii\n",
    "x0 = 6\n",
    "x1 = 5\n",
    "\n",
    "xx2 = bisect(f,x0,x1,tolerance,returnPoints=False)\n",
    "\n",
    "#iii\n",
    "x0 = 13\n",
    "x1 = 11\n",
    "\n",
    "xx3 = bisect(f,x0,x1,tolerance,returnPoints=False)\n",
    "\n",
    "print(xx1,xx2,xx3)\n"
   ]
  },
  {
   "cell_type": "code",
   "execution_count": 3,
   "metadata": {
    "deletable": false,
    "editable": false,
    "init_cell": true,
    "nbgrader": {
     "cell_type": "code",
     "checksum": "7d6e64ff852e0745d071449c2acb0361",
     "grade": false,
     "grade_id": "cell-4420c37571859848",
     "locked": true,
     "schema_version": 3,
     "solution": false,
     "task": false
    },
    "tags": [
     "hide_input"
    ]
   },
   "outputs": [
    {
     "data": {
      "application/vnd.jupyter.widget-view+json": {
       "model_id": "e4be88bc12934518ad7a08133ea1de22",
       "version_major": 2,
       "version_minor": 0
      },
      "text/plain": [
       "VBox(children=(HTMLMath(value='First root. (Specify the answer to 8 significant digits)', placeholder=''), Flo…"
      ]
     },
     "metadata": {},
     "output_type": "display_data"
    }
   ],
   "source": [
    "import mywidgets\n",
    "root1=mywidgets.myFloatBox('root','q1','Root 1 = ','First root. (Specify the answer to 8 significant digits)')\n",
    "root1.getWidget()\n",
    "\n"
   ]
  },
  {
   "cell_type": "code",
   "execution_count": 4,
   "metadata": {
    "deletable": false,
    "editable": false,
    "init_cell": true,
    "nbgrader": {
     "cell_type": "code",
     "checksum": "dac3d9d1206ae1f98915f3097bb372a7",
     "grade": false,
     "grade_id": "cell-5179458a9d833e9c",
     "locked": true,
     "schema_version": 3,
     "solution": false,
     "task": false
    },
    "tags": [
     "hide_input"
    ]
   },
   "outputs": [
    {
     "data": {
      "application/vnd.jupyter.widget-view+json": {
       "model_id": "1c4702755c424dd0ae63f1098350581d",
       "version_major": 2,
       "version_minor": 0
      },
      "text/plain": [
       "VBox(children=(HTMLMath(value='Second root. (Specify the answer to 8 significant digits)', placeholder=''), Fl…"
      ]
     },
     "metadata": {},
     "output_type": "display_data"
    }
   ],
   "source": [
    "root2=mywidgets.myFloatBox('root','q2','Root 2 = ','Second root. (Specify the answer to 8 significant digits)')\n",
    "root2.getWidget()"
   ]
  },
  {
   "cell_type": "code",
   "execution_count": 5,
   "metadata": {
    "deletable": false,
    "editable": false,
    "init_cell": true,
    "nbgrader": {
     "cell_type": "code",
     "checksum": "0b7d03779d9a9b84ed5b931c90808066",
     "grade": false,
     "grade_id": "cell-176dad6317501e73",
     "locked": true,
     "schema_version": 3,
     "solution": false,
     "task": false
    },
    "tags": [
     "hide_input"
    ]
   },
   "outputs": [
    {
     "data": {
      "application/vnd.jupyter.widget-view+json": {
       "model_id": "ed75dabe1d3544dd8bea32eb4d1a3380",
       "version_major": 2,
       "version_minor": 0
      },
      "text/plain": [
       "VBox(children=(HTMLMath(value='Third root. (Specify the answer to 8 significant digits)', placeholder=''), Flo…"
      ]
     },
     "metadata": {},
     "output_type": "display_data"
    }
   ],
   "source": [
    "root3=mywidgets.myFloatBox('root','q3','Root 3 = ','Third root. (Specify the answer to 8 significant digits)')\n",
    "root3.getWidget()\n"
   ]
  },
  {
   "cell_type": "code",
   "execution_count": null,
   "metadata": {
    "deletable": false,
    "editable": false,
    "nbgrader": {
     "cell_type": "code",
     "checksum": "d763c5e6c032ac73b47974f1c94ba79f",
     "grade": true,
     "grade_id": "cell-4eb90e5ddc9c6e03",
     "locked": true,
     "points": 5,
     "schema_version": 3,
     "solution": false,
     "task": false
    },
    "tags": [
     "hide_input"
    ]
   },
   "outputs": [],
   "source": []
  },
  {
   "cell_type": "markdown",
   "metadata": {
    "deletable": false,
    "editable": false,
    "nbgrader": {
     "cell_type": "markdown",
     "checksum": "4df6ac27077d0cd8a9b84113f2d727d4",
     "grade": false,
     "grade_id": "cell-0ba59195e379d061",
     "locked": true,
     "schema_version": 3,
     "solution": false,
     "task": false
    }
   },
   "source": [
    "## Testing the rate of convergence of root finders\n",
    "\n",
    "We are now going to look at the three methods and see how they compare, by finding zeroes of the function  f(x)=x−tanh(2x). The first few cells below illustrate the method. Run them to see what happens. Next you will be asked to examine the convergence for a different function."
   ]
  },
  {
   "cell_type": "code",
   "execution_count": 37,
   "metadata": {},
   "outputs": [
    {
     "name": "stderr",
     "output_type": "stream",
     "text": [
      "/opt/conda/lib/python3.6/site-packages/matplotlib/figure.py:457: UserWarning: matplotlib is currently using a non-GUI backend, so cannot show the figure\n",
      "  \"matplotlib is currently using a non-GUI backend, \"\n"
     ]
    },
    {
     "data": {
      "image/png": "[encoded data removed]",
      "text/plain": [
       "<Figure size 504x504 with 1 Axes>"
      ]
     },
     "metadata": {},
     "output_type": "display_data"
    }
   ],
   "source": [
    "# define the function and compute its derivative\n",
    "def f(x): \n",
    "    return x-np.tanh(2*x)\n",
    "def df(x): \n",
    "    return 1.0-2.0/np.cosh(2*x)**2\n",
    "\n",
    "# plot the function\n",
    "fig, ax = plt.subplots(1,1, figsize=(7, 7))\n",
    "xmin,xmax =0.1, 1.2\n",
    "xs=np.linspace(xmin,xmax,50)\n",
    "ax.plot(xs,f(xs))\n",
    "\n",
    "#ax.plot.hlines(0,xmin,xmax)\n",
    "ax.set_xlim([0.1,1.2])\n",
    "ax.set_ylim([-0.5, 0.5])\n",
    "ax.set_ylabel(r\"$f(x)$\")\n",
    "ax.set_xlabel(r\"$x$\")\n",
    "ax.title.set_text(r\"The function f(x)\")\n",
    "ax.grid(True)\n",
    "fig.show()\n",
    "\n"
   ]
  },
  {
   "cell_type": "markdown",
   "metadata": {
    "deletable": false,
    "editable": false,
    "nbgrader": {
     "cell_type": "markdown",
     "checksum": "05c25ee97aa323ad9189a8390eb1148e",
     "grade": false,
     "grade_id": "cell-eceb41a1b3f4c64f",
     "locked": true,
     "schema_version": 3,
     "solution": false,
     "task": false
    }
   },
   "source": [
    "We now use all three methods to find the root use all three methods to compute the root (that is > 0). \n",
    "We also plot the relative error versus the iteration count (the number of function evaluations), \n",
    "to examine the rate of convergence\n",
    "\n",
    "We also examine the **golden ratio** prediction for the Secant method\n"
   ]
  },
  {
   "cell_type": "code",
   "execution_count": 98,
   "metadata": {
    "deletable": false,
    "nbgrader": {
     "cell_type": "code",
     "checksum": "ee4c97bc57754064b511d790e80c5565",
     "grade": true,
     "grade_id": "cell-0c3df60bab07e63f",
     "locked": false,
     "points": 10,
     "schema_version": 3,
     "solution": true,
     "task": false
    }
   },
   "outputs": [
    {
     "name": "stdout",
     "output_type": "stream",
     "text": [
      "F(a) is +ve\n",
      "[5.42495976e-01 4.57504024e-01 1.16237606e-01 6.86509575e-02\n",
      " 3.33695508e-03 7.91463531e-05 1.01493707e-07 3.07043280e-12\n",
      " 0.00000000e+00 0.00000000e+00]\n",
      "<class 'numpy.ndarray'>\n",
      "[0.45750402407726876, 0.1162376062239665, 0.0686509575003964, 0.003336955078225512, 7.914635310291018e-05, 1.014937074383937e-07, 3.070432796903333e-12, 0.0, 0.0]\n"
     ]
    },
    {
     "name": "stderr",
     "output_type": "stream",
     "text": [
      "/opt/conda/lib/python3.6/site-packages/ipykernel_launcher.py:83: RuntimeWarning: divide by zero encountered in log\n",
      "/opt/conda/lib/python3.6/site-packages/ipykernel_launcher.py:87: RuntimeWarning: divide by zero encountered in log\n",
      "/opt/conda/lib/python3.6/site-packages/ipykernel_launcher.py:117: RuntimeWarning: divide by zero encountered in log\n",
      "/opt/conda/lib/python3.6/site-packages/ipykernel_launcher.py:122: RuntimeWarning: divide by zero encountered in log\n",
      "/opt/conda/lib/python3.6/site-packages/ipykernel_launcher.py:126: RuntimeWarning: divide by zero encountered in log\n",
      "/opt/conda/lib/python3.6/site-packages/matplotlib/figure.py:457: UserWarning: matplotlib is currently using a non-GUI backend, so cannot show the figure\n",
      "  \"matplotlib is currently using a non-GUI backend, \"\n"
     ]
    },
    {
     "data": {
      "text/plain": [
       "(-17, 0)"
      ]
     },
     "execution_count": 98,
     "metadata": {},
     "output_type": "execute_result"
    },
    {
     "data": {
      "image/png": "[encoded data removed]",
      "text/plain": [
       "<Figure size 1440x360 with 3 Axes>"
      ]
     },
     "metadata": {},
     "output_type": "display_data"
    },
    {
     "data": {
      "image/png": "[encoded data removed]",
      "text/plain": [
       "<Figure size 504x504 with 1 Axes>"
      ]
     },
     "metadata": {},
     "output_type": "display_data"
    }
   ],
   "source": [
    "def f(x): \n",
    "    return x-np.tanh(2*x)\n",
    "def df(x): \n",
    "    return 1.0-2.0/np.cosh(2*x)**2\n",
    "\n",
    "# Make two figures\n",
    "# Figure 1:\n",
    "# Make a three panel plot\n",
    "# Then, for each of the methods (NR, S & Bisection), plot the following\n",
    "# panel (a): iteration count, i, vs f(x_i)\n",
    "# panel (b): iteration count, i, vs x_i\n",
    "# panel (c): iteration count, i, vs log_10(|x_i-root|)\n",
    "#    make clear to distingsuih the methods, and add labels and legend\n",
    "#    the approach to convergence of p~anel(c) was discussed in the lecture notes, it is\n",
    "#      overplot in cyan lines that approximately fit the convergence rate for each\n",
    "\n",
    "# Figure 2:\n",
    "# make a single panel plot, to verify the \"golden ratio\" expression that characterises\n",
    "#   convergence in the case of the Secant method\n",
    "\n",
    "\n",
    "# approximate marking scheme\n",
    "# Figure 1: 6 marks\n",
    "#    each plot has labels and a legend    : 2 marks\n",
    "#    the curves look OK                   : 2 marks\n",
    "#    convergence curves are overplotted   : 2 marks\n",
    "\n",
    "# Figure 2: 4 marks\n",
    "#   panel has axis labels and a legend         : 2 marks\n",
    "#   panel demonstrates the golden ratio scaling: 2 marks\n",
    "\n",
    "# Create figure 1\n",
    "# YOUR CODE HERE\n",
    "fig, ax = plt.subplots(1, 3, figsize = (20, 5))\n",
    "\n",
    "tolerance = 1e-15\n",
    "x0 = 1.5\n",
    "x1 = 0.5\n",
    "\n",
    "\n",
    "\n",
    "x , (xs, vs) = bisect(f, x0, x1, tolerance, returnPoints=True)\n",
    "x1 , (xs1, vs1) = secant(f,x0,x1,tolerance,returnPoints=True)\n",
    "x2 , (xs2, vs2) = NewtonRaphson(f,df,x0,tolerance,returnPoints=True)\n",
    "\n",
    "\n",
    "\n",
    "\n",
    "lables = ['NewtonRaphson','Secant','Bisect']\n",
    "color = ['black','blue','pink']\n",
    "\n",
    "\n",
    "\n",
    "#i\n",
    "xx = np.arange(0,len(vs),1)\n",
    "ax[0].plot(xx, vs, color = 'red', label = 'Bisect')\n",
    "\n",
    "xx1 = np.arange(0,len(vs1),1)\n",
    "\n",
    "ax[0].plot(xx1, vs1, color = 'blue', label = 'Secant')\n",
    "\n",
    "\n",
    "\n",
    "\n",
    "\n",
    "\n",
    "\n",
    "\n",
    "\n",
    "\n",
    "\n",
    "fig, ax1 = plt.subplots(1,1, figsize=(7, 7))\n",
    "\n",
    "x_i = abs(xs1-x1)\n",
    "print(x_i)\n",
    "print(type(x_i))\n",
    "\n",
    "\n",
    "new = []\n",
    "for i in range(len(x_i)-1):\n",
    "    new.append(x_i[i+1])\n",
    "\n",
    "ax1.plot(np.log(x_i[:-1]),np.log(new), color='blue',label = 'Actual')\n",
    "#|Delta x_{i+1}| proportional to |Delta x_i|^{1.618}\n",
    "\n",
    "fit = x_i[:-1]**1.618\n",
    "ax1.plot(np.log(x_i[:-1]),np.log(fit), color='black', label = 'Fit: Golden Ratio')\n",
    "print(new)\n",
    "\n",
    "\n",
    "\n",
    "\n",
    "\n",
    "\n",
    "\n",
    "\n",
    "\n",
    "\n",
    "\n",
    "\n",
    "xx2 = np.arange(0,len(vs2),1)\n",
    "ax[0].plot(xx2, vs2, color = 'black', label = 'Newton Raphson')     \n",
    "\n",
    "#ii\n",
    "xx = np.arange(0,len(xs),1)\n",
    "ax[1].plot(xx, xs, color = 'red', label = 'Bisect')\n",
    "\n",
    "xx1 = np.arange(0,len(xs1),1)\n",
    "ax[1].plot(xx1, xs1, color = 'blue', label = 'Secant')\n",
    "\n",
    "xx2 = np.arange(0,len(xs2),1)\n",
    "ax[1].plot(xx2, xs2, color = 'black', label = 'Newton Raphson') \n",
    "\n",
    "#iii\n",
    "xs = list(map(lambda i: abs(i - x), xs))\n",
    "xx = np.arange(0,len(xs),1)\n",
    "ax[2].plot(xx, np.log(xs), color = 'red', label = 'Bisect')\n",
    "\n",
    "xs1 = list(map(lambda i: abs(i - x1), xs1))\n",
    "\n",
    "xx1 = np.arange(0,len(vs1),1)\n",
    "ax[2].plot(xx1, np.log(xs1), color = 'blue', label = 'Secant')\n",
    "\n",
    "xs2 = list(map(lambda i: abs(i - x2), xs2))\n",
    "xx2 = np.arange(0,len(vs2),1)\n",
    "ax[2].plot(xx2, np.log(xs2), color = 'black', label = 'Newton Raphson') \n",
    "\n",
    "\n",
    "ax[0].legend()\n",
    "ax[1].legend()\n",
    "ax[2].legend()\n",
    "    \n",
    "ax[0].set_ylabel(\"f(x(i))\")\n",
    "ax[0].set_xlabel(\"No. Iteration\")   \n",
    "\n",
    "ax[1].set_ylabel(\"x(i)\")\n",
    "ax[1].set_xlabel(\"No. Iteration\") \n",
    "\n",
    "ax[2].set_ylabel(r\"ln(|x(i)-Root|)   [Rad] $\")\n",
    "ax[2].set_xlabel(\"No. Iteration\") \n",
    "\n",
    "fig.show()\n",
    "\n",
    "# Notice from the plot that the way the iteration is stopped in the Newton-Raphson solver, \n",
    "#     we would need to perform one iteration more\n",
    "# Also compare the convergence rate with the expectation depending on the size of the interval (see the cyan curves)\n",
    "ax1.set_ylabel(\"log_10|Delta x_{i+1}|\")\n",
    "ax1.set_xlabel(\"log_10|Delta x_i|\") \n",
    "ax1.legend()\n",
    "ax1.set_xlim(-17,0)\n",
    "\n",
    "# Figure 2: \n",
    "#    plot log_10|Delta x_i| vs log_10|Delta x_{i+1}| for the secant method\n",
    "#    compare to the \"golden ratio\" prediction, |Delta x_{i+1}| proportional to |Delta x_i|^{1.618}\n",
    "#fig, ax1 = plt.subplots(1,1, figsize=(7, 7))\n",
    "\n",
    "#x1 , (xs1, vs1) = secant(f,x0,x1,tolerance,returnPoints=True)\n",
    "\n",
    "\n",
    "\n",
    "\n",
    "\n",
    "\n",
    "\n"
   ]
  },
  {
   "cell_type": "markdown",
   "metadata": {
    "deletable": false,
    "editable": false,
    "nbgrader": {
     "cell_type": "markdown",
     "checksum": "6fed1e88022f5fb344be27baa45763c7",
     "grade": false,
     "grade_id": "cell-967d8eaadd266426",
     "locked": true,
     "schema_version": 3,
     "solution": false,
     "task": false
    }
   },
   "source": [
    "The function $f(x)=x^5-3x^2+3$ has a root near $x=0.8$. Use the Newton-Raphson scheme to find the root,\n",
    "starting from the guess $x=-0.1$. \n",
    "\n",
    "Determine the required minimum number of iterations, $i$, (evaluations of $f(x_i)$), so that $|f(x_i)|<10^{-6}$?\n",
    "\n",
    "Use the cell below the implement your test\n",
    "\n",
    "**5 marks **\n",
    "\n"
   ]
  },
  {
   "cell_type": "code",
   "execution_count": 61,
   "metadata": {
    "deletable": false,
    "nbgrader": {
     "cell_type": "code",
     "checksum": "33bd70fb996a232867e09ff33ac45e71",
     "grade": false,
     "grade_id": "cell-c2a5b6f9aedfdcad",
     "locked": false,
     "schema_version": 3,
     "solution": true,
     "task": false
    }
   },
   "outputs": [
    {
     "name": "stdout",
     "output_type": "stream",
     "text": [
      "The root =  -0.8976329144656358 . Iterations =  12  f(X) =  -6.256634099699454e-08\n",
      "#########################################\n",
      "\n",
      "NUMBER OF ITERATIONS:  12\n",
      "\n",
      "#########################################\n"
     ]
    }
   ],
   "source": [
    "# Use this cell to compute the answer\n",
    "\n",
    "# YOUR CODE HERE\n",
    "def f(x):\n",
    "    return x**5 - 3*x**2 + 3\n",
    "\n",
    "def df(x):\n",
    "    return 5*x**4 - 6*x \n",
    "\n",
    "x0 = -0.1\n",
    "tolerance = np.linspace(10**-3,0.01,10000)\n",
    "tolerance = np.flip(tolerance)\n",
    "error = 1\n",
    "i = 0\n",
    "while error >10**-6:\n",
    "    \n",
    "    x2 , (xs2, vs2) = NewtonRaphson(f,df,x0,tolerance[i],returnPoints=True)\n",
    "    error = abs(f(x2))\n",
    "    #print(tolerance[i])\n",
    "    #print(i)\n",
    "    i += 1\n",
    "    \n",
    "    \n",
    "x2 , (xs2, vs2) = NewtonRaphson(f,df,x0,tolerance[i-1],returnPoints=True)    \n",
    "\n",
    "print('The root = ',x2, '. Iterations = ',len(xs2),' f(X) = ', f(x2))\n",
    "print('#########################################')\n",
    "print()\n",
    "print('NUMBER OF ITERATIONS: ', len(xs2))\n",
    "print()\n",
    "print('#########################################')"
   ]
  },
  {
   "cell_type": "code",
   "execution_count": 6,
   "metadata": {
    "deletable": false,
    "editable": false,
    "init_cell": true,
    "nbgrader": {
     "cell_type": "code",
     "checksum": "bcf3cba10f44cc634bd66babd0e34a4e",
     "grade": true,
     "grade_id": "cell-9e16407c55382eb0",
     "locked": true,
     "points": 5,
     "schema_version": 3,
     "solution": false,
     "task": false
    },
    "tags": [
     "hide_input"
    ]
   },
   "outputs": [
    {
     "data": {
      "text/html": [
       "<hr>"
      ],
      "text/plain": [
       "<IPython.core.display.HTML object>"
      ]
     },
     "metadata": {},
     "output_type": "display_data"
    }
   ],
   "source": [
    "from IPython.display import display, HTML\n",
    "display(HTML('<hr>'))"
   ]
  },
  {
   "cell_type": "code",
   "execution_count": null,
   "metadata": {
    "deletable": false,
    "editable": false,
    "nbgrader": {
     "cell_type": "code",
     "checksum": "31919e615f3faa539514a51fb540513a",
     "grade": true,
     "grade_id": "cell-06908e1485246933",
     "locked": true,
     "points": 5,
     "schema_version": 3,
     "solution": false,
     "task": false
    },
    "tags": [
     "hide_input"
    ]
   },
   "outputs": [],
   "source": []
  },
  {
   "cell_type": "markdown",
   "metadata": {
    "deletable": false,
    "editable": false,
    "nbgrader": {
     "cell_type": "markdown",
     "checksum": "bd2f00fcefb842343f17e76cc629ac3c",
     "grade": false,
     "grade_id": "cell-3a5cf328b20da0e4",
     "locked": true,
     "schema_version": 3,
     "solution": false,
     "task": false
    }
   },
   "source": [
    "Examine root finding for the function $f(x)=x^3+3x^2+x+1$ to answer the question below.\n",
    "\n",
    "Use the cell below to find the answers.\n",
    "\n",
    "\n",
    "**5 marks**"
   ]
  },
  {
   "cell_type": "code",
   "execution_count": 7,
   "metadata": {
    "deletable": false,
    "editable": false,
    "init_cell": true,
    "nbgrader": {
     "cell_type": "code",
     "checksum": "cdae8134b53ae409a5ae6f051a3f2906",
     "grade": false,
     "grade_id": "cell-cbd88aa3d17b261c",
     "locked": true,
     "schema_version": 3,
     "solution": false,
     "task": false
    },
    "tags": [
     "hide_input"
    ]
   },
   "outputs": [
    {
     "data": {
      "application/vnd.jupyter.widget-view+json": {
       "model_id": "6e6cdf398923484ab1aaa9ee31ab74b0",
       "version_major": 2,
       "version_minor": 0
      },
      "text/plain": [
       "VBox(children=(HTMLMath(value='Next we consider the function $f(x)=x^3+3x^2+x+1$,which of the following statem…"
      ]
     },
     "metadata": {},
     "output_type": "display_data"
    }
   ],
   "source": [
    "import mywidgets\n",
    "mcb=mywidgets.myCheckBoxSet('root','q5',\n",
    "    \"Next we consider the function $f(x)=x^3+3x^2+x+1$,\" \n",
    "                            \"which of the following statements are true for a tolerance of $10^{-6}$?\",[\n",
    "    \"The Newton-Raphson method converges for $x_0=0$ in less than 10 iterations\",\n",
    "    \"The Newton-Raphson method converges faster for $x_0=-3$ than for $x_0=-2$\",\n",
    "    \"The secant method is quicker than the bisection method with $x_0=-3$ and $x_1=-2$\"\n",
    "])\n",
    "mcb.getWidget()"
   ]
  },
  {
   "cell_type": "code",
   "execution_count": 42,
   "metadata": {
    "deletable": false,
    "nbgrader": {
     "cell_type": "code",
     "checksum": "2aad231c6325967bc50a7f4623bf8479",
     "grade": false,
     "grade_id": "cell-baa6958aea72f60d",
     "locked": false,
     "schema_version": 3,
     "solution": true,
     "task": false
    }
   },
   "outputs": [
    {
     "name": "stdout",
     "output_type": "stream",
     "text": [
      "Attempt 1: The root =  -0.41421356237309503 . Iterations =  8  f(X) =  0.0\n",
      "Attempt 2: The root =  -0.41421356237309503 . Iterations =  9  f(X) =  0.0\n",
      "\n",
      "-56 -21\n",
      "Bisection: The root =  0.9575040240772688 . Iterations =  49  f(X) =  0.08491520802386665\n",
      "Secant: The root =  -0.414213562374285 . Iterations =  11  f(X) =  -4.759970195777896e-12\n"
     ]
    }
   ],
   "source": [
    "# Use this cell to answer the questions\n",
    "# YOUR CODE HERE\n",
    "def f(x):\n",
    "    return x**3 - 3*x**2 + x +1\n",
    "\n",
    "def df(x):\n",
    "    return 3*x**2 - 6*x + 1 \n",
    "\n",
    "# For i and ii\n",
    "x0 = -2\n",
    "tolerance = 10**-9\n",
    "    \n",
    "x2 , (xs2, vs2) = NewtonRaphson(f,df,x0,tolerance,returnPoints=True)\n",
    "\n",
    "print('Attempt 1: The root = ',x2, '. Iterations = ',len(xs2),' f(X) = ', f(x2))\n",
    "\n",
    "# For ii\n",
    "x0 = -3\n",
    "tolerance = 10**-6\n",
    "    \n",
    "x2 , (xs2, vs2) = NewtonRaphson(f,df,x0,tolerance,returnPoints=True)\n",
    "\n",
    "print('Attempt 2: The root = ',x2, '. Iterations = ',len(xs2),' f(X) = ', f(x2))\n",
    "\n",
    "\n",
    "\n",
    "# For iii\n",
    "print('')\n",
    "\n",
    "x0 = -3\n",
    "x1 = -2\n",
    "\n",
    "print(f(x0),f(x1))\n",
    "tolerance = 10**-6\n",
    "    \n",
    "#x , (xs, vs) = bisect(f, x0, x1, tolerance, returnPoints=True)\n",
    "\n",
    "\n",
    "print('Bisection: The root = ',x, '. Iterations = ',len(xs),' f(X) = ', f(x))\n",
    "\n",
    "x1 , (xs1, vs1) = secant(f,x0,x1,tolerance,returnPoints=True)\n",
    "\n",
    "print('Secant: The root = ',x1, '. Iterations = ',len(xs1),' f(X) = ', f(x1))\n",
    "\n",
    "\n"
   ]
  },
  {
   "cell_type": "code",
   "execution_count": 43,
   "metadata": {
    "deletable": false,
    "editable": false,
    "nbgrader": {
     "cell_type": "code",
     "checksum": "3e32593f6353f1c761b0b30ddd738c99",
     "grade": true,
     "grade_id": "cell-85ecd5c244f3a014",
     "locked": true,
     "points": 5,
     "schema_version": 3,
     "solution": false,
     "task": false
    },
    "tags": [
     "hide_input"
    ]
   },
   "outputs": [
    {
     "data": {
      "text/html": [
       "<hr>"
      ],
      "text/plain": [
       "<IPython.core.display.HTML object>"
      ]
     },
     "metadata": {},
     "output_type": "display_data"
    }
   ],
   "source": [
    "from IPython.display import display, HTML\n",
    "display(HTML('<hr>'))"
   ]
  },
  {
   "cell_type": "markdown",
   "metadata": {
    "deletable": false,
    "editable": false,
    "nbgrader": {
     "cell_type": "markdown",
     "checksum": "e0175814c4fcc9d5e2e6e706b37aa6c3",
     "grade": false,
     "grade_id": "cell-c82bff182533cab8",
     "locked": true,
     "schema_version": 3,
     "solution": false,
     "task": false
    }
   },
   "source": [
    "## Root finding when there are many roots\n",
    "\n",
    "So far we have plotted the function to find starting points for root finding. This is not always practical: consider the case where in a larger calculation you need to find roots of a function, however the function changes during the calculation (for example it depends on a parameter that changes during the calculation). Another case is where the function has very many roots. There is no general way of finding the root(s) in such cases. However, suppose you know the interval in which you are looking for roots, say the interval $[0,1]$. We could split-up this interval in smaller intervals, find a root in each interval, and collect all the roots. We could then redo the calculation with smaller intervals. If we find the same set of roots, maybe we found all of them."
   ]
  },
  {
   "cell_type": "code",
   "execution_count": 44,
   "metadata": {},
   "outputs": [],
   "source": [
    "# Here we define the function f(x)\n",
    "def f(x):\n",
    "    return special.jv(1,x)"
   ]
  },
  {
   "cell_type": "code",
   "execution_count": 8,
   "metadata": {
    "deletable": false,
    "editable": false,
    "init_cell": true,
    "nbgrader": {
     "cell_type": "code",
     "checksum": "b58a7efe4a820a4d773349ab47d61a26",
     "grade": false,
     "grade_id": "cell-eade104720ade11a",
     "locked": true,
     "schema_version": 3,
     "solution": false,
     "task": false
    },
    "tags": [
     "hide_input"
    ]
   },
   "outputs": [
    {
     "data": {
      "application/vnd.jupyter.widget-view+json": {
       "model_id": "71678f3e66444ff59a85a6df74f74de3",
       "version_major": 2,
       "version_minor": 0
      },
      "text/plain": [
       "VBox(children=(HTMLMath(value='Enter the number of roots in interval ]0,44[', placeholder=''), IntText(value=4…"
      ]
     },
     "metadata": {},
     "output_type": "display_data"
    }
   ],
   "source": [
    "import mywidgets\n",
    "intwidget6 = mywidgets.myIntBox('root','q6','Number=','Enter the number of roots in interval ]0,44[')\n",
    "intwidget6.getWidget()\n"
   ]
  },
  {
   "cell_type": "code",
   "execution_count": 9,
   "metadata": {
    "deletable": false,
    "editable": false,
    "init_cell": true,
    "nbgrader": {
     "cell_type": "code",
     "checksum": "0c2bb235d169580abb42af8771f9697f",
     "grade": false,
     "grade_id": "cell-9584d2056d00acd9",
     "locked": true,
     "schema_version": 3,
     "solution": false,
     "task": false
    },
    "tags": [
     "hide_input"
    ]
   },
   "outputs": [
    {
     "data": {
      "application/vnd.jupyter.widget-view+json": {
       "model_id": "00008acbdcb943329b9321db61432835",
       "version_major": 2,
       "version_minor": 0
      },
      "text/plain": [
       "VBox(children=(HTMLMath(value='Largest root in this interval (Specify the answer to 5 significant digits)', pl…"
      ]
     },
     "metadata": {},
     "output_type": "display_data"
    }
   ],
   "source": [
    "root6=mywidgets.myFloatBox('root','q6','Root = ',\n",
    "                           'Largest root in this interval (Specify the answer to 5 significant digits)')\n",
    "root6.getWidget()"
   ]
  },
  {
   "cell_type": "code",
   "execution_count": 47,
   "metadata": {
    "deletable": false,
    "nbgrader": {
     "cell_type": "code",
     "checksum": "d8dec184ef26a1ab124c46356b574beb",
     "grade": false,
     "grade_id": "cell-11eec34d54cd4496",
     "locked": false,
     "schema_version": 3,
     "solution": true,
     "task": false
    }
   },
   "outputs": [
    {
     "name": "stdout",
     "output_type": "stream",
     "text": [
      "[3.83171, 7.01559, 10.17347, 13.32369, 16.47063, 19.61586, 22.76008, 25.90367, 29.04683, 32.18968, 35.33231, 38.47477, 41.61709]\n",
      "LENGTH  13\n",
      "1.1651119812544818e-05\n"
     ]
    },
    {
     "name": "stderr",
     "output_type": "stream",
     "text": [
      "/opt/conda/lib/python3.6/site-packages/ipykernel_launcher.py:44: RuntimeWarning: invalid value encountered in double_scalars\n",
      "/opt/conda/lib/python3.6/site-packages/ipykernel_launcher.py:42: RuntimeWarning: invalid value encountered in double_scalars\n"
     ]
    }
   ],
   "source": [
    "# Use this cell to obtain the answer\n",
    "\n",
    "# YOUR CODE HERE\n",
    "roots = [0]\n",
    "x = 50\n",
    "x_range = np.linspace(0,44,x)\n",
    "\n",
    "for i in range(len(x_range)):\n",
    "    x0 = x_range[i]   \n",
    "    if i<(x-1):\n",
    "        x1 = x_range[i+1]\n",
    "          \n",
    "    roots.append(secant(f,x0,x1,tolerance,returnPoints=False))\n",
    "\n",
    "    \n",
    "roots = list(np.around(np.array(roots),5))\n",
    "\n",
    "\n",
    "simple = [] \n",
    "\n",
    "for i in range(1,len(roots)):\n",
    "    if i ==0:\n",
    "        simple.append(roots[i])\n",
    "        \n",
    "    elif roots[i] != roots[i-1] and roots[i]<44 and roots[i]>0:\n",
    "        simple.append(roots[i])\n",
    "        \n",
    "\n",
    "\n",
    "ff= []\n",
    "for i in range(len(simple)):\n",
    "    ff.append(f(simple[i]))\n",
    "\n",
    "rootss=[]\n",
    "for i in range(len(ff)):\n",
    "    if abs(ff[i])<1e-5:\n",
    "        rootss.append(simple[i])\n",
    "        \n",
    "def uniq(input):\n",
    "    output = []\n",
    "    for x in input:\n",
    "        if x not in output:\n",
    "            output.append(x)\n",
    "    return output\n",
    "final = uniq(rootss)\n",
    "        \n",
    "        \n",
    "\n",
    "print(final)\n",
    "print('LENGTH ', len(final))\n",
    "print(f(41.6170))\n",
    "  "
   ]
  },
  {
   "cell_type": "code",
   "execution_count": null,
   "metadata": {
    "deletable": false,
    "editable": false,
    "nbgrader": {
     "cell_type": "code",
     "checksum": "23be83167627fbd9acdf9a28205ac202",
     "grade": true,
     "grade_id": "cell-d78134efde8c993d",
     "locked": true,
     "points": 5,
     "schema_version": 3,
     "solution": false,
     "task": false
    },
    "tags": [
     "hide_input"
    ]
   },
   "outputs": [],
   "source": []
  },
  {
   "cell_type": "markdown",
   "metadata": {
    "deletable": false,
    "editable": false,
    "nbgrader": {
     "cell_type": "markdown",
     "checksum": "6d11ca25c45787c662fdeb0731083ee3",
     "grade": false,
     "grade_id": "cell-aff9c9cdac528303",
     "locked": true,
     "schema_version": 3,
     "solution": false,
     "task": false
    }
   },
   "source": [
    "# Part 2: Numerical integration"
   ]
  },
  {
   "cell_type": "markdown",
   "metadata": {
    "deletable": false,
    "editable": false,
    "nbgrader": {
     "cell_type": "markdown",
     "checksum": "b5ba1ea75472643d8faf110238f6ad47",
     "grade": false,
     "grade_id": "cell-bfc40045588483e0",
     "locked": true,
     "schema_version": 3,
     "solution": false,
     "task": false
    }
   },
   "source": [
    "## Integration\n",
    "\n",
    "Implement the Newton-Cotes, Trapezoidal and Simpson rule integration methods in the following cells. Each integrator should take the following arguments:\n",
    "\n",
    "- `f`: the function to be integrated\n",
    "- `xmin` and `xmax`: the lower and upper limits of integration\n",
    "- `N`: the number of subdivisions of the interval, for `N` subdivisions we will evaluate the function `f` at `N+1` locations (including at `xmin` and `xmax`)  \n",
    "\n",
    "Hint: You might want to look at the function `linspace` in the numpy module... "
   ]
  },
  {
   "cell_type": "markdown",
   "metadata": {
    "deletable": false,
    "editable": false,
    "nbgrader": {
     "cell_type": "markdown",
     "checksum": "2d05c870222db9dacde220d7732315b3",
     "grade": false,
     "grade_id": "cell-5439927964ea8811",
     "locked": true,
     "schema_version": 3,
     "solution": false,
     "task": false
    }
   },
   "source": [
    "### 1) Newton-Cotes\n",
    "\n",
    "Implement the Newton-Cotes integration method in the next cell."
   ]
  },
  {
   "cell_type": "code",
   "execution_count": 48,
   "metadata": {
    "deletable": false,
    "nbgrader": {
     "cell_type": "code",
     "checksum": "1cf9715713aa464adf2eca7a1d835f16",
     "grade": false,
     "grade_id": "cell-f09f2b70177aa623",
     "locked": false,
     "schema_version": 3,
     "solution": true
    }
   },
   "outputs": [],
   "source": [
    "def NCintegrate(f,xmin,xmax,N):\n",
    "    ''' This function performs a Newton-Cotes integration of function'''\n",
    "    # YOUR CODE HERE\n",
    "    a = xmin\n",
    "    b = xmax\n",
    "    delta_x = (b-a)/N\n",
    "    \n",
    "    total = 0\n",
    "    for i in range(N):\n",
    "        tt = f(a+i*delta_x)*delta_x\n",
    "        total += tt\n",
    "        \n",
    "    return total"
   ]
  },
  {
   "cell_type": "markdown",
   "metadata": {
    "deletable": false,
    "editable": false,
    "nbgrader": {
     "cell_type": "markdown",
     "checksum": "badd2f90a1708450f9813ecb53a4a53d",
     "grade": false,
     "grade_id": "cell-25c13d1d931a11f2",
     "locked": true,
     "schema_version": 3,
     "solution": false,
     "task": false
    }
   },
   "source": [
    "The next cell tests your Newton-Cotes implementaton, by calculating the following numerical integrals, using **500** segments.\n",
    "\n",
    " - $\\int_0^1 x^{1/2}\\,{\\rm d}x$\n",
    "\n",
    " - $\\int_0^1 exp(-x^2)\\,{\\rm dx}$\n",
    "\n",
    "**5 marks**\n"
   ]
  },
  {
   "cell_type": "code",
   "execution_count": 49,
   "metadata": {
    "deletable": false,
    "editable": false,
    "nbgrader": {
     "cell_type": "code",
     "checksum": "83c47116b2a384eb3caa6e2a528f447e",
     "grade": true,
     "grade_id": "cell-513f8dcc166f16ca",
     "locked": true,
     "points": 5,
     "schema_version": 3,
     "solution": false
    },
    "tags": [
     "hide_input"
    ]
   },
   "outputs": [],
   "source": [
    "# test of the NC method\n",
    "def test_sqrt(x): return np.sqrt(x)\n",
    "def test_gauss(x): return np.exp(-x**2)\n",
    "\n",
    "# #\n",
    "# print(NCintegrate(test_gauss,0,1,500))\n",
    "# print(np.sqrt(np.pi)*special.erf(1.)/2)\n",
    "# print(NCintegrate(test_sqrt,0,1,500))\n",
    "# print(2./3.)\n",
    "# #\n",
    "\n",
    "assert np.isclose(NCintegrate(test_sqrt,0,1,500),0.665648239)\n",
    "assert np.isclose(NCintegrate(test_gauss,0,1,500),0.7474560081182616)"
   ]
  },
  {
   "cell_type": "markdown",
   "metadata": {
    "deletable": false,
    "editable": false,
    "nbgrader": {
     "cell_type": "markdown",
     "checksum": "d9eee321bc8f2e3d5c6a4bf2bb483534",
     "grade": false,
     "grade_id": "cell-3fc60e070c095cd8",
     "locked": true,
     "schema_version": 3,
     "solution": false,
     "task": false
    }
   },
   "source": [
    "### 2) Trapezoidal rule\n",
    "\n",
    "Implement the trapezoidal rule integration method in the next cell."
   ]
  },
  {
   "cell_type": "code",
   "execution_count": 50,
   "metadata": {
    "deletable": false,
    "nbgrader": {
     "cell_type": "code",
     "checksum": "6c340789998397c156e13156dcf3b9dd",
     "grade": false,
     "grade_id": "cell-5b4babb4a8ef2a2b",
     "locked": false,
     "schema_version": 3,
     "solution": true
    }
   },
   "outputs": [],
   "source": [
    "def Trapezoidal(f,xmin,xmax,N):\n",
    "    # YOUR CODE HERE\n",
    "    a = xmin\n",
    "    b = xmax\n",
    "    delta_x = (b-a)/N\n",
    "    \n",
    "    total = 0\n",
    "    for i in range(N):\n",
    "        tt = f(a+i*delta_x)*delta_x \n",
    "        total += tt\n",
    "    return total+ delta_x*0.5*(f(b)-f(a))"
   ]
  },
  {
   "cell_type": "markdown",
   "metadata": {
    "deletable": false,
    "editable": false,
    "nbgrader": {
     "cell_type": "markdown",
     "checksum": "4b73a7ac8f7ec2a1ad79e1d610585473",
     "grade": false,
     "grade_id": "cell-7f2ba92363b7df8d",
     "locked": true,
     "schema_version": 3,
     "solution": false,
     "task": false
    }
   },
   "source": [
    "The next cell tests trapezoidal rule implementaton, by calculating the following numerical integrals, using **N=500** segments\n",
    "\n",
    "  - $\\int_0^{10} \\sin(x)^{2}\\,{\\rm d}x$\n",
    "\n",
    "  - $\\int_0^1 \\exp(-x^2)\\,{\\rm dx}$\n",
    "\n",
    "**5 marks**"
   ]
  },
  {
   "cell_type": "code",
   "execution_count": 51,
   "metadata": {
    "deletable": false,
    "editable": false,
    "nbgrader": {
     "cell_type": "code",
     "checksum": "d26a6db263ed7257e4360a98927196db",
     "grade": true,
     "grade_id": "cell-bb5e254109f41241",
     "locked": true,
     "points": 5,
     "schema_version": 3,
     "solution": false
    },
    "tags": [
     "hide_input"
    ]
   },
   "outputs": [],
   "source": [
    "# test of the Trapezoidal method\n",
    "def test(x): return np.sin(x**2)\n",
    "\n",
    "# # \n",
    "# print(Trapezoidal(test_sqrt,0,1,500))\n",
    "# print(Trapezoidal(test_gauss,0,1,500))\n",
    "# #\n",
    "assert np.isclose(Trapezoidal(test_sqrt,0,1,500),0.6666482394240997)\n",
    "assert np.isclose(Trapezoidal(test_gauss,0,1,500),0.7468238875594331)"
   ]
  },
  {
   "cell_type": "markdown",
   "metadata": {
    "deletable": false,
    "editable": false,
    "nbgrader": {
     "cell_type": "markdown",
     "checksum": "64b8be7cdcad44d52b38273c2426104c",
     "grade": false,
     "grade_id": "cell-77313ce47f79016a",
     "locked": true,
     "schema_version": 3,
     "solution": false,
     "task": false
    }
   },
   "source": [
    "### 3) Simpson's rule\n",
    "\n",
    "Implement Simpson's rule integration method in the next cell."
   ]
  },
  {
   "cell_type": "code",
   "execution_count": 52,
   "metadata": {
    "deletable": false,
    "nbgrader": {
     "cell_type": "code",
     "checksum": "0b5a81bc9ccdecb3931eb5f21d4271f9",
     "grade": false,
     "grade_id": "cell-75a83b9700b0fecb",
     "locked": false,
     "schema_version": 3,
     "solution": true
    }
   },
   "outputs": [],
   "source": [
    "def Simpson(f,xmin,xmax,N):\n",
    "    # YOUR CODE HERE]\n",
    "    total = 0\n",
    "    p = 4\n",
    "    a = xmin\n",
    "    b = xmax\n",
    "    delta_x = (b-a)/N\n",
    "    for i in range(1,N):\n",
    "        if i%2 == 0:\n",
    "            p=2\n",
    "        else:\n",
    "            p=4\n",
    "            \n",
    "        total += p*f(xmin + i*delta_x)\n",
    "        \n",
    "    return (total+f(xmin)+f(xmax))*delta_x/3\n",
    "        \n",
    "    "
   ]
  },
  {
   "cell_type": "markdown",
   "metadata": {},
   "source": [
    "The next cell tests your Simpson's rule implementation, using **N=500** segments.\n",
    "**N needs to be even**\n",
    "\n",
    "  - $\\int_2^{5} 1/x\\,{\\rm d}x$\n",
    "\n",
    "  - $\\int_0^1 exp(-x^2)\\,{\\rm dx}$\n",
    "\n",
    "**5 marks **"
   ]
  },
  {
   "cell_type": "code",
   "execution_count": 53,
   "metadata": {
    "deletable": false,
    "editable": false,
    "nbgrader": {
     "cell_type": "code",
     "checksum": "7630491b7a1d0de22027d65f090c401d",
     "grade": true,
     "grade_id": "cell-57baf4f587d92cd1",
     "locked": true,
     "points": 5,
     "schema_version": 3,
     "solution": false
    },
    "tags": [
     "hide_input"
    ]
   },
   "outputs": [],
   "source": [
    "def test_oneover(x): return 1.0/x\n",
    "\n",
    "#\n",
    "# print(Simpson(test_oneover,2,5,500))\n",
    "# print(np.log(5/2))\n",
    "# print(Simpson(test_gauss,0,1,500))\n",
    "#\n",
    "assert np.isclose(Simpson(test_oneover,2,5,500),0.9162907318767844)\n",
    "assert np.isclose(Simpson(test_gauss,0,1,500),0.7468241328125584)"
   ]
  },
  {
   "cell_type": "markdown",
   "metadata": {
    "deletable": false,
    "editable": false,
    "nbgrader": {
     "cell_type": "markdown",
     "checksum": "1c709a5ecea1b165c7054a071d870a80",
     "grade": false,
     "grade_id": "cell-79cd33fde6ccec43",
     "locked": true,
     "schema_version": 3,
     "solution": false,
     "task": false
    }
   },
   "source": [
    "### 4) Test of integration\n",
    "\n",
    "Integate the function $f$, defined below, over the interval $[0,10]$. Enter your answer in the box below.\n",
    "It should be accurate to 7 significant digits."
   ]
  },
  {
   "cell_type": "code",
   "execution_count": 54,
   "metadata": {
    "tags": [
     "hide_input"
    ]
   },
   "outputs": [
    {
     "name": "stderr",
     "output_type": "stream",
     "text": [
      "/opt/conda/lib/python3.6/site-packages/matplotlib/figure.py:457: UserWarning: matplotlib is currently using a non-GUI backend, so cannot show the figure\n",
      "  \"matplotlib is currently using a non-GUI backend, \"\n"
     ]
    },
    {
     "data": {
      "image/png": "[encoded data removed]",
      "text/plain": [
       "<Figure size 1080x504 with 1 Axes>"
      ]
     },
     "metadata": {},
     "output_type": "display_data"
    }
   ],
   "source": [
    "# Function to be integrated\n",
    "def f(x):\n",
    "    return np.exp(special.jv(3,x)) * special.jv(0,4*x)\n",
    "a   = 0\n",
    "b   = 10\n",
    "\n",
    "fig, ax = plt.subplots(1,1, figsize=(15, 7))\n",
    "\n",
    "ax.set_xlim([0, 10])\n",
    "ax.set_ylim([-0.5, 1.0])\n",
    "ax.set_ylabel(r\"$f(x)$\")\n",
    "ax.set_xlabel(r\"$x$\")\n",
    "ax.title.set_text(r\"The function f(x)\")\n",
    "\n",
    "x   = np.arange(a,b,b/100)\n",
    "ax.plot(x, f(x))\n",
    "fig.show()"
   ]
  },
  {
   "cell_type": "code",
   "execution_count": 10,
   "metadata": {
    "init_cell": true,
    "tags": [
     "hide_input"
    ]
   },
   "outputs": [
    {
     "data": {
      "application/vnd.jupyter.widget-view+json": {
       "model_id": "d15308923b7341c9a096e66e4589bb3a",
       "version_major": 2,
       "version_minor": 0
      },
      "text/plain": [
       "VBox(children=(HTMLMath(value='Result of numerical integration. Specify the answer to 7 significant digits', p…"
      ]
     },
     "metadata": {},
     "output_type": "display_data"
    }
   ],
   "source": [
    "import mywidgets\n",
    "int_test = mywidgets.myFloatBox('integration','q1','Integral','Result of numerical integration. Specify the answer to 7 significant digits')\n",
    "int_test.getWidget()"
   ]
  },
  {
   "cell_type": "code",
   "execution_count": 56,
   "metadata": {
    "deletable": false,
    "nbgrader": {
     "cell_type": "code",
     "checksum": "4d2072bf4e7d1dd7ffc00aa0a80335aa",
     "grade": false,
     "grade_id": "cell-a434d0160b1c4e9a",
     "locked": false,
     "schema_version": 3,
     "solution": true,
     "task": false
    }
   },
   "outputs": [
    {
     "name": "stdout",
     "output_type": "stream",
     "text": [
      "0.2835267455586458\n"
     ]
    }
   ],
   "source": [
    "# Use this cell to calculate your answer\n",
    "print(Simpson(f,a,b,100000))\n",
    "# YOUR CODE HERE\n"
   ]
  },
  {
   "cell_type": "code",
   "execution_count": 57,
   "metadata": {
    "deletable": false,
    "editable": false,
    "nbgrader": {
     "cell_type": "code",
     "checksum": "91c3d925bc20940e08a08aaad3e1eb90",
     "grade": true,
     "grade_id": "cell-ffde85fa1555009e",
     "locked": true,
     "points": 5,
     "schema_version": 3,
     "solution": false,
     "task": false
    },
    "tags": [
     "hide_input"
    ]
   },
   "outputs": [],
   "source": [
    "# HIDDEN TESTS\n",
    "answer   = 0.2835267523610387                   # correct answer\n",
    "reply    = int_test.widgets[0].value            # student's answer\n",
    "accuracy = np.abs(reply-answer)/answer * 1e6    # relative error\n",
    "# print(reply, answer, accuracy)\n",
    "assert np.isclose(accuracy,0,atol=1)"
   ]
  },
  {
   "cell_type": "markdown",
   "metadata": {
    "deletable": false,
    "editable": false,
    "nbgrader": {
     "cell_type": "markdown",
     "checksum": "900ad012735fbaa39e5637892dc52ea8",
     "grade": false,
     "grade_id": "cell-ed286f17953a7a14",
     "locked": true,
     "schema_version": 3,
     "solution": false,
     "task": false
    }
   },
   "source": [
    "# Part 3: Numerical differentiation\n",
    "\n",
    "We will experiment with two python routines to obtain numerical derivatives. One uses numpy.gradient, the other fits the function with a spline, in whcih can you can compute the derivative of the spline. The next cell illustrates their use.\n"
   ]
  },
  {
   "cell_type": "code",
   "execution_count": 58,
   "metadata": {},
   "outputs": [
    {
     "name": "stderr",
     "output_type": "stream",
     "text": [
      "/opt/conda/lib/python3.6/site-packages/matplotlib/figure.py:457: UserWarning: matplotlib is currently using a non-GUI backend, so cannot show the figure\n",
      "  \"matplotlib is currently using a non-GUI backend, \"\n"
     ]
    },
    {
     "data": {
      "image/png": "[encoded data removed]",
      "text/plain": [
       "<Figure size 1440x504 with 2 Axes>"
      ]
     },
     "metadata": {},
     "output_type": "display_data"
    }
   ],
   "source": [
    "# Example of numerical differentiation. Here we use a function with a known derivative - as a test\n",
    "\n",
    "# The function f(x)\n",
    "def f(x):\n",
    "    return np.exp(-(x/4)**2) * np.sin(x)\n",
    "\n",
    "# Its analytical derivative\n",
    "def dfx(x):\n",
    "    return (-2*x/4**2 * np.sin(x) + np.cos(x)) * np.exp(-(x/4)**2)\n",
    "\n",
    "# values of x\n",
    "x = np.arange(0, 10, 0.1)\n",
    "\n",
    "# first method: using np.gradient\n",
    "vals  = f(x)\n",
    "dfdx1 = np.gradient(vals, x)\n",
    "\n",
    "# second method: using spline fitting\n",
    "from scipy.interpolate import UnivariateSpline         # import the scipy routine\n",
    "spl            = UnivariateSpline(x, vals, k=4, s=0)   # create spline fit\n",
    "dfdx2_func     = spl.derivative(n=1)                   # create the first derivative of the spline\n",
    "dfdx2          = dfdx2_func(x)                         #    and evaluate it at the x-values t\n",
    "\n",
    "fig, ax = plt.subplots(1, 2, figsize=(20, 7))\n",
    "\n",
    "\n",
    "\n",
    "ax[0].plot(x, f(x))\n",
    "\n",
    "ax[0].set_xlim([0, 10])\n",
    "#ax.set_ylim([-0.5, 1.0])\n",
    "ax[0].set_ylabel(r\"$f(x)$\")\n",
    "ax[0].set_xlabel(r\"$x$\")\n",
    "ax[0].title.set_text(r\"The function f(x)\")\n",
    "\n",
    "ax[1].set_xlim([0,10])\n",
    "ax[1].plot(x, dfx(x), color='blue', label='analytical')\n",
    "#\n",
    "ax[1].plot(x[0:-1:10], dfdx1[0:-1:10], 'D', color='red', label='np.gradient')\n",
    "\n",
    "#\n",
    "ax[1].plot(x[4:-1:10], dfdx2[4:-1:10], 'o', color='cyan', label='using spline fit')\n",
    "\n",
    "ax[1].set_ylabel(r\"$f'(x)$\")\n",
    "ax[1].set_xlabel(r\"$x$\")\n",
    "ax[1].legend()\n",
    "ax[1].title.set_text(r\"The function $f'(x)$\")\n",
    "\n",
    "fig.show()"
   ]
  },
  {
   "cell_type": "markdown",
   "metadata": {
    "deletable": false,
    "editable": false,
    "nbgrader": {
     "cell_type": "markdown",
     "checksum": "530d0e8fd5b6ccf21eb705a2bce3bc3b",
     "grade": false,
     "grade_id": "cell-4a6643288a5c414a",
     "locked": true,
     "schema_version": 3,
     "solution": false,
     "task": false
    }
   },
   "source": [
    "## Play area: Convergence rates\n",
    "\n",
    "We compare the convergence rates of the integrators.\n",
    "\n",
    "This part has no assignment, it is only a place to play. In the following cells we implement higher order integration routines. We use these to compute the numerical integral of some functions, varying the number of segments. This allows you to contrast the rate of convergence of the schemes.\n",
    "\n",
    "Run the cells below. Can you provide a rule of thumb to the question: ** does the functional shape determine which integrator gives the most accurate answer for a given number of function evaluations**?\n",
    "\n"
   ]
  },
  {
   "cell_type": "code",
   "execution_count": 59,
   "metadata": {},
   "outputs": [],
   "source": [
    "# Define third, fourth and fifth-order integrators\n",
    "from itertools import cycle\n",
    "\n",
    "def i3(f,xmin,xmax,Nin):\n",
    "    N=Nin-(Nin%4)\n",
    "    xs=np.linspace(xmin,xmax,N+1)\n",
    "    dx=(xmax-xmin)/float(N)\n",
    "    fs=f(xs)\n",
    "    c=cycle([14,32,12,32])\n",
    "    l=list(next(c) for i in range(N))\n",
    "    l.append(7)\n",
    "    l[0]=7\n",
    "    coeffs=np.array(l)\n",
    "    return dx*sum(fs*coeffs)*2.0/45.0\n",
    "\n",
    "def i4(f,xmin,xmax,Nin):\n",
    "    N=Nin-(Nin%5)\n",
    "    xs=np.linspace(xmin,xmax,N+1)\n",
    "    dx=(xmax-xmin)/float(N)\n",
    "    fs=f(xs)\n",
    "    c=cycle([38,75,50,50,75])\n",
    "    l=list(next(c) for i in range(N))\n",
    "    l.append(19)\n",
    "    l[0]=19\n",
    "    coeffs=np.array(l)\n",
    "    return dx*sum(fs*coeffs)*5.0/288.0\n",
    "def i5(f,xmin,xmax,Nin):\n",
    "    N=Nin-(Nin%6)\n",
    "    xs=np.linspace(xmin,xmax,N+1)\n",
    "    dx=(xmax-xmin)/float(N)\n",
    "    fs=f(xs)\n",
    "    c=cycle([82,216,27,272,27,216])\n",
    "    l=list(next(c) for i in range(N))\n",
    "    l.append(41)\n",
    "    l[0]=41\n",
    "    coeffs=np.array(l)\n",
    "    return dx*sum(fs*coeffs)*1.0/140.0"
   ]
  },
  {
   "cell_type": "code",
   "execution_count": null,
   "metadata": {},
   "outputs": [],
   "source": [
    "# for each method, run the integrator for a range of step sizes, and compute the error\n",
    "# make a plot contasting the convergence with increasing number of steps, N\n",
    "methods=[\n",
    "    (NCintegrate,'NC'),\n",
    "    (Trapezoidal,'Trap'),\n",
    "    (Simpson,'Simpson'),\n",
    "    (i3,'cubic'),\n",
    "    (i4,'quartic'),\n",
    "    (i5,'5th order')\n",
    "]\n",
    "\n",
    "def makeErrorPlot(f,xmin,xmax,trueValue):\n",
    "    '''This function plots the error as a function of the number of subdivisions for the \n",
    "       integration methods defined above.'''    \n",
    "    def error(IntFn,N):\n",
    "        est=IntFn(f,xmin,xmax,N)\n",
    "        return abs(est-trueValue)\n",
    "\n",
    "    Ns=[4**n for n in range(3,12)]\n",
    "    for (fn,label) in methods:    \n",
    "        errors=[error(fn,N) for N in Ns]\n",
    "        plt.plot(Ns,errors,label=label)\n",
    "    plt.xscale('log')\n",
    "    plt.yscale('log')\n",
    "    plt.xlabel(r'$N$')\n",
    "    plt.ylabel('error')\n",
    "    plt.legend()"
   ]
  },
  {
   "cell_type": "code",
   "execution_count": null,
   "metadata": {},
   "outputs": [],
   "source": [
    "# f(x) = x^7: higher-order methods converge much faster\n",
    "def xto7(x):\n",
    "    return x**7\n",
    "\n",
    "makeErrorPlot(xto7,0.0,1.0,0.125)"
   ]
  },
  {
   "cell_type": "code",
   "execution_count": null,
   "metadata": {},
   "outputs": [],
   "source": [
    "# f(x)=2-4x: not surprisingly, higher order schemes all converge at the same rate for this linear function\n",
    "def linear(x):\n",
    "    return 2.0-4.0*x \n",
    "makeErrorPlot(linear,0.0,1.0,0)"
   ]
  },
  {
   "cell_type": "code",
   "execution_count": null,
   "metadata": {},
   "outputs": [],
   "source": [
    "# f(x) = 2-4x+3x^2: again, once method is of high enough order, all converge at the same rate. Note the onset of round-off errors set\n",
    "def quadratic(x):\n",
    "    return 2.0-4.0*x+3.0*x**2 \n",
    "makeErrorPlot(quadratic,0.0,1.0,1.0)"
   ]
  },
  {
   "cell_type": "code",
   "execution_count": null,
   "metadata": {},
   "outputs": [],
   "source": [
    "def discontinous(x):\n",
    "    return x*np.sin(x)/abs(np.sin(x))\n",
    "\n",
    "xs=np.linspace(1,1+10*np.pi,2000)\n",
    "plt.plot(xs,discontinous(xs))"
   ]
  },
  {
   "cell_type": "code",
   "execution_count": null,
   "metadata": {},
   "outputs": [],
   "source": [
    "# If the function is discontinuous, going to high-orders does not improve convergence\n",
    "makeErrorPlot(discontinous,1,1+10*np.pi,5*(2*np.pi-np.pi**2))"
   ]
  },
  {
   "cell_type": "code",
   "execution_count": null,
   "metadata": {},
   "outputs": [],
   "source": [
    "def complicated(x):\n",
    "    return np.sqrt(x+np.cos(5*x)**2)/(1+(x-0.3)**2)\n",
    "\n",
    "makeErrorPlot(complicated,0.0,1.0,0.85683203415819954517417626994)"
   ]
  },
  {
   "cell_type": "code",
   "execution_count": null,
   "metadata": {},
   "outputs": [],
   "source": [
    "def exponential(x):\n",
    "    return np.exp(x)\n",
    "\n",
    "makeErrorPlot(exponential,0.0,1.0,np.exp(1)-1)"
   ]
  },
  {
   "cell_type": "code",
   "execution_count": null,
   "metadata": {},
   "outputs": [],
   "source": [
    "def exponential2(x):\n",
    "    return np.exp(1.0/x)/(x**2)\n",
    "\n",
    "makeErrorPlot(exponential2,1.0,4.0,-np.exp(1.0/4.0)+np.exp(1.0))"
   ]
  },
  {
   "cell_type": "code",
   "execution_count": null,
   "metadata": {},
   "outputs": [],
   "source": [
    "def sqrt1(x):\n",
    "    return np.sqrt(1.0-x**2)\n",
    "\n",
    "makeErrorPlot(sqrt1,0.0,1.0,np.pi/4.0)"
   ]
  },
  {
   "cell_type": "code",
   "execution_count": null,
   "metadata": {},
   "outputs": [],
   "source": []
  },
  {
   "cell_type": "code",
   "execution_count": null,
   "metadata": {},
   "outputs": [],
   "source": []
  }
 ],
 "metadata": {
  "kernelspec": {
   "display_name": "Python 3",
   "language": "python",
   "name": "python3"
  },
  "language_info": {
   "codemirror_mode": {
    "name": "ipython",
    "version": 3
   },
   "file_extension": ".py",
   "mimetype": "text/x-python",
   "name": "python",
   "nbconvert_exporter": "python",
   "pygments_lexer": "ipython3",
   "version": "3.6.3"
  }
 },
 "nbformat": 4,
 "nbformat_minor": 2
}
