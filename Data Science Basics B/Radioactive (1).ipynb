{
 "cells": [
  {
   "cell_type": "code",
   "execution_count": 5,
   "metadata": {
    "deletable": false,
    "editable": false,
    "init_cell": true,
    "nbgrader": {
     "cell_type": "code",
     "checksum": "935e78770509bfb2c948018e9f73f631",
     "grade": false,
     "grade_id": "cell-98fb230769097d5c",
     "locked": true,
     "schema_version": 3,
     "solution": false,
     "task": false
    }
   },
   "outputs": [],
   "source": [
    "# Import some libraries from python and set some defaults\n",
    "%matplotlib inline\n",
    "import numpy as np\n",
    "import matplotlib.pyplot as plt\n",
    "from matplotlib import rc\n",
    "import matplotlib.image as mpimg\n",
    "import sys\n",
    "import os\n",
    "import time\n",
    "sys.path.append(os.getcwd())\n",
    "# from scipy.interpolate import CubicSpline\n",
    "import pickle\n",
    "import copy\n",
    "from DEq_Solver import DEq_Solver\n",
    "plt.rcParams.update({'font.size': 17})\n",
    "params = {'axes.labelsize': 16, 'axes.titlesize': 16}\n",
    "plt.rcParams.update(params)\n",
    "rc('animation', html='html5')"
   ]
  },
  {
   "cell_type": "code",
   "execution_count": 6,
   "metadata": {
    "deletable": false,
    "editable": false,
    "init_cell": true,
    "nbgrader": {
     "cell_type": "code",
     "checksum": "113bf88fb95e10270998f9aa22e218d7",
     "grade": false,
     "grade_id": "cell-a2e40c40cc645dbf",
     "locked": true,
     "schema_version": 3,
     "solution": false,
     "task": false
    },
    "tags": [
     "hide_input"
    ]
   },
   "outputs": [],
   "source": [
    "from ipywidgets import widgets, interact, interactive, fixed\n",
    "from ipywidgets import Button, HBox, VBox\n",
    "import shelve\n",
    "assessmentName=\"test\";\n",
    "import os\n",
    "\n",
    "def get_last_value(key):\n",
    "    if os.path.isfile('.choices.shelve') or os.path.isfile('.choices.shelve.dir'):\n",
    "        s=shelve.open('.choices.shelve')\n",
    "        return s.get(key,None)\n",
    "    return None\n",
    "\n",
    "\n",
    "class myRadioButton:\n",
    "    def __init__(self,name,description,options):\n",
    "        self.name=name\n",
    "        self.options=options\n",
    "        self.description=description\n",
    "    def getWidget(self):\n",
    "        def on_value_change(change):\n",
    "            s=shelve.open('.choices.shelve')\n",
    "            key=self.getKey()\n",
    "            s[key]=change['new']\n",
    "            s.close()\n",
    "\n",
    "        self.widget=widgets.RadioButtons(\n",
    "            options=self.options,\n",
    "            value=get_last_value(self.getKey()),\n",
    "            description=self.description,\n",
    "            disabled=False\n",
    "        )\n",
    "        self.widget.observe(on_value_change, names='value')\n",
    "\n",
    "        return self.widget\n",
    "    def getKey(self):\n",
    "        return '{0}_{1}'.format(assessmentName,self.name)\n",
    "        \n",
    "        \n",
    "def on_value_change(change):\n",
    "                s=shelve.open('.choices.shelve')\n",
    "                key='{0}_{1}_{2}'.format(assessmentName,self.name,i)\n",
    "                s[key]=change['new']\n",
    "                s.close()\n",
    "\n",
    "def make_value_change_fn(assessmentName,name,i):\n",
    "        def fn(change):\n",
    "            s=shelve.open('.choices.shelve')\n",
    "            key='{0}_{1}_{2}'.format(assessmentName,name,i)\n",
    "            s[key]=change['new']\n",
    "            s.close()\n",
    "        return fn\n",
    "\n",
    "class myCheckBoxSet:\n",
    "    def __init__(self,name,description,options):\n",
    "        self.name=name\n",
    "        self.options=options\n",
    "        self.description=description\n",
    "    def getWidget(self):\n",
    "        keys=['{0}_{1}_{2}'.format(assessmentName,self.name,i) for i in range(len(self.options))]    \n",
    "        self.widgets=[ widgets.Checkbox(value=get_last_value(key),\n",
    "    description=o,\n",
    "    disabled=False\n",
    "        ) for key,o in zip(keys,self.options)]\n",
    "        \n",
    "        txt=widgets.HTMLMath(\n",
    "            value=self.description,\n",
    "            placeholder='',\n",
    "            description='',\n",
    "        )\n",
    "\n",
    "        \n",
    "        self.widget=VBox([txt]+self.widgets)\n",
    "        for i,w in enumerate(self.widgets):\n",
    "            w.observe(make_value_change_fn(assessmentName,self.name,i), names='value')\n",
    "\n",
    "        return self.widget"
   ]
  },
  {
   "cell_type": "markdown",
   "metadata": {
    "deletable": false,
    "editable": false,
    "nbgrader": {
     "cell_type": "markdown",
     "checksum": "5e50cf3a48428ec30fccff26a61478f5",
     "grade": false,
     "grade_id": "cell-ee93994aafaf65f8",
     "locked": true,
     "schema_version": 3,
     "solution": false,
     "task": false
    }
   },
   "source": [
    "# Preamble: workshop notebooks\n",
    "\n",
    "Work through this notebook cell by cell.\n",
    "\n",
    "When working on your solution, you can save the notebook as many times as you like. You can also submit \n",
    "as many times as you like. In fact, it is a good idea to save and submit often.\n",
    "\n",
    "**Validate** the notebook before submitting. Use the *validate* button in the browser\n",
    "\n",
    "**Do not copy or delete one of the original cells**. Doing so means you cannot validate the notebook.\n",
    "If required, *create a new cell*, and copy the *contents* of another cell.\n",
    "\n",
    "\n",
    "**Only the last submission before the deadline** will be marked.\n",
    "Note that you have to **submit** at least once for your work to be marked.\n",
    "\n",
    "\n",
    "\n"
   ]
  },
  {
   "cell_type": "markdown",
   "metadata": {
    "deletable": false,
    "editable": false,
    "nbgrader": {
     "cell_type": "markdown",
     "checksum": "c98991ce1d0b1c4e2f3460957f293360",
     "grade": false,
     "grade_id": "cell-8e8189e6f1bc29b8",
     "locked": true,
     "schema_version": 3,
     "solution": false,
     "task": false
    }
   },
   "source": [
    "The notebook contains cells with code. Some of the code is (intentionally) missing. Please insert appropriate code below the line 'YOUR CODE HERE'. Cells which do not contain any 'YOUR CODE HERE' lines will allow you to test your code; if they return an error there is something wrong with your implementation; if they do not return an error your code might be correct (it is unfortunately not possible to check for every possible error).\n",
    "\n",
    "Note:\n",
    "  - simply add numerical value in a dropbox for it to get marked\n",
    "  \n",
    "  - when asked for true/false in a box: \n",
    "      - ticking a box means True\n",
    "      - not ticking (or ticking an even number of times) yields False \n",
    "\n"
   ]
  },
  {
   "cell_type": "markdown",
   "metadata": {
    "deletable": false,
    "editable": false,
    "nbgrader": {
     "cell_type": "markdown",
     "checksum": "7393841c6b3a199fb14b1bf8e7995159",
     "grade": false,
     "grade_id": "cell-7849d038086926af",
     "locked": true,
     "schema_version": 3,
     "solution": false,
     "task": false
    }
   },
   "source": [
    "# Workshop I: Radioactive decay\n",
    "\n",
    "In this exercise we will solve numerically the equation for radioactive decay of isotope A to isotope B and compare the numerical result to its analytical counterpart. We will use Euler's method.\n",
    "\n",
    "As a second step we will generalize the solver to deal with three elements, where isotope A decays to isotope B and isotope B decays to isotope C. \n",
    "\n",
    "Total marks for this assignment is 10.\n",
    "\n",
    "Note:\n",
    "  - simply add numerical value in a dropbox for it to get marked\n",
    "  \n",
    "  - when asked for true/false in a box: \n",
    "      - ticking a box means True\n",
    "      - not ticking (or ticking an even number of times) yields False \n",
    "\n"
   ]
  },
  {
   "cell_type": "markdown",
   "metadata": {
    "deletable": false,
    "editable": false,
    "nbgrader": {
     "cell_type": "markdown",
     "checksum": "d8324e67a872fd607b941b9bcbd66df5",
     "grade": false,
     "grade_id": "cell-7cd18e0222d98da0",
     "locked": true,
     "schema_version": 3,
     "solution": false,
     "task": false
    }
   },
   "source": [
    "## Euler's method\n",
    "\n",
    "Euler's method for solving the first order DE\n",
    "\n",
    "\n",
    "$\\frac{{\\rm d}x}{{\\rm d}t} = f(x,t)$\n",
    "\n",
    "is\n",
    "\n",
    "$x^{n+1} = x^{n} + f(x^n,t^n)\\,\\Delta t$.\n",
    "\n",
    "We begin by implementing a routine, ``makeStep``, that implements this time integration, and test it in the special case where\n",
    "$f(x,t)$ is a constant.\n",
    "\n"
   ]
  },
  {
   "cell_type": "markdown",
   "metadata": {
    "deletable": false,
    "editable": false,
    "nbgrader": {
     "cell_type": "markdown",
     "checksum": "00f838bba35ba4e2e1e1afd01948a552",
     "grade": false,
     "grade_id": "cell-dc6597f7a959eda0",
     "locked": true,
     "schema_version": 3,
     "solution": false,
     "task": false
    }
   },
   "source": [
    "This is where we define the Euler solver. The class Euler Solver below is derived from the more general DEq_Solver class (see DEq_Solver.py in the same directory). This means that the resulting EulerSolver class features all the methods defined in DEq_Solver as well as the additional EulerSolver methods which you are supposed to complete below. \n",
    "\n",
    "Implement the makeStep(self) function. Within this function you have access to \n",
    "\n",
    "- the current coordinates array as ``self.x``\n",
    "- the current time as ``self.t``\n",
    "- the derivative $dx/dt$ as ``self.kernel.dx_dt(self.x,self.t)``\n",
    "- the timestep as ``self.delta_t``\n",
    "\n",
    "the function ``makeStep`` has to update ``self.x`` and ``self.t``.\n",
    " \n",
    "**3 marks** "
   ]
  },
  {
   "cell_type": "code",
   "execution_count": 8,
   "metadata": {
    "deletable": false,
    "nbgrader": {
     "cell_type": "code",
     "checksum": "21f88a4555b7ef330369eba2744b7ea1",
     "grade": false,
     "grade_id": "cell-d8aabd8211ad6321",
     "locked": false,
     "schema_version": 3,
     "solution": true
    }
   },
   "outputs": [],
   "source": [
    "class EulerSolver(DEq_Solver):\n",
    "    def __init__(self,kernel):\n",
    "        self.kernel  = kernel\n",
    "    def makeStep(self):\n",
    "        #self.t += self.delta_t\n",
    "        ### update the position self.x, given dx_dt=self.kernel.dx_dt(self.x, self.t) and the timestep, self.delta_t\n",
    "        ### and the tinestep\n",
    "        self.x += 0.0\n",
    "        # YOUR CODE HERE\n",
    "        self.x = self.x + self.kernel.dx_dt(self.x, self.t)*self.delta_t\n",
    "        self.t += self.delta_t "
   ]
  },
  {
   "cell_type": "markdown",
   "metadata": {},
   "source": [
    "These two cells test your implementation of the ``makeStep`` routine."
   ]
  },
  {
   "cell_type": "code",
   "execution_count": 9,
   "metadata": {
    "deletable": false,
    "editable": false,
    "nbgrader": {
     "cell_type": "code",
     "checksum": "cc8ae13f162e55c9d0bbc629470ae02b",
     "grade": true,
     "grade_id": "cell-2b12a87bf0144c9b",
     "locked": true,
     "points": 1,
     "schema_version": 3,
     "solution": false
    }
   },
   "outputs": [],
   "source": [
    "class ConstantSpeedKernel:\n",
    "    def dx_dt(x,t):\n",
    "        return 2.3\n",
    "d=EulerSolver(ConstantSpeedKernel)\n",
    "x0=np.array([0.0])\n",
    "t0=0\n",
    "t1=10\n",
    "delta_t=0.1\n",
    "d.initialise(x0,t0,t1,delta_t)\n",
    "\n",
    "# test 20 steps\n",
    "for i in range(20):\n",
    "    d.makeStep()\n",
    "assert np.isclose(d.x,np.array([ 4.6]))"
   ]
  },
  {
   "cell_type": "code",
   "execution_count": 10,
   "metadata": {
    "deletable": false,
    "editable": false,
    "nbgrader": {
     "cell_type": "code",
     "checksum": "b9e91c98d016103c6e4f045daabb9383",
     "grade": true,
     "grade_id": "cell-0856885444e882ac",
     "locked": true,
     "points": 2,
     "schema_version": 3,
     "solution": false
    }
   },
   "outputs": [],
   "source": [
    "class testKernel:\n",
    "    def dx_dt(x,t):\n",
    "        return sum(x)*np.ones_like(x)\n",
    "    \n",
    "d=EulerSolver(testKernel)\n",
    "x0=np.array([1.0,2.0,3.0])\n",
    "t0=0\n",
    "t1=10\n",
    "delta_t=0.1\n",
    "d.initialise(x0,t0,t1,delta_t)\n",
    "\n",
    "for i in range(10):\n",
    "    d.makeStep()\n",
    "\n",
    "assert np.isclose(d.x,np.array([ 26.57169837,  27.57169837,  28.57169837])).all()"
   ]
  },
  {
   "cell_type": "markdown",
   "metadata": {
    "deletable": false,
    "editable": false,
    "nbgrader": {
     "cell_type": "markdown",
     "checksum": "7b89981c73babee39dc75894c81f5b58",
     "grade": false,
     "grade_id": "cell-14ab654577031e46",
     "locked": true,
     "schema_version": 3,
     "solution": false,
     "task": false
    }
   },
   "source": [
    "## Radioactive decay\n",
    "\n",
    "We use the ``EulerSolver`` routine to calculate the radioactive decay of isotope A. \n",
    "The mathematical model describing the radioactive decay of A to B is \n",
    "\n",
    "$$  \\frac{{\\rm d}N_A}{{\\rm d}t} = -\\frac{N_A}{\\tau} $$\n",
    "\n",
    "We will use the solver above but we now need to provide the kernel for this \n",
    "specific case -- that is we have to provide the function $f$ in the \"canonical form\"\n",
    "\n",
    "$$  \\frac{{\\rm d}x_i}{{\\rm d}t} = f_i(x_i,t)$$\n",
    "\n",
    "\n",
    "that is used in the lecture for describing differential equations of order one and their solution. To this end, the method\n",
    "\n",
    "   ``dx_dt(self,x,t)``\n",
    "\n",
    " needs to be modified. \n",
    " \n",
    "In this case we know the analytical solution so we can compare our numerical result with the analytical formula that you need to implement in ``analytical``\n",
    "\n",
    "In addition, in the ``__init__`` routine the half-life given by `hlife` needs to be converted into the time constant `tau`. \n",
    "\n",
    "All other input, plotting of results, etc. is already implemented in the following cells.\n",
    "\n",
    "**2 marks**"
   ]
  },
  {
   "cell_type": "code",
   "execution_count": 11,
   "metadata": {
    "deletable": false,
    "nbgrader": {
     "cell_type": "code",
     "checksum": "3971edf292c985a7eb1fbf0d928f36ce",
     "grade": false,
     "grade_id": "cell-692708ec395f5742",
     "locked": false,
     "schema_version": 3,
     "solution": true
    }
   },
   "outputs": [],
   "source": [
    "class Radioactive:\n",
    "    def __init__(self,hlife):\n",
    "        self.tau = 0\n",
    "        # set self.tau, given the half-life, hlife\n",
    "        # YOUR CODE HERE\n",
    "        self.tau = hlife/np.log(2)\n",
    "\n",
    "    def dx_dt(self,x,t):\n",
    "        # return dx/dt, given x, t, and tau\n",
    "        # YOUR CODE HERE\n",
    "        return -x/self.tau\n",
    "        \n",
    "    def analytical(self,x0,t):\n",
    "        # return the analytical solution for decay, given x0, t, and tau\n",
    "        # YOUR CODE HERE\n",
    "        return x0 * np.exp(-t/self.tau)\n",
    "\n",
    "    def relative_error(self,test,t0,t1):\n",
    "        res = []\n",
    "        for t,x in test:\n",
    "            if len(res)==0:\n",
    "                x0 = x\n",
    "            res.append( (t, x/self.analytical(x0,t-t0)-1) )\n",
    "        return res"
   ]
  },
  {
   "cell_type": "markdown",
   "metadata": {},
   "source": [
    "Use the cells below to test your implementation and to create some plots."
   ]
  },
  {
   "cell_type": "code",
   "execution_count": 12,
   "metadata": {
    "deletable": false,
    "editable": false,
    "nbgrader": {
     "cell_type": "code",
     "checksum": "7ac12c395c5bc3ad161d30358d9a2f71",
     "grade": true,
     "grade_id": "cell-12a0e717ac13ed62",
     "locked": true,
     "points": 1,
     "schema_version": 3,
     "solution": false,
     "task": false
    }
   },
   "outputs": [],
   "source": [
    "# this checks the tau implementation\n",
    "r=Radioactive(0.9)\n",
    "assert np.isclose(r.tau,1.2984255368)"
   ]
  },
  {
   "cell_type": "code",
   "execution_count": 13,
   "metadata": {
    "deletable": false,
    "editable": false,
    "nbgrader": {
     "cell_type": "code",
     "checksum": "be40bfcf832f933e961ef94b1070212b",
     "grade": true,
     "grade_id": "cell-955c476bb51c2d9b",
     "locked": true,
     "points": 1,
     "schema_version": 3,
     "solution": false
    }
   },
   "outputs": [],
   "source": [
    "# this checks the kernel implementation\n",
    "r=Radioactive(0.9)\n",
    "assert np.isclose(r.dx_dt(5000,1.0),-3850.8176697774734)"
   ]
  },
  {
   "cell_type": "markdown",
   "metadata": {
    "deletable": false,
    "editable": false,
    "nbgrader": {
     "cell_type": "markdown",
     "checksum": "77d307a4df7f36badd61e6f596d45464",
     "grade": false,
     "grade_id": "cell-d16eb36d3bfa65eb",
     "locked": true,
     "schema_version": 3,
     "solution": false,
     "task": false
    }
   },
   "source": [
    "### Application\n",
    "\n",
    "Provided your code has passed the tests, you can use it to compute and plot the decay of some elements"
   ]
  },
  {
   "cell_type": "code",
   "execution_count": 14,
   "metadata": {},
   "outputs": [],
   "source": [
    "# Initial conditions\n",
    "natoms = 10000   # Original number of elements at time t=t0\n",
    "hlife  = 0.2     # Half-life of the element\n",
    "t0     = 0.0     # Initial time\n",
    "t1     = 1.0     # Final time of simulation\n",
    "deltat = 0.01    # Size of timestep"
   ]
  },
  {
   "cell_type": "code",
   "execution_count": 15,
   "metadata": {},
   "outputs": [],
   "source": [
    "radioactive = Radioactive(hlife)\n",
    "deq_solver  = EulerSolver(radioactive)\n",
    "\n",
    "# We will now compute the solution for three sizes of the timestep, deltat, delta/10, 5deltat\n",
    "\n",
    "# first simulation\n",
    "x0      = np.array([natoms],dtype='f')\n",
    "result  = deq_solver.solve(x0,t0,t1,deltat)\n",
    "ts, xs  = zip(*result)\n",
    "errors  = radioactive.relative_error(result,t0,t1)\n",
    "te, xe  = zip(*errors)\n",
    "sim1    = {'t':ts, 'x':xs, 'err':xe}\n",
    "\n",
    "# second simulationx0 \n",
    "x0      = np.array([natoms],dtype='f')\n",
    "result  = deq_solver.solve(x0,t0,t1,deltat/10)\n",
    "ts, xs  = zip(*result)\n",
    "errors  = radioactive.relative_error(result,t0,t1)\n",
    "te, xe  = zip(*errors)\n",
    "sim2    = {'t':ts, 'x':xs, 'err':xe}\n",
    "\n",
    "# third simulation\n",
    "x0      = np.array([natoms],dtype='f')\n",
    "result  = deq_solver.solve(x0,t0,t1,5*deltat)\n",
    "ts, xs  = zip(*result)\n",
    "errors  = radioactive.relative_error(result,t0,t1)\n",
    "te, xe  = zip(*errors)\n",
    "sim3     = {'t':ts, 'x':xs, 'err':xe}"
   ]
  },
  {
   "cell_type": "code",
   "execution_count": 16,
   "metadata": {},
   "outputs": [
    {
     "name": "stderr",
     "output_type": "stream",
     "text": [
      "/opt/conda/lib/python3.6/site-packages/matplotlib/figure.py:457: UserWarning: matplotlib is currently using a non-GUI backend, so cannot show the figure\n",
      "  \"matplotlib is currently using a non-GUI backend, \"\n"
     ]
    },
    {
     "data": {
      "image/png": "[encoded data removed]",
      "text/plain": [
       "<Figure size 504x504 with 1 Axes>"
      ]
     },
     "metadata": {},
     "output_type": "display_data"
    }
   ],
   "source": [
    "# single figure of size 7x7 cm\n",
    "fig, ax  = plt.subplots(1, 1, figsize = (7, 7))\n",
    "\n",
    "# plot first result\n",
    "label = r\"$\\Delta t={0:1.3f}$\".format(deltat)\n",
    "ax.plot(sim1[\"t\"], np.log10(sim1[\"x\"]), label=label, color='blue')\n",
    "        \n",
    "# plot second result\n",
    "label = r\"$\\Delta t={0:1.3f}$\".format(deltat/10)\n",
    "ax.plot(sim2[\"t\"], np.log10(sim2[\"x\"]), label=label, color='red')\n",
    "        \n",
    "# plot third result\n",
    "label = r\"$\\Delta t={0:1.3f}$\".format(5*deltat)\n",
    "ax.plot(sim3[\"t\"], np.log10(sim3[\"x\"]), label=label, color='yellow')\n",
    "        \n",
    "# Analytical result\n",
    "t  = np.arange(t0,t1,deltat/100)\n",
    "x  = radioactive.analytical(natoms,t)\n",
    "label = 'Analytical'\n",
    "ax.plot(t, np.log10(x), label=label, color='cyan')\n",
    "\n",
    "# generate legend\n",
    "ax.legend()\n",
    "\n",
    "# axis labels\n",
    "ax.set_xlabel(\"time, t [s]\")\n",
    "ax.set_ylabel(r\"$\\log N(t)$\")\n",
    "\n",
    "# limits\n",
    "ax.set_xlim([0,1])\n",
    "ax.set_ylim([2.3,4.2])\n",
    "\n",
    "# show figure\n",
    "fig.show()"
   ]
  },
  {
   "cell_type": "code",
   "execution_count": 17,
   "metadata": {},
   "outputs": [
    {
     "name": "stderr",
     "output_type": "stream",
     "text": [
      "/opt/conda/lib/python3.6/site-packages/matplotlib/figure.py:457: UserWarning: matplotlib is currently using a non-GUI backend, so cannot show the figure\n",
      "  \"matplotlib is currently using a non-GUI backend, \"\n"
     ]
    },
    {
     "data": {
      "image/png": "[encoded data removed]",
      "text/plain": [
       "<Figure size 504x504 with 1 Axes>"
      ]
     },
     "metadata": {},
     "output_type": "display_data"
    }
   ],
   "source": [
    "# plot the relative difference between numerical integration and analytical result\n",
    "\n",
    "# single figure of size 7x7 cm\n",
    "fig, ax  = plt.subplots(1, 1, figsize = (7, 7))\n",
    "\n",
    "# plot first result\n",
    "label = r\"$\\Delta t={0:1.3f}$\".format(deltat)\n",
    "ax.plot(sim1[\"t\"], sim1[\"err\"], label=label, color='blue')\n",
    "        \n",
    "# plot second result\n",
    "label = r\"$\\Delta t={0:1.3f}$\".format(deltat/10)\n",
    "ax.plot(sim2[\"t\"], sim2[\"err\"], label=label, color='red')\n",
    "        \n",
    "# plot third result\n",
    "label = r\"$\\Delta t={0:1.3f}$\".format(5*deltat)\n",
    "ax.plot(sim3[\"t\"], sim3[\"err\"], label=label, color='yellow')\n",
    "        \n",
    "\n",
    "# generate legend\n",
    "ax.legend()\n",
    "\n",
    "# axis labels\n",
    "ax.set_xlabel(\"time, t [s]\")\n",
    "ax.set_ylabel(r\"relative error\")\n",
    "\n",
    "# show figure\n",
    "fig.show()\n",
    "\n"
   ]
  },
  {
   "cell_type": "markdown",
   "metadata": {
    "deletable": false,
    "editable": false,
    "nbgrader": {
     "cell_type": "markdown",
     "checksum": "1ea5e053c841d6a3030cd2eb21121036",
     "grade": false,
     "grade_id": "cell-1548bb1849171c2e",
     "locked": true,
     "schema_version": 3,
     "solution": false,
     "task": false
    }
   },
   "source": [
    "## Radioactive decay: three isotopes\n",
    "\n",
    "Generalise the `Radioactive` class to a new class, `RadioactiveABC`, which is able treat a problem with three types of isotopes named A, B and C:\n",
    "\n",
    "- A decays to B with half-life $h_A$\n",
    "- B decays to C with half-life $h_B$ \n",
    "\n",
    "We start with 1000000 isotopes of type A, and none of types B nor C. \n",
    "There is no need to implement an analytical solution. You should be able to re-use ``EulerSolver`` (hint: ``self.x`` can be an array, for example containing $N_A$, $N_B$ and $N_C$).\n",
    "\n",
    "You will have to add new empty cells below to implement your solution. Begin by creating a markdown cell with the equations you are intending to implement.\n",
    "\n",
    "Create a plot of the abundances of istopes as a function of time. Execute this cell, and the two hidden cells below, in case the two multiple-choice questions are not visible. Use your code to help you answer the questions.\n",
    "\n",
    "\n",
    "**5 marks**"
   ]
  },
  {
   "cell_type": "markdown",
   "metadata": {
    "deletable": false,
    "editable": false,
    "nbgrader": {
     "cell_type": "markdown",
     "checksum": "36d5ed1a9a85ababc1db8b2c201812d9",
     "grade": false,
     "grade_id": "cell-6a55c2c1dc8e13a3",
     "locked": true,
     "schema_version": 3,
     "solution": false,
     "task": false
    }
   },
   "source": [
    "The cell below is a start for implementing the solver. Some code is missing. Try to finish the implementation."
   ]
  },
  {
   "cell_type": "code",
   "execution_count": 18,
   "metadata": {
    "deletable": false,
    "nbgrader": {
     "cell_type": "code",
     "checksum": "69ff84bd4723208bc89c1b1ac316edb9",
     "grade": false,
     "grade_id": "cell-e8eb74c7024c9263",
     "locked": false,
     "schema_version": 3,
     "solution": true,
     "task": false
    }
   },
   "outputs": [],
   "source": [
    "class RadioactiveABC:\n",
    "    def __init__(self,hlifeA,hlifeB):\n",
    "        self.tauA = hlifeA / np.log(2)\n",
    "        self.tauB = hlifeB / np.log(2)\n",
    "\n",
    "\n",
    "    def dx_dt(self,x,t):\n",
    "        # return dx/dt as a numpy array, given\n",
    "        # tauA, tauB and x\n",
    "        # YOUR CODE HERE\n",
    "        dx_dt = np.array([x[0],x[1],x[2]])\n",
    "        dx_dt[0] = -x[0]/self.tauA\n",
    "        dx_dt[1] = (x[0]/self.tauA)-(x[1]/self.tauB) #Is this essentially calcualating the rate or change of atoms decaying of isotope B /\n",
    "        #by taking into account as A decays there will be more B but as there is more B atoms more will decay into C??\n",
    "        dx_dt[2] = x[1]/self.tauB\n",
    "        \n",
    "        \n",
    "        \n",
    "\n",
    "        return dx_dt"
   ]
  },
  {
   "cell_type": "code",
   "execution_count": 19,
   "metadata": {},
   "outputs": [],
   "source": [
    "class EulerSolver(DEq_Solver):\n",
    "    def __init__(self,kernel):\n",
    "        self.kernel  = kernel\n",
    "    def makeStep(self):\n",
    "        self.t += self.delta_t\n",
    "        ### update the position self.x, given dx_dt=self.kernel.dx_dt(self.x, self.t) and the timestep, self.delta_t\n",
    "        ### and the tinestep\n",
    "        self.x += 0.0\n",
    "        # YOUR CODE HERE\n",
    "        self.x = self.x + self.kernel.dx_dt(self.x, self.t)*self.delta_t"
   ]
  },
  {
   "cell_type": "code",
   "execution_count": 20,
   "metadata": {},
   "outputs": [
    {
     "name": "stdout",
     "output_type": "stream",
     "text": [
      "<class 'numpy.ndarray'>\n"
     ]
    }
   ],
   "source": [
    "# run the simulation\n",
    "hlifeA=0.7\n",
    "hlifeB=0.9\n",
    "\n",
    "\n",
    "rABC = RadioactiveABC(hlifeA,hlifeB)\n",
    "solver  = EulerSolver(rABC)\n",
    "\n",
    "x0  = np.array([1000000,0,0],dtype='f')\n",
    "result = solver.solve(x0,0,5,0.01)\n",
    "\n",
    "print(type(solver.coordinateSteps()))\n",
    "ts=solver.timeSteps()\n",
    "\n"
   ]
  },
  {
   "cell_type": "code",
   "execution_count": 21,
   "metadata": {},
   "outputs": [
    {
     "ename": "NameError",
     "evalue": "name 'na' is not defined",
     "output_type": "error",
     "traceback": [
      "\u001b[0;31m---------------------------------------------------------------------------\u001b[0m",
      "\u001b[0;31mNameError\u001b[0m                                 Traceback (most recent call last)",
      "\u001b[0;32m<ipython-input-21-776c45ddc951>\u001b[0m in \u001b[0;36m<module>\u001b[0;34m()\u001b[0m\n\u001b[1;32m      6\u001b[0m \u001b[0;31m# evolution of A\u001b[0m\u001b[0;34m\u001b[0m\u001b[0;34m\u001b[0m\u001b[0m\n\u001b[1;32m      7\u001b[0m \u001b[0mlabel\u001b[0m \u001b[0;34m=\u001b[0m \u001b[0;34mr\"$A(t)$\"\u001b[0m\u001b[0;34m\u001b[0m\u001b[0m\n\u001b[0;32m----> 8\u001b[0;31m \u001b[0max\u001b[0m\u001b[0;34m.\u001b[0m\u001b[0mplot\u001b[0m\u001b[0;34m(\u001b[0m\u001b[0mts\u001b[0m\u001b[0;34m,\u001b[0m \u001b[0mna\u001b[0m\u001b[0;34m,\u001b[0m \u001b[0mlabel\u001b[0m\u001b[0;34m=\u001b[0m\u001b[0mlabel\u001b[0m\u001b[0;34m,\u001b[0m \u001b[0mcolor\u001b[0m\u001b[0;34m=\u001b[0m\u001b[0;34m'blue'\u001b[0m\u001b[0;34m)\u001b[0m\u001b[0;34m\u001b[0m\u001b[0m\n\u001b[0m\u001b[1;32m      9\u001b[0m \u001b[0;34m\u001b[0m\u001b[0m\n\u001b[1;32m     10\u001b[0m \u001b[0;31m# evolution of B\u001b[0m\u001b[0;34m\u001b[0m\u001b[0;34m\u001b[0m\u001b[0m\n",
      "\u001b[0;31mNameError\u001b[0m: name 'na' is not defined"
     ]
    },
    {
     "data": {
      "image/png": "[encoded data removed]",
      "text/plain": [
       "<Figure size 504x504 with 1 Axes>"
      ]
     },
     "metadata": {},
     "output_type": "display_data"
    }
   ],
   "source": [
    "# plot the result\n",
    "\n",
    "# single figure of size 7x7 cm\n",
    "fig, ax  = plt.subplots(1, 1, figsize = (7, 7))\n",
    "\n",
    "# evolution of A\n",
    "label = r\"$A(t)$\"\n",
    "ax.plot(ts, na, label=label, color='blue')\n",
    "        \n",
    "# evolution of B\n",
    "label = r\"$B(t)$\"\n",
    "ax.plot(ts, nb, label=label, color='red')\n",
    "        \n",
    "# evolution of C\n",
    "label = r\"$C(t)$\"\n",
    "ax.plot(ts, nc, label=label, color='yellow')\n",
    "        \n",
    "# generate legend\n",
    "ax.legend()\n",
    "\n",
    "# axis labels\n",
    "ax.set_xlabel(\"time, t [s]\")\n",
    "ax.set_ylabel(r\"Abundance\")\n",
    "\n",
    "# limits\n",
    "ax.set_xlim([0,5])\n",
    "ax.set_ylim([0,1000000])\n",
    "\n",
    "# show figure\n",
    "fig.show()\n"
   ]
  },
  {
   "cell_type": "code",
   "execution_count": 7,
   "metadata": {
    "init_cell": true,
    "scrolled": true,
    "tags": [
     "hide_input"
    ]
   },
   "outputs": [
    {
     "data": {
      "application/vnd.jupyter.widget-view+json": {
       "model_id": "5d6460dbd3904b0abe91114cd2e5da2b",
       "version_major": 2,
       "version_minor": 0
      },
      "text/plain": [
       "VBox(children=(HTMLMath(value='We consider $h_A=0.3$ and $h_B=0.2$. Which of the nuclei type has the most nucl…"
      ]
     },
     "metadata": {},
     "output_type": "display_data"
    }
   ],
   "source": [
    "mcbs1=myCheckBoxSet('radioactiveABC1','We consider $h_A=0.3$ and $h_B=0.2$. Which of the nuclei type has the most nuclei at time $t=1$ ?',[\n",
    "    'type A',\n",
    "    'type B',\n",
    "    'type C']\n",
    ")\n",
    "mcbs1.getWidget()"
   ]
  },
  {
   "cell_type": "code",
   "execution_count": 8,
   "metadata": {
    "init_cell": true,
    "scrolled": true,
    "tags": [
     "hide_input"
    ]
   },
   "outputs": [
    {
     "data": {
      "application/vnd.jupyter.widget-view+json": {
       "model_id": "3fd9bc038ea14bf3bd3a35345f30931d",
       "version_major": 2,
       "version_minor": 0
      },
      "text/plain": [
       "VBox(children=(HTMLMath(value='We consider $h_A=0.7$ and $h_B=0.9$. Which of the nuclei type number is increas…"
      ]
     },
     "metadata": {},
     "output_type": "display_data"
    }
   ],
   "source": [
    "mcbs2=myCheckBoxSet('radioactiveABC2',\n",
    "                   'We consider $h_A=0.7$ and $h_B=0.9$. Which of the nuclei type number is increasing at time $t=0.5$?',[\n",
    "    'type A',\n",
    "    'type B',\n",
    "    'type C']\n",
    ")\n",
    "mcbs2.getWidget()\n",
    "\n"
   ]
  },
  {
   "cell_type": "code",
   "execution_count": null,
   "metadata": {
    "deletable": false,
    "editable": false,
    "nbgrader": {
     "cell_type": "code",
     "checksum": "23470ecc593d0aa54366aa7eed967b93",
     "grade": true,
     "grade_id": "cell-5b602a9fa9fa8021",
     "locked": true,
     "points": 1,
     "schema_version": 3,
     "solution": false
    }
   },
   "outputs": [],
   "source": []
  },
  {
   "cell_type": "code",
   "execution_count": null,
   "metadata": {
    "deletable": false,
    "editable": false,
    "nbgrader": {
     "cell_type": "code",
     "checksum": "4c2e5f6d368283a80096b13d3a48092d",
     "grade": true,
     "grade_id": "cell-59df6cc9dab46d1a",
     "locked": true,
     "points": 2,
     "schema_version": 3,
     "solution": false
    }
   },
   "outputs": [],
   "source": []
  },
  {
   "cell_type": "code",
   "execution_count": null,
   "metadata": {
    "deletable": false,
    "editable": false,
    "nbgrader": {
     "cell_type": "code",
     "checksum": "015f699b3b0fdd849dae5b9193dd44ce",
     "grade": true,
     "grade_id": "cell-591c7aadb1d7bde9",
     "locked": true,
     "points": 1,
     "schema_version": 3,
     "solution": false,
     "task": false
    }
   },
   "outputs": [],
   "source": []
  },
  {
   "cell_type": "code",
   "execution_count": null,
   "metadata": {
    "deletable": false,
    "editable": false,
    "nbgrader": {
     "cell_type": "code",
     "checksum": "2ddea8504d7382955a8ebabc52e67130",
     "grade": true,
     "grade_id": "cell-8f5bc7d152f320bb",
     "locked": true,
     "points": 1,
     "schema_version": 3,
     "solution": false,
     "task": false
    }
   },
   "outputs": [],
   "source": []
  },
  {
   "cell_type": "markdown",
   "metadata": {
    "deletable": false,
    "editable": false,
    "nbgrader": {
     "cell_type": "markdown",
     "checksum": "288d49c6d4a0ceb20d42cf239ad067f9",
     "grade": false,
     "grade_id": "cell-1522aaab42c00fd0",
     "locked": true,
     "schema_version": 3,
     "solution": false,
     "task": false
    }
   },
   "source": [
    "## Playground\n",
    "\n",
    "Below are some more exercises you may want to try. They are not graded\n",
    "\n",
    "You may want to consider some of the following questions\n",
    "\n",
    "*To answer the multi-choice questions, you may have run the simulation twice, to get the answer\n",
    "for the two different values of the life-time of the elements. Try to redo the calculation\n",
    "by making a *loop* over the input values. How can you best collect the output from such a loop?\n",
    "Can you also make the plots in the loop.\n",
    "\n",
    "*In the example given, we calculated the result in one cell, but pltted the outcome in another cell. Can you think of advantages (or disadvantages) of doing so?\n",
    "\n",
    "•In the first example, the legend contained the results for the three simulations (with different timesteps), as well as the analytical result. The simulation results were distimjguished by colour, as was ythe analytcail result. It might be clearer if we had plotted the nalaytical result with symbol, say, and have two seperate legends: one for the simulations, and one for the nalaytiucal result. Can your try your hand at that?\n"
   ]
  },
  {
   "cell_type": "markdown",
   "metadata": {},
   "source": [
    "This is suggestion for yet another exercise\n",
    "\n",
    "The number of individuals in a population, $N$, changes because of births and deaths. Suppose this is described as\n",
    "\n",
    "\n",
    "$\\frac{{\\rm d}N}{{\\rm d}t} = a N - b N^2$\n",
    "\n",
    "where $a=10$ and $b=0.01$. Starting from $N=100$, evaluate the evolution of $N$. First analyse the expected behaviour, for example, is there an equilibrium population number? And what is the time-scale fo reaching this equilibrium.\n",
    "\n",
    "\n",
    "\n",
    "\n"
   ]
  },
  {
   "cell_type": "code",
   "execution_count": null,
   "metadata": {},
   "outputs": [],
   "source": []
  },
  {
   "cell_type": "code",
   "execution_count": null,
   "metadata": {},
   "outputs": [],
   "source": []
  },
  {
   "cell_type": "code",
   "execution_count": null,
   "metadata": {},
   "outputs": [],
   "source": []
  },
  {
   "cell_type": "code",
   "execution_count": null,
   "metadata": {},
   "outputs": [],
   "source": []
  },
  {
   "cell_type": "code",
   "execution_count": null,
   "metadata": {},
   "outputs": [],
   "source": []
  },
  {
   "cell_type": "code",
   "execution_count": null,
   "metadata": {},
   "outputs": [],
   "source": []
  },
  {
   "cell_type": "code",
   "execution_count": null,
   "metadata": {},
   "outputs": [],
   "source": []
  },
  {
   "cell_type": "code",
   "execution_count": null,
   "metadata": {},
   "outputs": [],
   "source": []
  },
  {
   "cell_type": "code",
   "execution_count": null,
   "metadata": {},
   "outputs": [],
   "source": []
  },
  {
   "cell_type": "code",
   "execution_count": null,
   "metadata": {},
   "outputs": [],
   "source": []
  },
  {
   "cell_type": "code",
   "execution_count": null,
   "metadata": {},
   "outputs": [],
   "source": []
  }
 ],
 "metadata": {
  "kernelspec": {
   "display_name": "Python 3",
   "language": "python",
   "name": "python3"
  },
  "language_info": {
   "codemirror_mode": {
    "name": "ipython",
    "version": 3
   },
   "file_extension": ".py",
   "mimetype": "text/x-python",
   "name": "python",
   "nbconvert_exporter": "python",
   "pygments_lexer": "ipython3",
   "version": "3.6.3"
  }
 },
 "nbformat": 4,
 "nbformat_minor": 2
}
