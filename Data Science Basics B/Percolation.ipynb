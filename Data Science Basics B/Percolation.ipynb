{
 "cells": [
  {
   "cell_type": "code",
   "execution_count": 16,
   "metadata": {
    "deletable": false,
    "editable": false,
    "init_cell": true,
    "nbgrader": {
     "cell_type": "code",
     "checksum": "aa6916c62ac50a9bf09a95ce767cc6eb",
     "grade": false,
     "grade_id": "cell-9b00d99d1ebddd38",
     "locked": true,
     "schema_version": 3,
     "solution": false,
     "task": false
    }
   },
   "outputs": [],
   "source": [
    "# Import some libraries from python and set some defaults\n",
    "%matplotlib inline\n",
    "import numpy as np\n",
    "import matplotlib.pyplot as plt\n",
    "from matplotlib import rc\n",
    "import matplotlib.image as mpimg\n",
    "import sys\n",
    "import os\n",
    "import time\n",
    "sys.path.append(os.getcwd())\n",
    "from scipy import stats\n",
    "import pickle\n",
    "import copy\n",
    "#set the font size for plots\n",
    "plt.rcParams.update({'font.size': 17})\n",
    "params = {'axes.labelsize': 16, 'axes.titlesize': 16}\n",
    "plt.rcParams.update(params)\n",
    "rc('animation', html='html5')"
   ]
  },
  {
   "cell_type": "code",
   "execution_count": 17,
   "metadata": {
    "deletable": false,
    "editable": false,
    "init_cell": true,
    "nbgrader": {
     "cell_type": "code",
     "checksum": "7c2de9b5819f7b20dde80c3122a401cd",
     "grade": false,
     "grade_id": "cell-1cbdac26e9079bde",
     "locked": true,
     "schema_version": 3,
     "solution": false,
     "task": false
    },
    "tags": [
     "hide_input"
    ]
   },
   "outputs": [],
   "source": [
    "from ipywidgets import widgets, interact, interactive, fixed\n",
    "from ipywidgets import Button, HBox, VBox\n",
    "import shelve\n",
    "assessmentName=\"test\";\n",
    "import os\n",
    "\n",
    "def get_last_value(key):\n",
    "    if os.path.isfile('.choices.shelve') or os.path.isfile('.choices.shelve.dir'):\n",
    "        s=shelve.open('.choices.shelve')\n",
    "        return s.get(key,None)\n",
    "    return None\n",
    "\n",
    "\n",
    "class myRadioButton:\n",
    "    def __init__(self,name,description,options):\n",
    "        self.name=name\n",
    "        self.options=options\n",
    "        self.description=description\n",
    "    def getWidget(self):\n",
    "        def on_value_change(change):\n",
    "            s=shelve.open('.choices.shelve')\n",
    "            key=self.getKey()\n",
    "            s[key]=change['new']\n",
    "            s.close()\n",
    "\n",
    "        self.widget=widgets.RadioButtons(\n",
    "            options=self.options,\n",
    "            value=get_last_value(self.getKey()),\n",
    "            description=self.description,\n",
    "            disabled=False\n",
    "        )\n",
    "        self.widget.observe(on_value_change, names='value')\n",
    "\n",
    "        return self.widget\n",
    "    def getKey(self):\n",
    "        return '{0}_{1}'.format(assessmentName,self.name)\n",
    "        \n",
    "        \n",
    "def on_value_change(change):\n",
    "                s=shelve.open('.choices.shelve')\n",
    "                key='{0}_{1}_{2}'.format(assessmentName,self.name,i)\n",
    "                s[key]=change['new']\n",
    "                s.close()\n",
    "\n",
    "def make_value_change_fn(assessmentName,name,i):\n",
    "        def fn(change):\n",
    "            s=shelve.open('.choices.shelve')\n",
    "            key='{0}_{1}_{2}'.format(assessmentName,name,i)\n",
    "            s[key]=change['new']\n",
    "            s.close()\n",
    "        return fn\n",
    "\n",
    "class myCheckBoxSet:\n",
    "    def __init__(self,name,description,options):\n",
    "        self.name=name\n",
    "        self.options=options\n",
    "        self.description=description\n",
    "    def getWidget(self):\n",
    "        keys=['{0}_{1}_{2}'.format(assessmentName,self.name,i) for i in range(len(self.options))]    \n",
    "        self.widgets=[ widgets.Checkbox(value=get_last_value(key),\n",
    "    description=o,\n",
    "    disabled=False\n",
    "        ) for key,o in zip(keys,self.options)]\n",
    "        \n",
    "        txt=widgets.HTMLMath(\n",
    "            value=self.description,\n",
    "            placeholder='',\n",
    "            description='',\n",
    "        )\n",
    "\n",
    "        \n",
    "        self.widget=VBox([txt]+self.widgets)\n",
    "        for i,w in enumerate(self.widgets):\n",
    "            w.observe(make_value_change_fn(assessmentName,self.name,i), names='value')\n",
    "\n",
    "        return self.widget\n",
    "import mywidgets    \n"
   ]
  },
  {
   "cell_type": "markdown",
   "metadata": {
    "deletable": false,
    "editable": false,
    "nbgrader": {
     "cell_type": "markdown",
     "checksum": "811ed106fc3c31e1fec48614f82eaf93",
     "grade": false,
     "grade_id": "cell-a690aea7fcdd3150",
     "locked": true,
     "schema_version": 3,
     "solution": false,
     "task": false
    }
   },
   "source": [
    "# Preamble: workshop notebooks\n",
    "\n",
    "Work through this notebook cell by cell.\n",
    "\n",
    "When working on your solution, you can save the notebook as many times as you like. You can also submit \n",
    "as many times as you like. In fact, it is a good idea to save and submit often.\n",
    "\n",
    "**Validate** the notebook before submitting. Use the *validate* button in the browser\n",
    "\n",
    "**Do not copy or delete one of the original cells**. Doing so means you cannot validate the notebook.\n",
    "If required, *create a new cell*, and copy the *contents* of another cell.\n",
    "\n",
    "\n",
    "**Only the last submission before the deadline** will be marked.\n",
    "Note that you have to **submit** at least once for your work to be marked.\n"
   ]
  },
  {
   "cell_type": "markdown",
   "metadata": {
    "deletable": false,
    "editable": false,
    "nbgrader": {
     "cell_type": "markdown",
     "checksum": "6bc65c3b23abcca2cf98909804985e60",
     "grade": false,
     "grade_id": "cell-4ceb08114a5ff5d8",
     "locked": true,
     "schema_version": 3,
     "solution": false,
     "task": false
    }
   },
   "source": [
    "The notebook contains cells with code. Some of the code is (intentionally) missing. Please insert appropriate code below the line 'YOUR CODE HERE'. Cells which do not contain any 'YOUR CODE HERE' lines will allow you to test your code; if they return an error there is something wrong with your implementation; if they do not return an error your code might be correct (it is unfortunately not possible to check for every possible error).\n",
    "\n",
    "Note:\n",
    "\n",
    "simply add numerical value in a dropbox for it to get marked\n",
    "\n",
    "when asked for true/false in a box:\n",
    "\n",
    "ticking a box means True\n",
    "not ticking (or ticking an even number of times) yields False\n"
   ]
  },
  {
   "cell_type": "markdown",
   "metadata": {
    "deletable": false,
    "editable": false,
    "nbgrader": {
     "cell_type": "markdown",
     "checksum": "27c17fa1c9aa990a4c6242a91dbf5240",
     "grade": false,
     "grade_id": "cell-bbf88e10bb307ab1",
     "locked": true,
     "schema_version": 3,
     "solution": false,
     "task": false
    }
   },
   "source": [
    "# Workshop 7: Cluster growth and percolation"
   ]
  },
  {
   "cell_type": "markdown",
   "metadata": {
    "deletable": false,
    "editable": false,
    "nbgrader": {
     "cell_type": "markdown",
     "checksum": "4d587755027618ccd1d7c38d2c74bfff",
     "grade": false,
     "grade_id": "cell-ed6fdce58752a39a",
     "locked": true,
     "schema_version": 3,
     "solution": false,
     "task": false
    }
   },
   "source": [
    "## 1) Cluster growth"
   ]
  },
  {
   "cell_type": "markdown",
   "metadata": {
    "deletable": false,
    "editable": false,
    "nbgrader": {
     "cell_type": "markdown",
     "checksum": "f4ccd8f550e9405a4dc96515db9e8ed6",
     "grade": false,
     "grade_id": "cell-1d22aac375ec9408",
     "locked": true,
     "schema_version": 3,
     "solution": false,
     "task": false
    }
   },
   "source": [
    "### The cell below defines the Cluster class. Complete the methods that are only partially implemented.\n",
    "\n",
    "You can the use the following cells to test your implementation."
   ]
  },
  {
   "cell_type": "markdown",
   "metadata": {
    "deletable": false,
    "editable": false,
    "nbgrader": {
     "cell_type": "markdown",
     "checksum": "cb5ec03613c2332c0d377fe01048e5e9",
     "grade": false,
     "grade_id": "cell-a6ef87cefbe5b332",
     "locked": true,
     "schema_version": 3,
     "solution": false,
     "task": false
    }
   },
   "source": [
    "Completing the class `Cluster` is the main aim of the first part. Some parts of the methods need to be completed.\n",
    "The cells below it take you through this, one method at a time. There are also some cells to verify your implementation.\n",
    "\n",
    "The main components of an instance of the class are:\n",
    " - ndim: the dimension of the cluster. We only examine the special case of ndim=2\n",
    " - periodic: if True, impose periodic boundary conditions, else, impose isolated boundary conditions\n",
    " - size: the extent of a cluster in any dimension\n",
    " - grid: a dictionary of positions currently occupied by the cluster, in the form of tuples\n",
    "      for example ((0,1): True) if element (0,1) is part of the cluster\n",
    " - boundary: a dictionary of nearest-neighbours of cluster elements, that are not occupied\n",
    " - offsets: a list of all neigbours of location (0,0)\n",
    "     - for ndim=2, the list of nearest-neighbour locations is [(1,0), (-1,0), (0,1), (0,-1)]\n",
    " \n",
    "\"Periodic boundry conditions\" means that location (0,0) neighbours locations (1,0), (0,1) but in addition also\n",
    "locations $(L-1,0)$ and $(0,L-1)$, where $L$ is the linear size of the lattice. Of the boundary conditions are not periodic, then the neighbours of location (0,0) are only (1,0) and (0,1). \n"
   ]
  },
  {
   "cell_type": "code",
   "execution_count": 9,
   "metadata": {},
   "outputs": [
    {
     "name": "stdout",
     "output_type": "stream",
     "text": [
      "[(1, 0), (-1, 0), (0, 1), (0, -1)]\n",
      "[[3 2]\n",
      " [1 2]\n",
      " [2 3]\n",
      " [2 1]]\n",
      "(array([3, 2]), array([1, 2]), array([2, 3]), array([2, 1]))\n",
      "[array([[3, 2],\n",
      "       [1, 2],\n",
      "       [2, 3],\n",
      "       [2, 1]])]\n"
     ]
    }
   ],
   "source": [
    "offsets = []\n",
    "ndim = 2\n",
    "for dim in range(ndim):\n",
    "    offset = np.zeros(ndim, dtype=int)\n",
    "    offset[dim] = 1\n",
    "    offsets.append(tuple(offset))\n",
    "    offsets.append(tuple(-offset))\n",
    "noffsets = len(offsets) \n",
    "print(offsets)\n",
    "\n",
    "\n",
    "\n",
    "        # input:   position: location for which we want a list of nearest-neighbours\n",
    "        # output:  neighbours: a list of tuples that are valid neighbours of position\n",
    "\n",
    " \n",
    "        # You may want to use self.offsets to \n",
    "        #    create the list of all nearest-neighbours position\n",
    "        # Note: Adding tuples does not give you the offset that is required. Instead, you must\n",
    "        #       convert the tuple to an array to compute the offset position first, for example as\n",
    "        #           new_neighbour = np.asarray(position) + offset,\n",
    "        #       but make sure to convert it back to a tuple before adding it to the list of neighbours\n",
    "        #           neghbours.append(new_neighbour)\n",
    "        #       You must also make sure that new_neighbour is on the grid, and, if periodic, is correcty wrapped\n",
    "neighbours = []\n",
    "        # YOUR CODE HERE\n",
    "position = [(2,2)]\n",
    "\n",
    "#neighbours.append(tuple(np.asarray(position) + np.asarray(offsets)))\n",
    "x = np.asarray(position) + np.asarray(offsets)\n",
    "\n",
    "#neighbours.tolist(neighbours)\n",
    "neighbours.append(x)\n",
    "print(x)\n",
    "temp = map(tuple, x)\n",
    "print(tuple(x))\n",
    "print(neighbours)\n"
   ]
  },
  {
   "cell_type": "code",
   "execution_count": null,
   "metadata": {},
   "outputs": [],
   "source": []
  },
  {
   "cell_type": "code",
   "execution_count": 10,
   "metadata": {
    "deletable": false,
    "nbgrader": {
     "cell_type": "code",
     "checksum": "a0f6b72ac96ce9fa440208964afc5ca0",
     "grade": false,
     "grade_id": "cell-05bb92207c1e8869",
     "locked": false,
     "schema_version": 3,
     "solution": true,
     "task": false
    }
   },
   "outputs": [],
   "source": [
    "class Cluster:\n",
    "    # initialize the cluster\n",
    "    def __init__(self, ndim=2, size=32, random_number_seed=-1, periodic=False):\n",
    "        self.size     = size             # linear extent of the lattice\n",
    "        self.ndim     = ndim             # dimensionality\n",
    "        self.periodic = periodic         # if True: use periodic boundary conditions, else use isolated boundary conditions\n",
    "        self.grid     = {}               # the grid will store all the tuples that correspond to occupied locations\n",
    "        self.boundary = None              \n",
    "        \n",
    "        # Initialize random number generator if random_number_seed is > 0\n",
    "        if random_number_seed > 0:\n",
    "            np.random.seed(random_number_seed)\n",
    "        else:\n",
    "            np.random.seed(None)\n",
    "            \n",
    "        # create list of all nearest neighbours of element (0,) * ndim\n",
    "        self.offsets = []\n",
    "        for dim in range(self.ndim):\n",
    "            offset = np.zeros(ndim, dtype=int)\n",
    "            offset[dim] = 1\n",
    "            self.offsets.append(tuple(offset))\n",
    "            self.offsets.append(tuple(-offset))\n",
    "        self.noffsets = len(self.offsets)     \n",
    "            \n",
    "    #  The function return True / False depending on whether position is inside / outside the grid    \n",
    "    def element_inside(self, position):\n",
    "        # input: location \"position\" to be tested\n",
    "        # output: True if position is on the lattice, False if position is not on the lattice\n",
    "        if self.periodic:\n",
    "            return True                                     # all positions are part of the lattice\n",
    "        sp = np.array(position)\n",
    "        return (sp >= 0).all() and (sp < self.size).all()   # test whether each coordinate is in the range [0, L[\n",
    "                                                            # where L=self.size is the size of the lattice\n",
    "\n",
    "    # This function adds the element at location \"position\" to the cluster.\n",
    "    #   It returns an exception \n",
    "    #       - if that element is already in the cluster, or\n",
    "    #       - if it outside the grid's boundaries\n",
    "    def element_add(self, position):\n",
    "        # This routine adds the element at location \"position\" to the cluster\n",
    "        #    if the element is already part of the cluster, raise an exception\n",
    "        #    if periodic=True: wrap position periodically before inserting element\n",
    "        #    if periodc=False: raise exception if element is outside the grid boundaries\n",
    "        pos = np.array(position)\n",
    "\n",
    "        if self.periodic:\n",
    "            pos  = (pos + 2 * self.size) % self.size     # apply periodic boundary conditions\n",
    "            \n",
    "        if(self.element_inside(pos)):\n",
    "            if tuple(pos) in self.grid:\n",
    "                print(\" ++ element_add, Position = \", pos)\n",
    "                raise Exception(\"Element is already in cluster\")\n",
    "            else:\n",
    "                self.grid[tuple(pos)] = True\n",
    "        else:\n",
    "            print(\" ++ element_add, Position = \", pos)\n",
    "            raise Exception(\"Element is outside of grid\")\n",
    "    \n",
    "    # The function returns the list of all nearest-neighbours of a given position, that are inside the grid\n",
    "    def element_neighbours(self, position):\n",
    "        # input:   position: location for which we want a list of nearest-neighbours\n",
    "        # output:  neighbours: a list of tuples that are valid neighbours of position\n",
    "\n",
    "        # consistency check:\n",
    "        if len(position) != self.ndim:\n",
    "            raise Exception(\" Error: this position does not have the right dimension\")\n",
    "            \n",
    "        # You may want to use self.offsets to \n",
    "        #    create the list of all nearest-neighbours position\n",
    "        # Note: Adding tuples does not give you the offset that is required. Instead, you must\n",
    "        #       convert the tuple to an array to compute the offset position first, for example as\n",
    "        #           new_neighbour = np.asarray(position) + offset,\n",
    "        #       but make sure to convert it back to a tuple before adding it to the list of neighbours\n",
    "        #           neghbours.append(new_neighbour)\n",
    "        #       You must also make sure that new_neighbour is on the grid, and, if periodic, is correcty wrapped\n",
    "        neighbours = [np.asarray(position) + np.asarray(offset) for offset in self.offsets]\n",
    "        # YOUR CODE HERE\n",
    "        \n",
    "        if self.periodic:\n",
    "            neighbours = [n % self.size for n in neighbours]\n",
    "        else:\n",
    "            neighbours = [n for n in neighbours if self.element_inside(n)]\n",
    "        \n",
    "        neighbours = [tuple(n) for n in neighbours]\n",
    "          \n",
    "         \n",
    "        #raise Exception(\"Element is outside of grid\")        \n",
    "        return neighbours\n",
    "\n",
    "    # This function returns the distance between position1 and position2\n",
    "    def distance(self, position1, position2):\n",
    "        # consistency check\n",
    "        if len(position1) != self.ndim:\n",
    "            raise Exception(\"not a valid position 1 in distance\")\n",
    "        if len(position2) != self.ndim:\n",
    "            raise Exception(\"not a valid position 2 in distance\")\n",
    "        \n",
    "        #\n",
    "        p = np.asarray(position1)\n",
    "        q = np.asarray(position2)\n",
    "        distance = 0\n",
    "        for i in range(len(p)):\n",
    "            dx = np.abs(p[i]-q[i])\n",
    "            if self.periodic:\n",
    "                if dx > self.size/2:\n",
    "                    dx = self.size - dx\n",
    "            distance += dx * dx\n",
    "        return np.sqrt(distance)\n",
    "    \n",
    "    # This function returns all the distances from each element of the cluster, to the given location \"position\"\n",
    "    def element_distances(self, position):\n",
    "        distance = {}\n",
    "        for element in self.grid:\n",
    "            distance[element] = self.distance(element, position)\n",
    "        return distance\n",
    "    \n",
    "    # This function periodically wraps \"position\" on the grid\n",
    "    def periodic_wrap(self, position):\n",
    "        if self.periodic:\n",
    "            return tuple(np.array(position) % self.size)\n",
    "        else:\n",
    "            return position\n",
    "        \n",
    "        \n",
    "        \n",
    "    #########################################################################################################\n",
    "    #      The three methods below implement the three models for cluster growth (Eden, DLA and Random)     #\n",
    "    #########################################################################################################\n",
    "    \n",
    "    \n",
    "    # Eden model for cluster growth\n",
    "    # The algorithm for adding an element is as follows\n",
    "    #  - pick at random, any unoccupied site that is a nearest neighbour of an element already in the cluster\n",
    "    #  - add it to the cluster\n",
    "    # The method below should add 1 element to the cluster based on this algorithm\n",
    "    def Eden(self):\n",
    "        \n",
    "        # The first time Eden in invoked, we create a list, called self.boundary, \n",
    "        # of empty sites that neighbour the cluster\n",
    "        # When Eden is called again, we update self.boundary\n",
    "        if self.boundary == None:\n",
    "            self.boundary = {} #should this be a list?????\n",
    "            \n",
    "            \n",
    "            # iterate over all neighbours of all elements in the cluster\n",
    "            #    if the neighbour is not in the cluster, and not in self.boundary, add it to self.boundary\n",
    "            # YOUR CODE HERE\n",
    "            cluster = self.grid.keys()\n",
    "            for element in cluster:\n",
    "                neighbours = self.element_neighbours(element)#which position to use???\n",
    "                \n",
    "                for neighbour in neighbours:\n",
    "                    if neighbour not in cluster and neighbour not in self.boundary:\n",
    "                        self.boundary[neighbour] = True #how to add elemtne to dicionary????\n",
    "        #print(self.boundary)\n",
    "        # pick at random an element of self.boundary, and add this element to the cluster element\n",
    "        # there are several valid ways of picking an element to add\n",
    "        # once you've picked an element to add, use self.element_add(element) to add it to the cluster\n",
    "        # YOUR CODE HERE\n",
    "        \n",
    "        idx = np.random.choice(len(self.boundary.keys()))\n",
    "        new_site = list(self.boundary.keys())[idx]\n",
    "        self.element_add(new_site)\n",
    "\n",
    "        # remove this element from self.boundary\n",
    "        # YOUR CODE HERE\n",
    "        \n",
    "        del self.boundary[new_site]\n",
    "        \n",
    "        \n",
    "        # add the neighbours of the element to self.boundary,\n",
    "        #      provided they are not in the cluster, and not already in the boundary\n",
    "        for neighbour in self.element_neighbours(new_site):\n",
    "            if neighbour not in self.grid:\n",
    "                if neighbour not in self.boundary:\n",
    "                    self.boundary[self.periodic_wrap(neighbour)] = True\n",
    "\n",
    "        # return current number of elements in the boundary             \n",
    "        return len(self.boundary)\n",
    "    \n",
    "\n",
    " \n",
    "   \n",
    "    # DLA model for generating a cluster\n",
    "    # Start a random walk at distance \"radius\" away from the seed of the cluster, which is at location \"centre\"\n",
    "    # Terminate the walk, if either\n",
    "    #        walker hits the cluster - then add it to the cluster\n",
    "    #        crosses the edge, i.e. reaches a distances > edge from the centre\n",
    "    # DLA adds an element to cluster, and the function returns \"track\": the list of all sites visited in the \n",
    "    #     random walk\n",
    "    \n",
    "    def DLA(self, centre, radius, edge):\n",
    "        start     = np.asarray(centre)\n",
    "        \n",
    "        #print(centre)\n",
    "        #print('jbqsqv',type(centre))\n",
    "        # choose starting point in polar coordinates - then convert to cartesian coordinates\n",
    "        rad = radius\n",
    "        if(rad < 1):\n",
    "            rad = 1\n",
    "        phi = 2 * np.pi * np.random.random()  # angle uniform in [0, 2pi[\n",
    "        x   = rad * np.cos(phi)\n",
    "        ix  = int(np.rint(x))      # convert to integer offset\n",
    "        y   = rad * np.sin(phi)\n",
    "        iy  = int(np.rint(y))      # convert to integer offset\n",
    "        dr  = np.sqrt(x*x+y*y)\n",
    "        \n",
    "        # add starting offset\n",
    "        start[0] += ix\n",
    "        start[1] += iy\n",
    "        start     = tuple(start)\n",
    "        cont      = True\n",
    "        \n",
    "        # track stores all the location that the random walk visits\n",
    "        track   = []\n",
    "        track.append(start)\n",
    "        step    = start   # the random walk steps from the current step, \"step\", to the next step, \"next_step\"\n",
    "        while cont:\n",
    "            # continue walking as long as cont = True\n",
    "            \n",
    "            # take a random step, from step to next_step\n",
    "            # Hint: use RandomStep, implemented below, or write your own\n",
    "            # YOUR CODE HERE\n",
    "            \"\"\"\n",
    "                        itry      = np.random.choice(range(self.noffsets))\n",
    "            offset    = self.offsets[itry]\n",
    "            new       = tuple(np.array(position) + np.array(offset))\n",
    "            next_step = self.periodic_wrap(new)\n",
    "            \"\"\"\n",
    "            \n",
    "            next_step = self.RandomStep(step)\n",
    "            \n",
    "\n",
    "            # If any neighbour of next_step is in the cluster, then:\n",
    "            #    - add next_step to cluster\n",
    "            #    - add next_step to track\n",
    "            #    - set cont = False, to end walk\n",
    "            # use self.element_add to add the element to the cluster\n",
    "            # YOUR CODE HERE\n",
    "            neighbours = self.element_neighbours(next_step)\n",
    "            for neighbour in neighbours:\n",
    "                \n",
    "                if neighbour in self.grid:\n",
    "                    self.element_add(next_step)\n",
    "                    track.append(next_step)\n",
    "                    #print('next-step', next_step)\n",
    "                    cont = False\n",
    "                \n",
    "            # if cont is True, we need to check if walker is still in the allowed region\n",
    "            #     if distance to centre > edge: put cont = False, add element to track, and end walk\n",
    "            #     if distance to centre < edge: cont = True\n",
    "            #         - add next_step to track\n",
    "            #         - put step = next_step\n",
    "            #         - continue walk\n",
    "            # YOUR CODE HERE\n",
    "            \n",
    "            distance = np.sqrt(np.sum((np.asarray(next_step) - np.asarray(centre)) ** 2))\n",
    "            distance = self.distance(self, new_step, centre)\n",
    "            #print('centre', centre , 'next step',next_step, 'distance', distance)\n",
    "            if distance > edge:\n",
    "                cont = False\n",
    "                track.append(next_step)\n",
    "                \n",
    "            else: \n",
    "                track.append(next_step)\n",
    "                step = next_step # why do this\n",
    "             \n",
    "                \n",
    "            \n",
    "            \n",
    "        # walk finished: return the track \n",
    "        # You may want to uncomment the lines below for debugging your code\n",
    "        #if attach:\n",
    "        #    print(\"Walker attached to cluster at position = \", next_step)\n",
    "        #else:\n",
    "        #    print(\"walker off grid\")\n",
    "            \n",
    "\n",
    "        #print(track)\n",
    "        return track\n",
    "\n",
    "    # This function randomly adds sites to a grid, based on comparing a uniform random number, prob,\n",
    "    #      to the input (given) probability \"probability\"\n",
    "    def Random(self, probability):\n",
    "        # for each site: if random number < probability, add element to cluster\n",
    "        self.p = probability\n",
    "        shape  = (self.size,) * self.ndim\n",
    "        prob   = np.random.rand(*shape)\n",
    "        assign = np.where(prob < probability)\n",
    "        assign = np.array(assign).T\n",
    "        for a in assign:\n",
    "            self.element_add(a)\n",
    "            \n",
    "    #########################################################################################################\n",
    "    #   The routines below are helper routines  #\n",
    "    #########################################################################################################\n",
    "\n",
    "    # Perform a single random step, starting at location \"position\"\n",
    "    #     function returns the location of the end of the step\n",
    "    def RandomStep(self, position):\n",
    "        itry      = np.random.choice(range(self.noffsets))\n",
    "        offset    = self.offsets[itry]\n",
    "        new       = tuple(np.array(position) + np.array(offset))\n",
    "        return self.periodic_wrap(new)\n",
    "\n",
    "    \n",
    "    # Starting from location \"position\", take nstep random walk steps\n",
    "    def RandomWalk(self, position, nstep):\n",
    "        track   = []\n",
    "        current = position\n",
    "        for i in range(nstep):\n",
    "            current  = self.RandomStep(current)\n",
    "            track.append(current)\n",
    "        return track\n",
    "    \n",
    "    # Plot the current cluster\n",
    "    #   Input is the cut to plot, and, optionally, the name of the plot, and the name of the file\n",
    "    #   to save the plot\n",
    "    def ShowCluster(self, cut, title=None, file=None):\n",
    "        # extract the cooridnates of the cluster specified by cut \n",
    "        xs, ys  = self.ExtractSlice(cut)\n",
    "        # create the figure, and plot all cluster sites\n",
    "        fig, ax = plt.subplots(figsize=(7,7))\n",
    "        ax.set_aspect('equal')\n",
    "        ax.set_xlim(-1, self.size)\n",
    "        ax.set_ylim(-1, self.size)\n",
    "        ax.set_xlabel('x')\n",
    "        ax.set_ylabel('y')\n",
    "        if not title == None:\n",
    "            ax.set_title(title)\n",
    "        ax.grid()\n",
    "        ax.plot(xs,ys,'ro',alpha=0.2)[0]\n",
    "        \n",
    "        # save the figure\n",
    "        if not file == None:\n",
    "            print(\"Saving cluster to file: \", file)\n",
    "            plt.savefig(file)\n",
    "            \n",
    "        fig.show()\n",
    "        \n",
    " \n",
    "    # Extract a slice: this is useful if the cluster is in ndim>2 dimensions\n",
    "    #    cut specifies the direction to cut the cluster and extract a 2D slice\n",
    "    def ExtractSlice(self, cut):\n",
    "        # cut is a tuple of length self.ndim\n",
    "        # the tuple should have exactly 2 elements equal to -1, which define the plane to extract\n",
    "        if len(cut) != self.ndim:\n",
    "            raise Exception(\" cut has wrong length\")\n",
    "        plane = np.where(np.asarray(cut) == -1)[0]\n",
    "        if len(plane) != 2:\n",
    "            raise Exception(\" plane has wrong dimenson \", len(plane))\n",
    "        for dim in range(self.ndim):\n",
    "            if dim not in plane:\n",
    "                if cut[dim] < 0 or cut[dim] >= self.size:\n",
    "                    raise Exception(\" cut is out of range \", dim, cut[dim])\n",
    "        #\n",
    "        sites = []\n",
    "        xs    = []\n",
    "        ys    = []\n",
    "        cut = np.asarray(cut)\n",
    "        for site in self.grid:\n",
    "            if np.all(np.logical_or(cut==-1,cut==np.asarray(site))):\n",
    "                sites.append(site)\n",
    "                xs.append(site[plane[0]])\n",
    "                ys.append(site[plane[1]])\n",
    "        return xs, ys        \n",
    "                \n",
    "    # This function plots a track, as generated by DLA for example, for a given random walk\n",
    "    #  Input is the track, and optionally, the name of the file to save the figure\n",
    "    def ShowTrack(self, track, file=None):\n",
    "\n",
    "        fig, ax = plt.subplots(figsize=(7,7))\n",
    "        ax.set_aspect('equal')\n",
    "        ax.set_xlim(-1, self.size)\n",
    "        ax.set_ylim(-1, self.size)\n",
    "        ax.set_xlabel(\"x-position\")\n",
    "        ax.set_ylabel(\"y-position\")\n",
    "        ax.set_title(\"Track of random\")\n",
    "        ax.grid()\n",
    "        xs = []\n",
    "        ys = []\n",
    "        for el in track:\n",
    "            xs.append(el[0]) \n",
    "            ys.append(el[1])\n",
    "#        ax.plot(xs,ys,'ro',alpha=0.2)[0]\n",
    "        ax.plot(xs, ys)\n",
    "    \n",
    "        # plot the starting position\n",
    "        label = 'start'\n",
    "        el = track[0]\n",
    "        ax.plot(el[0], el[1], 'D', color='red',label=label)\n",
    "\n",
    "        # plot the end position\n",
    "        label = 'end'\n",
    "        el = track[-1]\n",
    "        ax.plot(el[0], el[1], 'D', color='cyan', label=label)\n",
    "        \n",
    "        ax.legend(frameon=False)\n",
    " \n",
    "        # save the figure\n",
    "        if not file == None:\n",
    "            print(\"Saving track to file: \", file)\n",
    "            plt.savefig(file)\n",
    "            \n",
    "        plt.show()  \n",
    "    "
   ]
  },
  {
   "cell_type": "markdown",
   "metadata": {
    "deletable": false,
    "editable": false,
    "nbgrader": {
     "cell_type": "markdown",
     "checksum": "0e8fb9833ee87890f80f53a501d63652",
     "grade": false,
     "grade_id": "cell-c1a26e9a17ec06dd",
     "locked": true,
     "schema_version": 3,
     "solution": false,
     "task": false
    }
   },
   "source": [
    "### The cells below, test your implementation of methods in Cluster\n",
    "\n",
    "If your code does not pass this cell, you should debug your implementation of element_add before continuing"
   ]
  },
  {
   "cell_type": "code",
   "execution_count": 11,
   "metadata": {
    "deletable": false,
    "editable": false,
    "nbgrader": {
     "cell_type": "code",
     "checksum": "542af6d14eb84a9462ba66f02bc4cebb",
     "grade": false,
     "grade_id": "cell-3590d8f3631b017e",
     "locked": true,
     "schema_version": 3,
     "solution": false,
     "task": false
    }
   },
   "outputs": [
    {
     "name": "stdout",
     "output_type": "stream",
     "text": [
      "That's right! -- continue\n",
      "We are adding element =  (3, 2)\n",
      "That's right! -- continue\n",
      " ++ element_add, Position =  [2 2]\n",
      "That's right! -- continue\n",
      "We are adding element =  (10, 2)\n",
      "That's right! -- continue\n",
      " ++ element_add, Position =  [10  2]\n",
      "That's right! -- continue\n"
     ]
    }
   ],
   "source": [
    "# initialize a small cluster\n",
    "size     = 5          # size of cluster\n",
    "ndim     = 2          # dimensionallity of cluster\n",
    "periodic = True       # boundary condition\n",
    "cluster  = Cluster(ndim=ndim, size=size, periodic=periodic)\n",
    "\n",
    "# add a single element at the centre\n",
    "cent = int(size/2)          # location of seed\n",
    "seed = (cent,) * ndim       # seed of cluster\n",
    "cluster.element_add(seed)\n",
    "\n",
    "# Provided your implementation is correct, cluster.grid = {{2,2)}: True}\n",
    "test = {(2,2): True}\n",
    "if cluster.grid == test:\n",
    "    print(\"That's right! -- continue\")\n",
    "else:\n",
    "    print(\"you made and error in the Eden model\")\n",
    "\n",
    "# Using the list of offsets, add the neighbour to the right of the seed to the cluster\n",
    "offset  = cluster.offsets[0]\n",
    "element = tuple(np.asarray(seed) + np.asarray(offset))\n",
    "print(\"We are adding element = \", element)\n",
    "cluster.element_add(element)\n",
    "test2 = {(2, 2): True, (3, 2): True}\n",
    "if cluster.grid == test2:\n",
    "    print(\"That's right! -- continue\")\n",
    "else:\n",
    "    print(\"you made and error in the Eden mode\")\n",
    "\n",
    "# Test adding an element that is already in the cluster\n",
    "try:\n",
    "    cluster.element_add(seed)\n",
    "    print(\" this should not happen: element should not be added twice \")\n",
    "except:\n",
    "    print(\"That's right! -- continue\")\n",
    "    pass    \n",
    "\n",
    "# Test periodic wrapping\n",
    "element = (2*size, int(size/2))  # this element is outside of the grid, but we are using periodic boundary conditions\n",
    "print(\"We are adding element = \", element)\n",
    "cluster.element_add(element)\n",
    "test3 = {(2, 2): True, (3, 2): True, (0, 2): True}\n",
    "if cluster.grid == test3:\n",
    "    print(\"That's right! -- continue\")\n",
    "else:\n",
    "    print(\"you made and error in implementing add_element (periodic boundary conditions)\")\n",
    "\n",
    "    \n",
    "    \n",
    "# now test non-periodic cluster\n",
    "cluster  = Cluster(ndim=ndim, size=size, periodic=False)\n",
    "try: \n",
    "    cluster.element_add(element)\n",
    "    print(\" this should not happen: element should not be added\")\n",
    "except:\n",
    "    print(\"That's right! -- continue\")\n",
    "    pass"
   ]
  },
  {
   "cell_type": "code",
   "execution_count": 12,
   "metadata": {
    "deletable": false,
    "editable": false,
    "nbgrader": {
     "cell_type": "code",
     "checksum": "2aacd089d0d99c9b6c752d51770a60c5",
     "grade": false,
     "grade_id": "cell-74300b61619621d7",
     "locked": true,
     "schema_version": 3,
     "solution": false,
     "task": false
    }
   },
   "outputs": [
    {
     "name": "stdout",
     "output_type": "stream",
     "text": [
      " That's right! -- continue\n"
     ]
    }
   ],
   "source": [
    "# This cell tests your implementation of the \"element_neighbours\" method\"\n",
    "\n",
    "# create a small cluster and add some elements to it\n",
    "size     = 7          # size of cluster\n",
    "ndim     = 2          # dimensionallity of cluster\n",
    "periodic = False      # boundary condition\n",
    "cluster  = Cluster(ndim=ndim, size=size, periodic=periodic)\n",
    "\n",
    "# start with seed at centre, and add all off its neighbours\n",
    "cent = int(size/2)          # location of seed\n",
    "seed = (cent,) * ndim       # seed of cluster\n",
    "cluster.element_add(seed)\n",
    "for offset in cluster.offsets:\n",
    "    element = tuple(np.asarray(seed) + np.asarray(offset))\n",
    "    cluster.element_add(element)\n",
    "\n",
    "# list all neighbours of some positions\n",
    "neighbours = cluster.element_neighbours(seed)\n",
    "test = [(4, 3), (2, 3), (3, 4), (3, 2)]\n",
    "if neighbours == test:\n",
    "    print(\" That's right! -- continue\")\n",
    "else:\n",
    "    print(\"you made an error in implementing element_neighbours\")"
   ]
  },
  {
   "cell_type": "markdown",
   "metadata": {
    "deletable": false,
    "editable": false,
    "nbgrader": {
     "cell_type": "markdown",
     "checksum": "994b0b5f992c84361dcdc6617e03c72c",
     "grade": false,
     "grade_id": "cell-4af13f5a5b7eeb79",
     "locked": true,
     "schema_version": 3,
     "solution": false,
     "task": false
    }
   },
   "source": [
    "### a) The Eden model of cluster growth\n",
    "\n",
    "Complete implementing the Eden model in the `Cluster` class.\n",
    "The growth algorithm is as follows (see lecture notes)\n",
    "    - at start-up, create self.boundary - a list of all valid, empty sites that are nearest-neighbours \n",
    "    of the current cluster elements (i.e. initially, the neasrest-neighbours of the cluster seed)\n",
    "    - pick randomly one of the elements in the list of boundary cells, self.boundary\n",
    "        - add the element to the cluster\n",
    "        - remove the element from the list of boundary sites\n",
    "        - update the boundary sites\n",
    "        \n",
    "        \n",
    "\n"
   ]
  },
  {
   "cell_type": "code",
   "execution_count": 13,
   "metadata": {
    "deletable": false,
    "nbgrader": {
     "cell_type": "code",
     "checksum": "7a487cce16075b3bb075e4254f36321b",
     "grade": false,
     "grade_id": "cell-f293cea1cc5568f8",
     "locked": false,
     "schema_version": 3,
     "solution": true,
     "task": false
    }
   },
   "outputs": [
    {
     "name": "stdout",
     "output_type": "stream",
     "text": [
      "(10, 10)\n",
      "Saving cluster to file:  Eden.png\n"
     ]
    },
    {
     "name": "stderr",
     "output_type": "stream",
     "text": [
      "/opt/conda/lib/python3.6/site-packages/matplotlib/figure.py:457: UserWarning: matplotlib is currently using a non-GUI backend, so cannot show the figure\n",
      "  \"matplotlib is currently using a non-GUI backend, \"\n"
     ]
    },
    {
     "data": {
      "image/png": "[encoded data removed]",
      "text/plain": [
       "<Figure size 504x504 with 1 Axes>"
      ]
     },
     "metadata": {},
     "output_type": "display_data"
    }
   ],
   "source": [
    "size     = 21         # size of cluster\n",
    "ndim     = 2          # dimensionality of the cluster\n",
    "periodic = False      # boundary condition\n",
    "cluster  = Cluster(ndim=ndim, size=size, random_number_seed = 1, periodic=periodic)\n",
    "cent     = int(size/2)\n",
    "seed     = (cent,) * ndim       # seed of cluster\n",
    "print(seed)\n",
    "cluster.element_add(seed)\n",
    "nsites = 200               # add nsites=200 elements to the Eden cluster\n",
    "for i in range(nsites):\n",
    "    cluster.Eden()\n",
    "\n",
    "\n",
    "# Use ShowCluster to visualize the cluster. Set cut=[-1, -1]\n",
    "cut   = [-1, -1]\n",
    "file  = 'Eden.png'\n",
    "# YOUR CODE HERE\n",
    "### Nothing to add - simply run this cell\n",
    "title = 'Eden cluster'\n",
    "cluster.ShowCluster(cut, file=file)\n"
   ]
  },
  {
   "cell_type": "code",
   "execution_count": 14,
   "metadata": {},
   "outputs": [
    {
     "data": {
      "image/png": "[encoded data removed]",
      "text/plain": [
       "<Figure size 504x504 with 1 Axes>"
      ]
     },
     "metadata": {},
     "output_type": "display_data"
    }
   ],
   "source": [
    "# You may want to compare your results to the plot below\n",
    "import matplotlib.image as mpimg\n",
    "img = mpimg.imread('Eden_solution.png')\n",
    "fig_size = (7., 7.)\n",
    "plt.figure(figsize=fig_size)\n",
    "#plt.imshow(img, aspect='auto')\n",
    "plt.imshow(img)\n",
    "plt.show()"
   ]
  },
  {
   "cell_type": "markdown",
   "metadata": {
    "deletable": false,
    "editable": false,
    "nbgrader": {
     "cell_type": "markdown",
     "checksum": "d2e19ba6977472b57a61522dd28687b3",
     "grade": false,
     "grade_id": "cell-38a1000710c80341",
     "locked": true,
     "schema_version": 3,
     "solution": false,
     "task": false
    }
   },
   "source": [
    "### Compute the fractal dimension of an Eden cluster\n"
   ]
  },
  {
   "cell_type": "markdown",
   "metadata": {
    "deletable": false,
    "editable": false,
    "nbgrader": {
     "cell_type": "markdown",
     "checksum": "887d5eb83cac88c949b5066004477c74",
     "grade": false,
     "grade_id": "cell-5f8946de50fbf5a6",
     "locked": true,
     "schema_version": 3,
     "solution": false,
     "task": false
    }
   },
   "source": [
    "In the next cell:\n",
    " - Generate an Eden cluster with the parameters given (size, ndim, periodic, and location of starting seed)\n",
    " - Compute the distance of each element to the seed\n",
    " - Sort the distance in ascending order\n",
    " - Plot the enclosed mass, $M(\\le r)$, as a function of radius $r$. Assume that each element has mass = 1\n",
    " - Use this to estimate the fractal dimension $d$, from $M(\\le r)\\propto r^d$ (ignore the seed)\n",
    " "
   ]
  },
  {
   "cell_type": "code",
   "execution_count": 26,
   "metadata": {
    "deletable": false,
    "nbgrader": {
     "cell_type": "code",
     "checksum": "21d5cb3bd04eedfa8d0d76c4aec86d05",
     "grade": true,
     "grade_id": "cell-7668aeb88e5f84ae",
     "locked": false,
     "points": 10,
     "schema_version": 3,
     "solution": true,
     "task": false
    }
   },
   "outputs": [
    {
     "data": {
      "image/png": "[encoded data removed]",
      "text/plain": [
       "<Figure size 504x504 with 1 Axes>"
      ]
     },
     "metadata": {},
     "output_type": "display_data"
    }
   ],
   "source": [
    "size       = 101                  # linear extent of lattice\n",
    "ndim       = 2                    # dimensionality of lattice\n",
    "periodic   = False                # non-periodic boundary conditions\n",
    "cent       = int(size/2)          # location of seed\n",
    "seed       = (cent,) * ndim       # seed of cluster\n",
    "nsites     = 499                  # number of sites to add\n",
    "\n",
    "\n",
    "# for each element of the cluster, compute the distance to the seed\n",
    "# sort these distances from small to large, and remove the first element (the seed, which has distance = 0, of course)\n",
    "# assume each element has mass is one, and compute the enclosed mass, M(<r), where M is mass enclosed within radius r\n",
    "# Estimate the fractal dimension, d, using M=M_0 r^d\n",
    "#   - hint: you may want make linear fit to log M = A + B log r, for which the slope is B=r\n",
    "#           notice that the relation starts to bend (and hence is no longer linear) for large r - you may\n",
    "#           want to restrict the fit to stay away from the boundary\n",
    "#           I used stats.linregress to perform the linear fit\n",
    "#  plot log M(<r) versus log(r), and overplot your fit. Make sure you add a legend and label the axes\n",
    "\n",
    "# approximate marking scheme\n",
    "# plot has axes labels:                                2 marks\n",
    "# results from the Eden model are plotted and look OK: 4 marks\n",
    "# linear fit is over plotted and looks OK:             2 marks\n",
    "# the plot has a legend:                               2 marks\n",
    "\n",
    "fig, ax = plt.subplots(1, 1, figsize=(7,7))\n",
    "# YOUR CODE HERE\n",
    "cluster = Cluster(ndim=ndim, size=size, random_number_seed = 1, periodic=periodic)\n",
    "cluster.element_add(seed)\n",
    "\n",
    "distance = []\n",
    "for i in range(nsites):\n",
    "    cluster.Eden()\n",
    "    \n",
    "for i in cluster.grid:\n",
    "    distance.append(cluster.distance(seed , i))\n",
    "\n",
    "distance.sort()\n",
    "del distance[0]\n",
    "\n",
    "r = np.linspace(1.5,3.3,1000)\n",
    "\n",
    "total = [0]*len(r)\n",
    "\n",
    "for i in range(len(r)):\n",
    "    \n",
    "    for j in range(len(distance)):\n",
    "        if r[i]>distance[j]:\n",
    "            total[i] +=1\n",
    "            \n",
    "\n",
    "ax.plot(np.log(r),np.log(total))\n",
    "\n",
    "plt.show()"
   ]
  },
  {
   "cell_type": "code",
   "execution_count": 16,
   "metadata": {},
   "outputs": [
    {
     "data": {
      "image/png": "[encoded data removed]",
      "text/plain": [
       "<Figure size 504x504 with 1 Axes>"
      ]
     },
     "metadata": {},
     "output_type": "display_data"
    }
   ],
   "source": [
    "# You may want to compare your results to the plot below\n",
    "import matplotlib.image as mpimg\n",
    "img = mpimg.imread('Eden_mass.png')\n",
    "fig_size = (7., 7.)\n",
    "plt.figure(figsize=fig_size)\n",
    "#plt.imshow(img, aspect='auto')\n",
    "plt.imshow(img)\n",
    "plt.show()"
   ]
  },
  {
   "cell_type": "markdown",
   "metadata": {
    "deletable": false,
    "editable": false,
    "nbgrader": {
     "cell_type": "markdown",
     "checksum": "43e1194f2114cac57c81e51c6ad05819",
     "grade": false,
     "grade_id": "cell-f244e80ba6cd2ace",
     "locked": true,
     "schema_version": 3,
     "solution": false,
     "task": false
    }
   },
   "source": [
    "Now generate 2000 realisations of an Eden cluster with the parameters of the cell above.\n",
    "\n",
    "Compute the fractal dimension $d$, defined as $m\\propto r^d$, where $m$ is the mass enclosed with radius $r$,\n",
    "fitting to the range $r=[5, 10]$ for each.\n",
    "\n",
    "Plot a histogram of the values of $d$. Compute the mean value of $d$ and the standard deviation.\n",
    "Over plot a Gaussian with the parameters\n"
   ]
  },
  {
   "cell_type": "code",
   "execution_count": 17,
   "metadata": {
    "deletable": false,
    "nbgrader": {
     "cell_type": "code",
     "checksum": "268084cadebd4511eda90e90aa9b01a4",
     "grade": true,
     "grade_id": "cell-6712094001e020a7",
     "locked": false,
     "points": 10,
     "schema_version": 3,
     "solution": true,
     "task": false
    }
   },
   "outputs": [
    {
     "name": "stdout",
     "output_type": "stream",
     "text": [
      "Calculation finished\n"
     ]
    }
   ],
   "source": [
    "\n",
    "# Approximate marking scheme\n",
    "# axes are correctly labelled:             2 marks\n",
    "# histogram of numerical values looks OK:  4 marks\n",
    "# Gaussian is over ploted and looks OK:    2 marks\n",
    "# Plot has a legend:                       2 marks\n",
    "\n",
    "# YOUR CODE HERE\n",
    "\n",
    "print(\"Calculation finished\")    "
   ]
  },
  {
   "cell_type": "code",
   "execution_count": 18,
   "metadata": {
    "deletable": false,
    "nbgrader": {
     "cell_type": "code",
     "checksum": "0cd50ca9eb8f85f8a701406368df40af",
     "grade": false,
     "grade_id": "cell-5254e3b0b384deac",
     "locked": false,
     "schema_version": 3,
     "solution": true,
     "task": false
    }
   },
   "outputs": [],
   "source": [
    "# Use this cell to make the plot\n",
    "# YOUR CODE HERE\n"
   ]
  },
  {
   "cell_type": "code",
   "execution_count": 18,
   "metadata": {
    "deletable": false,
    "editable": false,
    "init_cell": true,
    "nbgrader": {
     "cell_type": "code",
     "checksum": "4523f4290dc8d1012c816a81bc1e9358",
     "grade": false,
     "grade_id": "cell-af7bf4b272473c00",
     "locked": true,
     "schema_version": 3,
     "solution": false,
     "task": false
    },
    "tags": [
     "hide_input"
    ]
   },
   "outputs": [
    {
     "data": {
      "application/vnd.jupyter.widget-view+json": {
       "model_id": "",
       "version_major": 2,
       "version_minor": 0
      },
      "text/plain": [
       "VBox(children=(HTMLMath(value='Enter your estimate of the mean fractal dimension to a least 3 significant figu…"
      ]
     },
     "metadata": {},
     "output_type": "display_data"
    }
   ],
   "source": [
    "dimen=mywidgets.myFloatBox('Percolation','P1','Dimension=', 'Enter your estimate of the mean fractal dimension to a least 3 significant figures')\n",
    "dimen.getWidget()\n"
   ]
  },
  {
   "cell_type": "code",
   "execution_count": 19,
   "metadata": {
    "deletable": false,
    "editable": false,
    "init_cell": true,
    "nbgrader": {
     "cell_type": "code",
     "checksum": "fd951c7d0d168b438b3e68e23e2da0fc",
     "grade": true,
     "grade_id": "cell-5c3f7587da94ddc3",
     "locked": true,
     "points": 5,
     "schema_version": 3,
     "solution": false,
     "task": false
    },
    "tags": [
     "hide_input"
    ]
   },
   "outputs": [],
   "source": [
    "# display(HTML('<hr>'))"
   ]
  },
  {
   "cell_type": "markdown",
   "metadata": {
    "deletable": false,
    "editable": false,
    "nbgrader": {
     "cell_type": "markdown",
     "checksum": "2fff8e13e9eab352aa569000df8183bc",
     "grade": false,
     "grade_id": "cell-4874dbf26aeb97d7",
     "locked": true,
     "schema_version": 3,
     "solution": false,
     "task": false
    }
   },
   "source": [
    "### b) The DLA model of cluster growth\n",
    "\n",
    "Complete the DLA growth model in the `Cluster` (see course notes). In brief, the growth algorithm is as follows:\n",
    "\n",
    "- create a cluster with a single seed at the centre, using the `Cluster` class you've developed\n",
    "- choose an inner radius, $r_1$, and an edge radius $r_2$.\n",
    "    - start a random walker from a location at distance close to $r_1$ from the seed, and let it walk\n",
    "        - if it hits any part of the existing cluster, add it to the cluster, and start a new walk\n",
    "        - if it crosses the outer boundary, $r>r_2$, terminate the random walk, and start a new walk\n",
    "- terminate the programme, when the cluster contains a specified number of elements\n",
    "\n",
    "In the cells below, $r_1$ is referred to as the \"radius\" and $r_2$ as the \"edge\".\n",
    "\n",
    "You may want to base the random walk on the implementation you wrote in lecture 6 on random walks\n",
    "Use the cells below to test intermediate steps of this assignment\n",
    "\n",
    "        \n",
    "      "
   ]
  },
  {
   "cell_type": "code",
   "execution_count": 106,
   "metadata": {},
   "outputs": [],
   "source": [
    "# create a cluster, and add a seed to the centre\n",
    "size       = 101                  # the size here is only ever used for plotting\n",
    "ndim       = 2                    # we only do the 2 dimensional case\n",
    "periodic   = False                # non-periodic grid\n",
    "cent       = int(size/2)          # put the seed in the center of the grid\n",
    "seed       = (cent,) * ndim       # seed of cluster\n",
    "\n"
   ]
  },
  {
   "cell_type": "code",
   "execution_count": 109,
   "metadata": {
    "deletable": false,
    "nbgrader": {
     "cell_type": "code",
     "checksum": "90d531f475cc1214a55d1d22b166b075",
     "grade": false,
     "grade_id": "cell-c763059b1ca4b93d",
     "locked": false,
     "schema_version": 3,
     "solution": true,
     "task": false
    }
   },
   "outputs": [
    {
     "name": "stdout",
     "output_type": "stream",
     "text": [
      "Saving track to file:  Randomwalk.png\n"
     ]
    },
    {
     "data": {
      "image/png": "[encoded data removed]",
      "text/plain": [
       "<Figure size 504x504 with 1 Axes>"
      ]
     },
     "metadata": {},
     "output_type": "display_data"
    }
   ],
   "source": [
    "# as an example, perform a single walk to see what happens\n",
    "centre = seed\n",
    "radius = 20         # launch radius, r_1, for random walk\n",
    "edge   = 40         # outer edge radius, r_2\n",
    "\n",
    "# We specify a random number seed for this test, so you should always get the same shape of walk\n",
    "dla = Cluster(ndim=ndim, size=size, random_number_seed=12, periodic=periodic)\n",
    "dla.element_add(seed)\n",
    "track  = dla.DLA(centre, radius, edge)\n",
    "file   = \"Randomwalk.png\"\n",
    "\n",
    "# YOUR CODE HERE\n",
    "### Nothing to implement: simply run this cell\n",
    "# the call below plots the track the random walk followed, before it terminated\n",
    "#     - either by travelling further than 'edge' from the seed\n",
    "#     - or by hitting the seed\n",
    "dla.ShowTrack(track, file=file)\n",
    "\n",
    "# you may want to compare your answer to the file \"Randomwalk_solution.pdf\"\n",
    "# It should not look identical, but if it looks very different you may have a bug somewhere in your code\n",
    "# Notice that in this case, the random talk is termindated because it crosses the edge radius, r_2.\n"
   ]
  },
  {
   "cell_type": "code",
   "execution_count": 108,
   "metadata": {},
   "outputs": [
    {
     "data": {
      "image/png": "[encoded data removed]",
      "text/plain": [
       "<Figure size 504x504 with 1 Axes>"
      ]
     },
     "metadata": {},
     "output_type": "display_data"
    }
   ],
   "source": [
    "# You may want to compare your results to the plot below\n",
    "import matplotlib.image as mpimg\n",
    "img = mpimg.imread('Randomwalk_solution.png')\n",
    "fig_size = (7., 7.)\n",
    "plt.figure(figsize=fig_size)\n",
    "#plt.imshow(img, aspect='auto')\n",
    "plt.imshow(img)\n",
    "plt.show()"
   ]
  },
  {
   "cell_type": "markdown",
   "metadata": {
    "deletable": false,
    "editable": false,
    "nbgrader": {
     "cell_type": "markdown",
     "checksum": "f7af9db0a919234c051883ea96858fa2",
     "grade": false,
     "grade_id": "cell-de855c349553d44c",
     "locked": true,
     "schema_version": 3,
     "solution": false,
     "task": false
    }
   },
   "source": [
    "### Creating a DLA cluster\n",
    "\n",
    "Use the random walk model to create a DLA cluster with nel = 400 elements in it\n",
    "\n",
    "Use the cell below it plot the DLA cluster and saving the plot to a file.\n",
    "\n",
    "Take care with the parameter 'radius' and 'edge'.\n",
    "The values in the cell below are reasonable initializations values from where to start the walk (at a distance \"radius\" from the centre of the DLA cluster), and for when to abort the random walk (if the walker ventures further than \"edge' from the centre of the cluster). However, as the cluster grows in size, you will need to increase both \"radius\" and \"edge\".\n",
    "\n",
    "    - If radius is too small, the centre of the cluster will be too densely filled,\n",
    "        since all walkers are started too close in.\n",
    "    - If edge is too small, you again get a cluster that is too centrally concentrated.\n",
    "    - If edge and/or radius are too large, then the code becomes very inefficient, because the walker can run everywhere with little chance of ever hitting the cluster.\n",
    "\n",
    "Therefore, you may want to experiment with both these parameters."
   ]
  },
  {
   "cell_type": "code",
   "execution_count": null,
   "metadata": {
    "deletable": false,
    "nbgrader": {
     "cell_type": "code",
     "checksum": "685a1dc3e9597fb845b69b3f5436edba",
     "grade": true,
     "grade_id": "cell-dd67b2c0d3dd784c",
     "locked": false,
     "points": 10,
     "schema_version": 3,
     "solution": true,
     "task": false
    }
   },
   "outputs": [],
   "source": [
    "# Use this cell to compute the DLA cluster (10 marks)\n",
    "\n",
    "# These are the cluster's parameters\n",
    "size     = 101                  # size of the grid is needed for plotting and setting the seed\n",
    "cent     = int(size/2)          # set the seed\n",
    "seed     = (cent,) * ndim       #\n",
    "periodic = False                # non-periodic boundary conditions\n",
    "dla      = Cluster(ndim=ndim, size=size, random_number_seed=12, periodic=periodic)\n",
    "dla.element_add(seed)\n",
    "\n",
    "# Approximate marking scheme: DLA cluster looks OK, axes are labelled\n",
    "\n",
    "#  \n",
    "centre = seed    # centre of the cluster\n",
    "radius = 10      # start random walk at a distance of approximately 10 units from the centre\n",
    "edge   = 20      # terminate walk if wanders further than edge units from the centre\n",
    "nel    = 400     # terminate cluster growth if cluster contains nel elements\n",
    "\n",
    "# Hint: to speed up th calculation, I found it useful to\n",
    "#   to set radius to radius = max([radius, 1.d * rmax])\n",
    "#       where radius is the previous radius\n",
    "#             rmax is the maximum distance of a cluster element to the centre\n",
    "#   to set edge to edge = max([edge, 1.7 * radius])\n",
    "#       where edge is the previous value of the outer radius\n",
    "#             radius is the current starting radius\n",
    "#    This lets both the starting radius and the edge grwo a the cluster grows\n",
    "\n",
    "# YOUR CODE HERE\n",
    "print(\"Calculation is finished\")\n",
    "\n",
    "\n"
   ]
  },
  {
   "cell_type": "code",
   "execution_count": null,
   "metadata": {},
   "outputs": [],
   "source": [
    "# use this cell to plot your answer\n",
    "cut   = [-1, -1]\n",
    "title = 'DLA cluster'\n",
    "file  = 'DLAcluster.png'\n",
    "dla.ShowCluster(cut, title=title, file=file)"
   ]
  },
  {
   "cell_type": "code",
   "execution_count": 111,
   "metadata": {},
   "outputs": [
    {
     "data": {
      "image/png": "[encoded data removed]",
      "text/plain": [
       "<Figure size 504x504 with 1 Axes>"
      ]
     },
     "metadata": {},
     "output_type": "display_data"
    }
   ],
   "source": [
    "# You may want to compare your results to the plot below\n",
    "import matplotlib.image as mpimg\n",
    "img = mpimg.imread('DLAcluster_solution.png')\n",
    "fig_size = (7., 7.)\n",
    "plt.figure(figsize=fig_size)\n",
    "#plt.imshow(img, aspect='auto')\n",
    "plt.imshow(img)\n",
    "plt.show()"
   ]
  },
  {
   "cell_type": "markdown",
   "metadata": {
    "deletable": false,
    "editable": false,
    "nbgrader": {
     "cell_type": "markdown",
     "checksum": "e733068a56f6dbe8b38629bcba0da740",
     "grade": false,
     "grade_id": "cell-4f2d3929b7938733",
     "locked": true,
     "schema_version": 3,
     "solution": false,
     "task": false
    }
   },
   "source": [
    "## c) Percolation"
   ]
  },
  {
   "cell_type": "markdown",
   "metadata": {
    "deletable": false,
    "editable": false,
    "nbgrader": {
     "cell_type": "markdown",
     "checksum": "20f679b22316a017ed817f84ec63822b",
     "grade": false,
     "grade_id": "cell-3991cb1b23517f5f",
     "locked": true,
     "schema_version": 3,
     "solution": false,
     "task": false
    }
   },
   "source": [
    "### Identifying a cluster\n",
    "\n",
    "The cell below defines a class `GroupFinder` that identifies groups in a cluster.\n",
    "\n",
    "The structure of the cluster required by GroupFinder is the same as what we had so far. The `Eden` cluster and the `DLA` cluster have the right format. Given a cluster, the groupfinder partitions the elements in a cluster by making sure that any two elements of the cluster that are nearest-neighbours, belong to the same group.\n",
    "\n",
    "How to use the `GroupFinder` is explored in the following cells.\n",
    "\n",
    "\n"
   ]
  },
  {
   "cell_type": "code",
   "execution_count": 114,
   "metadata": {},
   "outputs": [],
   "source": [
    "# This class contains methods to\n",
    "#   - identify all groups in  a given cluster\n",
    "#        a group is a set of sites that are nearest-neighbours\n",
    "#   - examine whether a group percolates\n",
    "# You should not have to edit any of these methods\n",
    "# Use the cells below to learn how to use the method to identify groups, and examine percolation\n",
    "class GroupFinder():\n",
    "    # return a list of connected clusters\n",
    "    def __init__(self, cluster):\n",
    "        self.cluster = cluster\n",
    "        # Each element within a group will point to a common element of the group - the head\n",
    "        self.heads   = {}\n",
    "        for element in self.cluster.grid:\n",
    "            self.heads[element] = element  # initialize by assuming each element is in its own group\n",
    "            \n",
    "    # Iteratively loop over all elements in the cluster to identify groups\n",
    "    def FoF(self):\n",
    "        # Begin partitioning \n",
    "        #    We only loop over pairs of neighbours\n",
    "        maxcount = 10000\n",
    "        for element in self.cluster.grid:\n",
    "            element_head = element\n",
    "            count = 0\n",
    "            while element_head != self.heads[element_head] and count < maxcount:\n",
    "                element_head = self.heads[element_head]\n",
    "            count = 0\n",
    "            for neighbour in self.cluster.element_neighbours(element)[::2]:\n",
    "                count = 0\n",
    "                if neighbour in self.cluster.grid:\n",
    "                    neighbour_head = neighbour\n",
    "                    while neighbour_head != self.heads[neighbour_head] and count < maxcount:\n",
    "                        count += 1\n",
    "                        neighbour_head = self.heads[neighbour_head]\n",
    "                    self.heads[neighbour_head] = element_head\n",
    "            if count == maxcount:\n",
    "                raise Exception(\"Error: partitioning does not converge\")\n",
    "\n",
    "        #\n",
    "        count = 0\n",
    "        for element in self.cluster.grid:\n",
    "            element_head = element\n",
    "\n",
    "            while element_head != self.heads[element_head] and count < maxcount:\n",
    "                element_head = self.heads[element_head]\n",
    "            self.heads[element] = element_head\n",
    "        \n",
    "        \n",
    "        unique  = {}\n",
    "        ngroups = 0\n",
    "        for head in self.heads:\n",
    "            if head not in unique:\n",
    "                unique[head] = ngroups\n",
    "                ngroups     += 1\n",
    "        \n",
    "        groupid = []\n",
    "        for element in self.cluster.grid:\n",
    "            groupid.append(unique[self.heads[element]])\n",
    "\n",
    "        return np.asarray(groupid)\n",
    "\n",
    "    # Alternative group finder   \n",
    "    def Groups(self):\n",
    "        groupid    = np.arange(len(self.cluster.grid), dtype=int)\n",
    "        groupindx  = {}\n",
    "        for index, element in enumerate(self.cluster.grid):\n",
    "            groupindx[element] = index\n",
    "        success = False\n",
    "        count   = 0\n",
    "        while not success:\n",
    "            success = True\n",
    "            for element in self.cluster.grid:\n",
    "                for neighbour in self.cluster.element_neighbours(element):\n",
    "                    if neighbour in self.cluster.grid:\n",
    "                        indx1 = groupid[groupindx[element]]\n",
    "                        indx2 = groupid[groupindx[neighbour]]\n",
    "                        if indx1 < indx2:\n",
    "                            groupid[groupid==indx2] = indx1\n",
    "                            success = False\n",
    "                            count += 1\n",
    "                        elif indx1 > indx2:\n",
    "                            groupid[groupid==indx1] = indx2\n",
    "                            success = False\n",
    "                            count += 1\n",
    "            print(\" count = \", count)\n",
    "        return groupid\n",
    "\n",
    "    # Examine the percolation of groups identified using a group finder\n",
    "    # Loop over all unique groups in groupdid\n",
    "    #     for each group, loop over all dimensions\n",
    "    #     if a group percolates, store its id and the dimension that it percoaltes in\n",
    "    #   return this to the calling routine\n",
    "    def PercolateGrid(self, groupid):\n",
    "        # determine whether thisgroup percolates\n",
    "        \n",
    "        # consistency: only works for non-periodic grids\n",
    "        if self.cluster.periodic:\n",
    "            raise Exception(\" We only implement non-periodic grids \")\n",
    "            \n",
    "        #     \n",
    "        groupindx  = {}\n",
    "        for index, element in enumerate(self.cluster.grid):\n",
    "            groupindx[element] = index\n",
    "         \n",
    "        # extract group by group\n",
    "        result = []\n",
    "        for group in np.unique(groupid):\n",
    "            newcluster = Cluster(self.cluster.ndim, self.cluster.size, self.cluster.periodic)\n",
    "            for element in self.cluster.grid:\n",
    "                if groupid[groupindx[element]] == group:\n",
    "                    newcluster.grid[element] = True \n",
    "                    \n",
    "            # find whether this group percolates\n",
    "            for dimen in range(self.cluster.ndim):\n",
    "                if self.PercolateGroup(newcluster, dimen):\n",
    "                    result.append([group, dimen])\n",
    "        return result                \n",
    "    \n",
    "    # This method examines whether a given group percolates in a given dimension\n",
    "    def PercolateGroup(self, cluster, dimen):\n",
    "        # inputs:\n",
    "        #    self: the class GroupFinder\n",
    "        #    cluster: one of the groups identified by the group finder\n",
    "        #    dimen: the dimension to check for percolation\n",
    "\n",
    "        # consistency check\n",
    "        if dimen < 0 or dimen >= cluster.ndim:\n",
    "            raise Exception(\" too many dimensions \")\n",
    "        \n",
    "        # Determine with this cluster touches both boundaries in dimension dimen of the dimensions simultaneously\n",
    "        x = [sp[dimen] for sp in cluster.grid.keys()]\n",
    "        return (min(x) == 0 and max(x) == cluster.size-1)\n",
    "\n",
    "    ####### The routines below are useful for plotting groups #################\n",
    "    def ExtractGroup(self, groupid, plotid, cut):\n",
    "        groupindx  = {}\n",
    "        for index, element in enumerate(self.cluster.grid):\n",
    "            groupindx[element] = index\n",
    "            \n",
    "        newcluster = Cluster(self.cluster.ndim, self.cluster.size, self.cluster.periodic)\n",
    "        for element in self.cluster.grid:\n",
    "            if groupid[groupindx[element]] == plotid:\n",
    "                newcluster.grid[element] = True\n",
    "            \n",
    "        xs, ys  = newcluster.ExtractSlice(cut)\n",
    "        return xs, ys    \n",
    "    \n",
    "    def ShowGroup(self, groupid, plotid, cut):\n",
    "        xs, ys = self.ExtractGroup(groupid, plotid, cut)\n",
    "        ax.plot(xs, ys, 'o',alpha=0.2)[0]\n",
    "\n",
    "   "
   ]
  },
  {
   "cell_type": "markdown",
   "metadata": {
    "deletable": false,
    "editable": false,
    "nbgrader": {
     "cell_type": "markdown",
     "checksum": "895bfa62a20c6d0edbfcd5377340d7ee",
     "grade": false,
     "grade_id": "cell-7e3f7fc485b789c5",
     "locked": true,
     "schema_version": 3,
     "solution": false,
     "task": false
    }
   },
   "source": [
    "### Examine the cell to see how the methods of GroupFinder and Cluster can be used to\n",
    " - create a cluster to work on\n",
    " - identify the groups inside the cluster\n",
    " - plot the result\n"
   ]
  },
  {
   "cell_type": "code",
   "execution_count": null,
   "metadata": {},
   "outputs": [],
   "source": [
    "# set-up the grid parameters\n",
    "size      = 512         # size of the lattice\n",
    "ndim      = 2           # number of dimensions\n",
    "periodic  = True        # periodic boundary conditions\n",
    "rseed     = 12          # seed for random number generator\n",
    "cluster   = Cluster(size=size, ndim=ndim, periodic=periodic, random_number_seed = rseed)\n",
    "\n",
    "# Use the Eden model to grow some clusters on the lattice\n",
    "#    starting seeds\n",
    "seeds = ((50,50),(50,200),(100,50),(200,400),(300,200))\n",
    "for seed in seeds:\n",
    "    cluster.element_add(seed)    \n",
    "\n",
    "# allow each cluster to grow\n",
    "for i in range(10000):\n",
    "    cluster.Eden()\n",
    "\n",
    "# Now identify connected seeds\n",
    "groupfinder = GroupFinder(cluster)\n",
    "\n",
    "# Assign each element to its group. Elements of the same group have the same groupid\n",
    "groupid     = groupfinder.FoF()\n",
    "grouplen    = []\n",
    "\n",
    "# Next, count the number of elements in each separate group\n",
    "groups = np.arange(len(np.unique(groupid)))\n",
    "for (id,group) in zip(np.unique(groupid), groups):\n",
    "    count = len(np.where(groupid == id)[0])  # number of elements in this group\n",
    "    grouplen.append(count)\n",
    "    info = r\"group = {0:1d} has id = {1:4d} and {2:3d} elements\".format(group, id, count)\n",
    "    print(info)\n",
    "# Print some statistics    \n",
    "print(\"Number of unique groups = \", len(np.unique(groupid)))\n",
    "print(\"Number of elements in largest group = \", max(grouplen))\n",
    "\n",
    "# Now plot all groups, using different colours for each group\n",
    "fig, ax = plt.subplots(1, 1, figsize=(7,7))\n",
    "ax.set_aspect('equal')\n",
    "ax.set_xlim(-1, cluster.size)\n",
    "ax.set_ylim(-1, cluster.size)\n",
    "ax.set_xlabel('x-position')\n",
    "ax.set_ylabel('y-position')\n",
    "ax.set_title(' connected groups')\n",
    "ax.grid()\n",
    "for id in np.unique(groupid):\n",
    "    xs, ys = groupfinder.ExtractGroup(groupid, id, cut)\n",
    "    ax.plot(xs, ys, ',', alpha=0.2)[0]\n",
    "\n",
    "# over plot the starting locations\n",
    "for seed in seeds:\n",
    "    x = seed[0]\n",
    "    y = seed[1]\n",
    "    ax.plot(x, y, 'D', color='red')\n",
    "\n",
    "plt.show()\n",
    "\n",
    "# Description: we grew Eden clusters starting from 5 different seed locations.\n",
    "#   The seeds of these clusters are indicated with the red diamonds\n",
    "# Running the group finder, we identified 4 separate groups - as you can see, the green group consists\n",
    "#     of 2 Eden clusters that just touch - hence they form part of a single group"
   ]
  },
  {
   "cell_type": "markdown",
   "metadata": {
    "deletable": false,
    "editable": false,
    "nbgrader": {
     "cell_type": "markdown",
     "checksum": "9a7dd5ffa8f103cef2db861d3fd3e46c",
     "grade": false,
     "grade_id": "cell-cd852e229bcd777f",
     "locked": true,
     "schema_version": 3,
     "solution": false,
     "task": false
    }
   },
   "source": [
    "We will now use the group finder to study percolation.\n",
    "\n",
    "Begin by examining the method \"Random\" in the class Cluster, which has as parameter $p$, in addition to size, ndim and periodic.  In this method, we generate a random number, $r$, for each grid point of square mesh, [size, size] in extent. If $r<p$, then we add this element to the cluster."
   ]
  },
  {
   "cell_type": "code",
   "execution_count": 112,
   "metadata": {},
   "outputs": [
    {
     "name": "stdout",
     "output_type": "stream",
     "text": [
      " generating sample grid with probability =  0.2  fraction of occupied elements=  0.1968\n",
      " generating sample grid with probability =  0.4  fraction of occupied elements=  0.3932\n",
      " generating sample grid with probability =  0.6  fraction of occupied elements=  0.5944\n"
     ]
    },
    {
     "name": "stderr",
     "output_type": "stream",
     "text": [
      "/opt/conda/lib/python3.6/site-packages/matplotlib/figure.py:457: UserWarning: matplotlib is currently using a non-GUI backend, so cannot show the figure\n",
      "  \"matplotlib is currently using a non-GUI backend, \"\n"
     ]
    },
    {
     "data": {
      "image/png": "[encoded data removed]",
      "text/plain": [
       "<Figure size 504x504 with 1 Axes>"
      ]
     },
     "metadata": {},
     "output_type": "display_data"
    },
    {
     "data": {
      "image/png": "[encoded data removed]",
      "text/plain": [
       "<Figure size 504x504 with 1 Axes>"
      ]
     },
     "metadata": {},
     "output_type": "display_data"
    },
    {
     "data": {
      "image/png": "[encoded data removed]",
      "text/plain": [
       "<Figure size 504x504 with 1 Axes>"
      ]
     },
     "metadata": {},
     "output_type": "display_data"
    }
   ],
   "source": [
    "# Example of the method Cluster.Random for generating a cluster of points on a regular grid, with a given probability\n",
    "\n",
    "size = 50         # size of the grid\n",
    "ndim = 2          # dimensionality\n",
    "\n",
    "# variable needed by ShowCluster\n",
    "# cut = np.zeros(ndim)\n",
    "# cut[0] = -1\n",
    "# cut[1] = -1\n",
    "# cut    = tuple(cut)\n",
    "cut = [-1, -1]\n",
    "\n",
    "# generate some with different probabilities as an example\n",
    "\n",
    "# first example\n",
    "probability = 0.2\n",
    "cluster = Cluster(ndim=ndim, size=size, random_number_seed=1, periodic=False)\n",
    "cluster.Random(probability)\n",
    "fraction = len(cluster.grid) / float(size**ndim)\n",
    "print(\" generating sample grid with probability = \", probability,\" fraction of occupied elements= \", fraction)\n",
    "cluster.ShowCluster(cut)\n",
    "\n",
    "# second example\n",
    "probability = 0.4\n",
    "cluster = Cluster(ndim=ndim, size=size, random_number_seed=1, periodic=False)\n",
    "cluster.Random(probability)\n",
    "fraction = len(cluster.grid) / float(size**ndim)\n",
    "print(\" generating sample grid with probability = \", probability,\" fraction of occupied elements= \", fraction)\n",
    "cluster.ShowCluster(cut)\n",
    "\n",
    "# third example\n",
    "probability = 0.6\n",
    "cluster = Cluster(ndim=ndim, size=size, random_number_seed=1, periodic=False)\n",
    "cluster.Random(probability)\n",
    "fraction = len(cluster.grid) / float(size**ndim)\n",
    "print(\" generating sample grid with probability = \", probability,\" fraction of occupied elements= \", fraction)\n",
    "cluster.ShowCluster(cut)\n",
    "\n",
    "\n"
   ]
  },
  {
   "cell_type": "markdown",
   "metadata": {
    "deletable": false,
    "editable": false,
    "nbgrader": {
     "cell_type": "markdown",
     "checksum": "c9ec03be0965c4d9a8672ca4e8811e26",
     "grade": false,
     "grade_id": "cell-17f952b0e40efd34",
     "locked": true,
     "schema_version": 3,
     "solution": false,
     "task": false
    }
   },
   "source": [
    "We now use the group finder to identify unique groups. As an example, we use the last cluster with $p=0.6$"
   ]
  },
  {
   "cell_type": "code",
   "execution_count": 115,
   "metadata": {},
   "outputs": [
    {
     "name": "stdout",
     "output_type": "stream",
     "text": [
      "Number of unique groups =  100\n",
      "Biggest group =  610\n"
     ]
    },
    {
     "name": "stderr",
     "output_type": "stream",
     "text": [
      "/opt/conda/lib/python3.6/site-packages/matplotlib/figure.py:457: UserWarning: matplotlib is currently using a non-GUI backend, so cannot show the figure\n",
      "  \"matplotlib is currently using a non-GUI backend, \"\n"
     ]
    },
    {
     "data": {
      "image/png": "[encoded data removed]",
      "text/plain": [
       "<Figure size 504x504 with 1 Axes>"
      ]
     },
     "metadata": {},
     "output_type": "display_data"
    }
   ],
   "source": [
    "# we now use the group finder to identify clusters in the last last cluster as an example\n",
    "groupfinder = GroupFinder(cluster)\n",
    "groupid     = groupfinder.FoF()\n",
    "grouplen    = []\n",
    "for id in np.unique(groupid):\n",
    "    grouplen.append(len(np.where(groupid == id)[0]))\n",
    "\n",
    "print(\"Number of unique groups = \", len(np.unique(groupid)))\n",
    "print(\"Biggest group = \", max(grouplen))\n",
    "\n",
    "fig, ax = plt.subplots(1, 1, figsize=(7,7))\n",
    "ax.set_aspect('equal')\n",
    "ax.set_xlim(-1, cluster.size)\n",
    "ax.set_ylim(-1, cluster.size)\n",
    "ax.grid()\n",
    "for id in np.unique(groupid):\n",
    "    xs, ys = groupfinder.ExtractGroup(groupid, id, cut)\n",
    "    ax.plot(xs, ys, 'o', alpha=0.2)[0]\n",
    "ax.set_xlabel(r\"$x$\")\n",
    "ax.set_ylabel(r\"$y$\")\n",
    "occ  = len(cluster.grid) / float(size**ndim)\n",
    "info = r\"Probability = {0:1.2f}, occupancy={1:1.2f}\".format(cluster.p, occ)\n",
    "ax.set_title(info)\n",
    "fig.show()    "
   ]
  },
  {
   "cell_type": "markdown",
   "metadata": {
    "deletable": false,
    "editable": false,
    "nbgrader": {
     "cell_type": "markdown",
     "checksum": "6d516ba29970b54fca384376d53fa6c8",
     "grade": false,
     "grade_id": "cell-239a8f6b68bad191",
     "locked": true,
     "schema_version": 3,
     "solution": false,
     "task": false
    }
   },
   "source": [
    "### Assignment"
   ]
  },
  {
   "cell_type": "markdown",
   "metadata": {
    "deletable": false,
    "editable": false,
    "nbgrader": {
     "cell_type": "markdown",
     "checksum": "3c71c215dcd2022005e73a64c50ee702",
     "grade": false,
     "grade_id": "cell-b2490ddec34a1efa",
     "locked": true,
     "schema_version": 3,
     "solution": false,
     "task": false
    }
   },
   "source": [
    "Having played with random grids, and dividing a cluster into a set of connected groups, we will analyse\n",
    "the appearance of a **percolating** cluster. A percolating cluster, is a group that touches both sides of the grid\n",
    "(either in the (horizontal) $x$-direction, or in the (vertical) $y$-direction). In the example above, you will see that the largest cluster percolates in the vertical direction, but not in the horizontal direction.\n",
    "\n",
    "If the probability $p$ is small, then most clusters are small as well, and usually none of them percolates. If the probability $p$ is large, then there is usually one large cluster that percolates in either $x$ or $y$, or indeed in both directions.\n",
    "\n",
    "\n",
    "As discussed in the lecture, the transition between these two regimes - no percolating cluster on average at low $p$, versus the presence of one or more peroclating clusters, depends on size, and on the value of $p$. Let $p_c$ be the characteristic value of $p$ where the transition happens. Operationally we will define $p_c$ as follows:\n",
    "\n",
    "  - $p<p_c$: the average number of percolating clusters is < 50 per cent\n",
    "  - $p>=p_c$: the average number of percolating clusters is >= 50 per cent\n",
    "\n",
    "To determine the average, we need to generate many random grids with a given value of $p$.\n",
    "\n",
    "Proceed as follows:\n",
    "\n",
    " - Generate a number of random clusters for a range of values of $p$. Set size=50, and ndim=2, periodic=False\n",
    " - For each cluster, identify the groups, and examine whether any of the groups percolates. Compute the fraction, $f_{\\rm perc}$, of clusters with this value of $p$, that have (one or more) percoalting groups\n",
    "- Plot $f_{\\rm perc}$ versus $p$ to estimate $p_c$.\n",
    "- Reduce the range in $p$ to zoom in on $p_c$, and increase the number of clusters generated per $p$ value, to measure $p_c$ more accurately.\n",
    "- Compute and report your value of $p_c$ to 3 significant digits.\n"
   ]
  },
  {
   "cell_type": "code",
   "execution_count": null,
   "metadata": {
    "deletable": false,
    "nbgrader": {
     "cell_type": "code",
     "checksum": "962861d66694f54d61b9a23e380d4a87",
     "grade": false,
     "grade_id": "cell-64f4f163a3083d47",
     "locked": false,
     "schema_version": 3,
     "solution": true,
     "task": false
    }
   },
   "outputs": [],
   "source": [
    "# Use this cell to zoom in on the calculation of $p_c$\n",
    "# make sure the computation time does not exceed 6 minutes\n",
    "size = 50         # size of the grid\n",
    "ndim = 2          # dimensionality\n",
    "\n",
    "# You may want to use this set of values to evalaute the probability\n",
    "\n",
    "# pcs is the set of values of the probability you may want to try\n",
    "pnew   = np.arange(0.4,0.55, 0.05)\n",
    "pcs    = pnew\n",
    "pnew   = np.arange(0.56, 0.58, 0.01); pcs = np.concatenate((pcs, pnew))\n",
    "pnew   = np.arange(0.580, 0.5815, 0.0003); pcs = np.concatenate((pcs, pnew))\n",
    "pnew   = np.arange(0.582, 0.6, 0.01); pcs = np.concatenate((pcs, pnew))\n",
    "pnew   = np.arange(0.6, 0.75, 0.05); pcs = np.concatenate((pcs, pnew))\n",
    "\n",
    "# I experimented with the number of independent lattice to generate, for each p in pcs\n",
    "# For example for small p (p=0.4, say), the fraction of realisations with a percolating cluster is very low\n",
    "# In contrast for large p (p=0.75, say), most lattices contain a percolating cluster\n",
    "# Therefore in those cases there is no need to generate many realisation (I used used 20) - the answer is pretty clear\n",
    "# On the other hand, close to the critical value pc of p, you do need to generate many realisations \n",
    "#        to avoid the estimate being to noisy (I used 150)\n",
    "# For intermediate values, you can use intermediate values of of the number of realisations to try\n",
    "#   You may want to try using a small number of realisations for all p first, and then up the number around\n",
    "#   the critical value, pc.\n",
    "\n",
    "# YOUR CODE HERE\n",
    "print(\" Calculation finished\") "
   ]
  },
  {
   "cell_type": "code",
   "execution_count": null,
   "metadata": {
    "deletable": false,
    "nbgrader": {
     "cell_type": "code",
     "checksum": "0f61521d8e82dd128768544319244b1b",
     "grade": true,
     "grade_id": "cell-491204d2b77bf8d9",
     "locked": false,
     "points": 10,
     "schema_version": 3,
     "solution": true,
     "task": false
    }
   },
   "outputs": [],
   "source": [
    "# Use this cell to plot the fraction of realisation that have a percolating cluster,  \n",
    "#     as a function of the probability, p.\n",
    "# Also use it to compute your estimate of the value of p=p_c, where the fraction is 50 per cent\n",
    "\n",
    "# Plot two panels: one showing an overview (large range in p)\n",
    "#    and one zooming in on the solution\n",
    "#    estimate and overplot the error (uncertainty) in the average\n",
    "# Indicate your estimate of (pc, 0.5)\n",
    "\n",
    "# Approximate marking scheme:\n",
    "# two plots with axes labels:                          2 marks\n",
    "# plots show fraction as a function of p, and look OK: 4 marks\n",
    "# value of (pc, 50%) is clearly indicated:             2 marks\n",
    "# Poisson errors are over plotted:                     2 marks\n",
    "\n",
    "# YOUR CODE HERE"
   ]
  },
  {
   "cell_type": "code",
   "execution_count": 20,
   "metadata": {
    "deletable": false,
    "editable": false,
    "init_cell": true,
    "nbgrader": {
     "cell_type": "code",
     "checksum": "586948278171432e84838ed74fdb1693",
     "grade": false,
     "grade_id": "cell-359cc484f9266ffa",
     "locked": true,
     "schema_version": 3,
     "solution": false,
     "task": false
    },
    "tags": [
     "hide_input"
    ]
   },
   "outputs": [
    {
     "data": {
      "application/vnd.jupyter.widget-view+json": {
       "model_id": "",
       "version_major": 2,
       "version_minor": 0
      },
      "text/plain": [
       "VBox(children=(HTMLMath(value='Enter your estimate of the critical value $p_c$ to at least three significant f…"
      ]
     },
     "metadata": {},
     "output_type": "display_data"
    }
   ],
   "source": [
    "perc=mywidgets.myFloatBox('Percolation','P4','$p_c$ =', 'Enter your estimate of the critical value $p_c$ to at least three significant figures')\n",
    "perc.getWidget()\n"
   ]
  },
  {
   "cell_type": "code",
   "execution_count": null,
   "metadata": {
    "deletable": false,
    "editable": false,
    "init_cell": true,
    "nbgrader": {
     "cell_type": "code",
     "checksum": "ab208c4eb86a3075060a379a4d1e3cb5",
     "grade": true,
     "grade_id": "cell-16c2e0d9ef258267",
     "locked": true,
     "points": 5,
     "schema_version": 3,
     "solution": false,
     "task": false
    },
    "tags": [
     "hide_input"
    ]
   },
   "outputs": [],
   "source": []
  },
  {
   "cell_type": "markdown",
   "metadata": {},
   "source": [
    "### End of the assignment"
   ]
  }
 ],
 "metadata": {
  "kernelspec": {
   "display_name": "Python 3",
   "language": "python",
   "name": "python3"
  },
  "language_info": {
   "codemirror_mode": {
    "name": "ipython",
    "version": 3
   },
   "file_extension": ".py",
   "mimetype": "text/x-python",
   "name": "python",
   "nbconvert_exporter": "python",
   "pygments_lexer": "ipython3",
   "version": "3.7.4"
  }
 },
 "nbformat": 4,
 "nbformat_minor": 2
}
