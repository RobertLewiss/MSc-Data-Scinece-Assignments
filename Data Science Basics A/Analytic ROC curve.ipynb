{
 "cells": [
  {
   "cell_type": "markdown",
   "metadata": {},
   "source": [
    "\n",
    "# Analytic ROC curve: Solution\n",
    "\n",
    "The false positive and true positive probabilities are given by the shaded area in the following plot:\n",
    "\n",
    "\n",
    "![](TPFP.png)\n",
    "\n",
    "So we need to calculate the probability to the right of a theshold $t$:\n",
    "\n",
    "$$\\int\\limits_t^\\infty p(x) =  \\frac{1}{\\sqrt{2\\pi}\\sigma}\\int\\limits_t^\\infty e^{-\\frac{1}{2\\sigma^2}(x-\\mu)^2} $$\n",
    "\n",
    "$$ y = \\frac{x-\\mu}{\\sqrt{2}\\sigma}\\;,\\qquad dy = \\frac{dx}{\\sqrt{2}\\sigma}$$\n",
    "\n",
    "$$=  \\frac{1}{\\sqrt{\\pi}}\\int\\limits_{y_{min}}^\\infty e^{-y^2} = \\frac{1}{\\sqrt{\\pi}} \\frac{\\sqrt{\\pi}}{2}\\;\\frac{2}{\\sqrt{\\pi}}\\int\\limits_{y_{min}}^\\infty e^{-y^2} = \\frac{1}{2}\\left(1-{\\rm erf}(y_{min})\\right) $$\n",
    "\n",
    "With $y_{min} = \\frac{t-\\mu}{\\sqrt{2}\\sigma}$"
   ]
  },
  {
   "cell_type": "markdown",
   "metadata": {},
   "source": [
    "The true positives are given by \n",
    "\n",
    "$$TP = \\int\\limits_t^\\infty p(x) =  \\frac{1}{\\sqrt{2\\pi}\\sigma_+}\\int\\limits_t^\\infty e^{-\\frac{1}{2\\sigma_+^2}(x-\\mu_+)^2} = \\frac{1}{2}\\left(1-{\\rm erf}\\left(\\frac{t-\\mu_+}{\\sqrt{2}\\sigma_+}\\right)\\right)$$\n",
    "\n",
    "The false positives are given by \n",
    "\n",
    "$$FP = \\int\\limits_t^\\infty p(x) =  \\frac{1}{\\sqrt{2\\pi}\\sigma_-}\\int\\limits_t^\\infty e^{-\\frac{1}{2\\sigma_-^2}(x-\\mu_-)^2} = \\frac{1}{2}\\left(1-{\\rm erf}\\left(\\frac{t-\\mu_-}{\\sqrt{2}\\sigma_-}\\right)\\right)$$\n",
    "\n"
   ]
  },
  {
   "cell_type": "markdown",
   "metadata": {},
   "source": [
    "so we can solve for $t$ as a function of FP: \n",
    "    \n",
    "$$ t = \\mu_- + \\sqrt{2}\\sigma_-{\\rm erf}^{-1}(1-2FP  )$$    \n",
    "\n",
    "and inserting in the expression for TP we get:\n",
    "\n",
    "$$TP = \\frac{1}{2}\\left( 1-{\\rm erf}\\left( \\frac{\\mu_- + \\sqrt{2}\\sigma_-{\\rm erf}^{-1}(1-2FP  )- \\mu_+}{\\sqrt2 \\sigma_+}\\right)  \\right)$$"
   ]
  },
  {
   "cell_type": "markdown",
   "metadata": {},
   "source": [
    "We can plot it for an example:"
   ]
  },
  {
   "cell_type": "code",
   "execution_count": 1,
   "metadata": {},
   "outputs": [],
   "source": [
    "from scipy.special import erf, erfinv\n",
    "import matplotlib.pyplot as plt\n",
    "import numpy as np"
   ]
  },
  {
   "cell_type": "code",
   "execution_count": 2,
   "metadata": {},
   "outputs": [],
   "source": [
    "mu1 = -1\n",
    "sigma1 = 1\n",
    "\n",
    "mu2 = 3\n",
    "sigma2 = 2\n"
   ]
  },
  {
   "cell_type": "code",
   "execution_count": 3,
   "metadata": {},
   "outputs": [
    {
     "data": {
      "text/plain": [
       "[<matplotlib.lines.Line2D at 0x7f6502905c10>]"
      ]
     },
     "execution_count": 3,
     "metadata": {},
     "output_type": "execute_result"
    },
    {
     "data": {
      "image/png": "[encoded data removed]",
      "text/plain": [
       "<Figure size 432x288 with 1 Axes>"
      ]
     },
     "metadata": {
      "needs_background": "light"
     },
     "output_type": "display_data"
    }
   ],
   "source": [
    "xs = np.linspace(-10,10,200)\n",
    "f1 = 1.0/(np.sqrt(2)*sigma1)*np.exp( -(xs - mu1)**2/(2*sigma1**2) )\n",
    "f2 = 1.0/(np.sqrt(2)*sigma2)*np.exp( -(xs - mu2)**2/(2*sigma2**2) )\n",
    "\n",
    "plt.plot(xs, f1)\n",
    "plt.plot(xs, f2)"
   ]
  },
  {
   "cell_type": "code",
   "execution_count": 4,
   "metadata": {},
   "outputs": [
    {
     "data": {
      "text/plain": [
       "[<matplotlib.lines.Line2D at 0x7f64fa823510>]"
      ]
     },
     "execution_count": 4,
     "metadata": {},
     "output_type": "execute_result"
    },
    {
     "data": {
      "image/png": "[encoded data removed]",
      "text/plain": [
       "<Figure size 432x288 with 1 Axes>"
      ]
     },
     "metadata": {
      "needs_background": "light"
     },
     "output_type": "display_data"
    }
   ],
   "source": [
    "def TPofFP(FP):\n",
    "    sqrt2 = np.sqrt(2)\n",
    "    return  0.5* ( 1 - erf( \n",
    "        (mu1 + sqrt2*sigma1*erfinv(1-2*FP)- mu2)/(sqrt2 * sigma2)) )\n",
    "\n",
    "xs = np.linspace(0,1,100)\n",
    "\n",
    "plt.plot(xs, TPofFP(xs))"
   ]
  },
  {
   "cell_type": "markdown",
   "metadata": {},
   "source": [
    "## ii) \n",
    "\n",
    "first we need the number of false positives and false negatives. For a number $N$ of cases of each class we have:"
   ]
  },
  {
   "cell_type": "markdown",
   "metadata": {},
   "source": [
    "$$FP =N\\int\\limits_t^\\infty p_-(x) dx$$ and $$FN =N\\int\\limits_{-\\infty}^t p_+(x) dx$$ "
   ]
  },
  {
   "cell_type": "markdown",
   "metadata": {},
   "source": [
    "with $t$ the threshold. The cost $C$ of misclassification is proportional to:"
   ]
  },
  {
   "cell_type": "markdown",
   "metadata": {},
   "source": [
    "$$C = a FP + FN = N\\left(a \\int\\limits_t^\\infty p_-(x) dx + \\int\\limits_{-\\infty}^t p_+(x) dx \\right)$$"
   ]
  },
  {
   "cell_type": "markdown",
   "metadata": {},
   "source": [
    "To minimize the cost, we differentiate with respect to $t$:"
   ]
  },
  {
   "cell_type": "markdown",
   "metadata": {},
   "source": [
    "$$\\frac{dC}{dt} = N \\left( - a p_-(t) + p_+(t) \\right)$$"
   ]
  },
  {
   "cell_type": "markdown",
   "metadata": {},
   "source": [
    "$$\\frac{dC}{dt}=0 \\Rightarrow \\frac{p_+(t)}{p_-(t)} = a $$\n",
    "\n",
    "We can solv for $t$:"
   ]
  },
  {
   "cell_type": "markdown",
   "metadata": {},
   "source": [
    "$$\\exp\\left( - \\frac{1}{2\\sigma^2}(t-\\mu_-)^2 + \\frac{1}{2\\sigma^2}(t-\\mu_+)^2    \\right) = a $$\n",
    "$$\\exp\\left( - \\frac{1}{2\\sigma^2}\\left( 2(\\mu_+-\\mu_-) t + \\mu_+^2 - \\mu_-^2 \\right)   \\right) = a $$\n",
    "$$\\exp\\left( - \\frac{\\mu_+-\\mu_-}{2\\sigma^2}\\left( 2t  + \\mu_- + \\mu_+ \\right)   \\right) = a $$\n",
    "$$t   = \\frac{\\mu_- + \\mu_+}{2}  +  \\frac{\\sigma^2 \\ln a}{\\mu_+-\\mu_-} $$"
   ]
  },
  {
   "cell_type": "markdown",
   "metadata": {},
   "source": [
    "As a sanity chck we can check what happens when $a=1$, that is the cost of FP an FN is the same: in this case $\\ln a=0$ and the threshold is in the middle of the two means, as expected. If false positive are more expensive ($\\ln a>0$), the threshold is moved towards the mean of the positive class, reducing the number of false positives. If false negatives are more expensive ($\\ln a<0$), the threshold is moved towards the mean of the negative class, reducing the number of false positives. "
   ]
  }
 ],
 "metadata": {
  "kernelspec": {
   "display_name": "Python 3",
   "language": "python",
   "name": "python3"
  },
  "language_info": {
   "codemirror_mode": {
    "name": "ipython",
    "version": 3
   },
   "file_extension": ".py",
   "mimetype": "text/x-python",
   "name": "python",
   "nbconvert_exporter": "python",
   "pygments_lexer": "ipython3",
   "version": "3.7.4"
  }
 },
 "nbformat": 4,
 "nbformat_minor": 4
}
