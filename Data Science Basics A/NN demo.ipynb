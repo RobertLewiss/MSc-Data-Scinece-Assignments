{
 "cells": [
  {
   "cell_type": "markdown",
   "metadata": {},
   "source": [
    "# Neural Network Demo\n",
    "\n",
    "\n",
    "This notebook allows you to play with a very simple neural network. \n",
    "\n",
    "![](simple.png)\n",
    "\n",
    "We have two hidden nodes, each calculate the linear combination \n",
    "\n",
    "$$z_i = a_i x + b_i$$\n",
    "\n",
    "using the inbut $x$ of the input node. The than use a non-linear function (which you can select)\n",
    "\n",
    "$$y_i = f(\\_i) $$\n",
    "\n",
    "The output node performs the linear combination\n",
    "\n",
    "$$ z = a + b*y1 + c*y2 $$\n",
    "\n",
    "and evaluate the sigmoid function with this argument to get the output\n",
    "\n",
    "$$o = \\phi(z)$$\n"
   ]
  },
  {
   "cell_type": "code",
   "execution_count": 2,
   "metadata": {
    "init_cell": true,
    "tags": [
     "hide_input"
    ]
   },
   "outputs": [
    {
     "data": {
      "application/vnd.jupyter.widget-view+json": {
       "model_id": "c2fd34b8f3064ee1b07f72310013fdfe",
       "version_major": 2,
       "version_minor": 0
      },
      "text/plain": [
       "VBox(children=(FloatSlider(value=0.48, description='$a_1$', max=2.0, min=-2.0, step=0.02), FloatSlider(value=-…"
      ]
     },
     "metadata": {},
     "output_type": "display_data"
    }
   ],
   "source": [
    "import bqplot as bq\n",
    "import numpy as np\n",
    "from bqplot import pyplot as plt\n",
    "from ipywidgets import widgets\n",
    "\n",
    "\n",
    "xs = np.linspace(-4,4,100)\n",
    "\n",
    "def sigmoid(x):\n",
    "    return 1.0/(1+np.exp(-x))\n",
    "\n",
    "def relu(x):\n",
    "    return np.maximum(x,0)\n",
    "\n",
    "def calculate(xs, a1, b1, a2, b2, a, b, c, fn):\n",
    "    z1 = a1 * xs + b1\n",
    "    z2 = a2 * xs + b2\n",
    "    \n",
    "    y1 = fn(z1)\n",
    "    y2 = fn(z2)\n",
    "    \n",
    "    z = a + b*y1 + c*y2\n",
    "\n",
    "    o = sigmoid(z)\n",
    "    return z1, z2, y1, y2, z, o\n",
    "\n",
    "def update(arg):\n",
    "    a1 = a1w.value\n",
    "    a2 = a2w.value\n",
    "    b1 = b1w.value\n",
    "    b2 = b2w.value\n",
    "    a = aw.value\n",
    "    b = bw.value\n",
    "    c = cw.value\n",
    "    fn = fnchoice.value\n",
    "    z1, z2, y1, y2, z, o = calculate(xs, a1, b1, a2, b2, a, b, c, fn)\n",
    "    line.y = o    \n",
    "    linez1.y = z1 \n",
    "    linez2.y = z2 \n",
    "    liney1.y = y1 \n",
    "    liney2.y = y2 \n",
    "    linez.y = z \n",
    "\n",
    "a1 = 0.48\n",
    "a2 = -0.58\n",
    "b1 = 0.34\n",
    "b2 = -0.28\n",
    "a = -0.66\n",
    "b = 0.88\n",
    "c = 0.8\n",
    "\n",
    "fn = np.tanh\n",
    "    \n",
    "z1, z2, y1, y2, z, o = calculate(xs, a1, b1, a2, b2, a, b, c, fn)\n",
    "\n",
    "fig1 = plt.figure(min_aspect_ratio=1,max_aspect_ratio=1) \n",
    "line = plt.plot(xs, o,'b-', labels=['output'])\n",
    "plt.legend()\n",
    "fig1.layout.width = '50%'\n",
    "fig2 = plt.figure(min_aspect_ratio=1,max_aspect_ratio=1) \n",
    "fig2.layout.width = '50%'\n",
    "linez1 = plt.plot(xs, z1,'r--', labels=['z1'])\n",
    "liney1 = plt.plot(xs, y1,'r-', labels=['y1'])\n",
    "linez2 = plt.plot(xs, z2,'g--', labels=['z2'])\n",
    "liney2 = plt.plot(xs, y2,'g-', labels=['y2'])\n",
    "linez = plt.plot(xs, z,'m-', labels=['z'])\n",
    "plt.legend()\n",
    "#plt.xlim(-3,3)\n",
    "#plt.ylim(0,1)\n",
    "\n",
    "a1w = widgets.FloatSlider(min=-2,max=2,value=a1, description=r\"$a_1$\", step=0.02)\n",
    "a1w.observe(update, 'value')\n",
    "a2w = widgets.FloatSlider(min=-2,max=2,value=a2, description=r\"$a_2$\", step=0.02)\n",
    "a2w.observe(update, 'value')\n",
    "b1w = widgets.FloatSlider(min=-2,max=2,value=b1, description=r\"$b_1$\", step=0.02)\n",
    "b1w.observe(update, 'value')\n",
    "b2w = widgets.FloatSlider(min=-2,max=2,value=b2, description=r\"$b_2$\", step=0.02)\n",
    "b2w.observe(update, 'value')\n",
    "aw = widgets.FloatSlider(min=-2,max=2,value=a, description=r\"$a$\", step=0.02)\n",
    "aw.observe(update, 'value')\n",
    "bw = widgets.FloatSlider(min=-2,max=2,value=b, description=r\"$b$\", step=0.02)\n",
    "bw.observe(update, 'value')\n",
    "cw = widgets.FloatSlider(min=-2,max=2,value=c, description=r\"$c$\", step=0.02)\n",
    "cw.observe(update, 'value')\n",
    "\n",
    "fnchoice = widgets.Dropdown(\n",
    "    options=[('sigmoid', sigmoid), ('ReLu', relu), ('tanh', np.tanh)],\n",
    "    value=fn,\n",
    "    description='activation:',\n",
    ")\n",
    "fnchoice.observe(update, 'value')\n",
    "\n",
    "widgets.VBox([a1w, a2w, b1w, b2w, aw, bw, cw, fnchoice, widgets.HBox([fig2, fig1])])\n",
    "\n"
   ]
  },
  {
   "cell_type": "code",
   "execution_count": null,
   "metadata": {},
   "outputs": [],
   "source": []
  }
 ],
 "metadata": {
  "kernelspec": {
   "display_name": "Python 3",
   "language": "python",
   "name": "python3"
  },
  "language_info": {
   "codemirror_mode": {
    "name": "ipython",
    "version": 3
   },
   "file_extension": ".py",
   "mimetype": "text/x-python",
   "name": "python",
   "nbconvert_exporter": "python",
   "pygments_lexer": "ipython3",
   "version": "3.7.4"
  }
 },
 "nbformat": 4,
 "nbformat_minor": 4
}
