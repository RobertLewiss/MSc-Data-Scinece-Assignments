{
 "cells": [
  {
   "cell_type": "code",
   "execution_count": 1,
   "metadata": {},
   "outputs": [
    {
     "data": {
      "text/html": [
       "<table>\n",
       "<caption>A data.frame: 6 × 2</caption>\n",
       "<thead>\n",
       "\t<tr><th></th><th scope=col>x</th><th scope=col>y</th></tr>\n",
       "\t<tr><th></th><th scope=col>&lt;dbl&gt;</th><th scope=col>&lt;dbl&gt;</th></tr>\n",
       "</thead>\n",
       "<tbody>\n",
       "\t<tr><th scope=row>1</th><td>-0.4720543</td><td>-1.3495412</td></tr>\n",
       "\t<tr><th scope=row>2</th><td>-2.0489395</td><td> 0.3468624</td></tr>\n",
       "\t<tr><th scope=row>3</th><td>-1.3263892</td><td>-1.3380228</td></tr>\n",
       "\t<tr><th scope=row>4</th><td> 1.7823161</td><td>-0.9631754</td></tr>\n",
       "\t<tr><th scope=row>5</th><td> 0.5540121</td><td> 0.2210657</td></tr>\n",
       "\t<tr><th scope=row>6</th><td>-0.8238523</td><td> 0.1000506</td></tr>\n",
       "</tbody>\n",
       "</table>\n"
      ],
      "text/latex": [
       "A data.frame: 6 × 2\n",
       "\\begin{tabular}{r|ll}\n",
       "  & x & y\\\\\n",
       "  & <dbl> & <dbl>\\\\\n",
       "\\hline\n",
       "\t1 & -0.4720543 & -1.3495412\\\\\n",
       "\t2 & -2.0489395 &  0.3468624\\\\\n",
       "\t3 & -1.3263892 & -1.3380228\\\\\n",
       "\t4 &  1.7823161 & -0.9631754\\\\\n",
       "\t5 &  0.5540121 &  0.2210657\\\\\n",
       "\t6 & -0.8238523 &  0.1000506\\\\\n",
       "\\end{tabular}\n"
      ],
      "text/markdown": [
       "\n",
       "A data.frame: 6 × 2\n",
       "\n",
       "| <!--/--> | x &lt;dbl&gt; | y &lt;dbl&gt; |\n",
       "|---|---|---|\n",
       "| 1 | -0.4720543 | -1.3495412 |\n",
       "| 2 | -2.0489395 |  0.3468624 |\n",
       "| 3 | -1.3263892 | -1.3380228 |\n",
       "| 4 |  1.7823161 | -0.9631754 |\n",
       "| 5 |  0.5540121 |  0.2210657 |\n",
       "| 6 | -0.8238523 |  0.1000506 |\n",
       "\n"
      ],
      "text/plain": [
       "  x          y         \n",
       "1 -0.4720543 -1.3495412\n",
       "2 -2.0489395  0.3468624\n",
       "3 -1.3263892 -1.3380228\n",
       "4  1.7823161 -0.9631754\n",
       "5  0.5540121  0.2210657\n",
       "6 -0.8238523  0.1000506"
      ]
     },
     "metadata": {},
     "output_type": "display_data"
    }
   ],
   "source": [
    "intro.dat <- read.table(\n",
    "    \"http://www.maths.dur.ac.uk/~dma0je/Data/intro-asml2.dat\", \n",
    "    header=TRUE\n",
    "    )\n",
    "\n",
    "head(intro.dat)"
   ]
  },
  {
   "cell_type": "code",
   "execution_count": null,
   "metadata": {},
   "outputs": [],
   "source": [
    "k3 <- kmeans(intro.dat, centers=3)\n",
    "k3$centers\n",
    "k3$cluster[1:20]"
   ]
  },
  {
   "cell_type": "code",
   "execution_count": null,
   "metadata": {},
   "outputs": [],
   "source": [
    "plot(intro.dat, col=k3$cluster, main=\"k-means\")\n",
    "   \n",
    "points(k3$centers, pch=15, cex=2, col=c(1,2,3))"
   ]
  },
  {
   "cell_type": "code",
   "execution_count": null,
   "metadata": {},
   "outputs": [],
   "source": [
    "k3$withinss \n",
    "k3$tot.withinss      # SS_within\n",
    "k3$totss             # SS_total\n",
    "k3$betweenss         # SS_between"
   ]
  },
  {
   "cell_type": "code",
   "execution_count": null,
   "metadata": {},
   "outputs": [],
   "source": [
    "m <- colMeans(intro.dat)\n",
    "plot(intro.dat,  main=\"distances to overall mean\")\n",
    "points(m[1], m[2], pch=15, cex=2, col=1)\n",
    "     \n",
    "n<-dim(intro.dat)[1]  \n",
    "for (j in 1:n){\n",
    "  segments(intro.dat[j,1], intro.dat[j,2],  m[1], m[2], col=4 )\n",
    "}"
   ]
  },
  {
   "cell_type": "code",
   "execution_count": null,
   "metadata": {},
   "outputs": [],
   "source": [
    "plot(intro.dat, col=k3$cluster, main=\"distances to cluster centers\")\n",
    "points(k3$centers, pch=15, cex=2, col=c(1,2,3))\n",
    "\n",
    "for (j in 1:n){\n",
    "  segments(intro.dat[j,1], intro.dat[j,2], k3$centers[k3$cluster[j],1],  k3$centers[k3$cluster[j],2], \n",
    "    col=k3$cluster[j]  ) \n",
    " } "
   ]
  },
  {
   "cell_type": "code",
   "execution_count": null,
   "metadata": {},
   "outputs": [],
   "source": [
    "set.seed(30)\n",
    "k3l<- kmeans(intro.dat, centers=3, algorithm=\"Lloyd\")\n",
    "k3l$centers\n",
    "k3l$tot.withinss\n",
    "k3l$iter\n",
    "\n",
    "k3<- kmeans(intro.dat, centers=3, algorithm=\"Hartigan-Wong\")\n",
    "k3$centers\n",
    "k3$tot.withinss\n",
    "k3$iter"
   ]
  },
  {
   "cell_type": "code",
   "execution_count": null,
   "metadata": {},
   "outputs": [],
   "source": [
    "wally.pts = read.csv('http://www.randalolson.com/wp-content/uploads/wheres-waldo-locations.csv')\n",
    "plot(wally.pts$X, wally.pts$Y)"
   ]
  },
  {
   "cell_type": "code",
   "execution_count": null,
   "metadata": {},
   "outputs": [],
   "source": [
    "library(clue)\n",
    "wally.kmed<- kmedoids(dist(wally.pts[,c(\"X\",\"Y\")]), k=3)\n",
    "plot(wally.pts$X, wally.pts$Y)\n",
    "points(wally.pts$X[wally.kmed$medoid_ids], wally.pts$Y[wally.kmed$medoid_ids],  col=2, pch=9, cex=1.8)\n",
    "wally.kmean <- kmeans(wally.pts[,c(\"X\",\"Y\")], centers=3)\n",
    "points(wally.kmean$centers, col=3, pch=10, cex=2)\n",
    "legend(2,8, legend=c(\"k-medoids\", \"k-means\"),  pch=c(9,10), col=c(2,3)) "
   ]
  },
  {
   "cell_type": "code",
   "execution_count": null,
   "metadata": {},
   "outputs": [],
   "source": [
    "m <- colMeans(intro.dat)\n",
    "plot(intro.dat)\n",
    "points(m[1], m[2], col=2,  pch=15, cex=2)"
   ]
  },
  {
   "cell_type": "code",
   "execution_count": null,
   "metadata": {},
   "outputs": [],
   "source": [
    "Sigma <- var(intro.dat)\n",
    "Sigma"
   ]
  },
  {
   "cell_type": "code",
   "execution_count": null,
   "metadata": {},
   "outputs": [],
   "source": [
    "R <- cor(intro.dat)\n",
    "R"
   ]
  },
  {
   "cell_type": "code",
   "execution_count": null,
   "metadata": {},
   "outputs": [],
   "source": [
    "require(animation)\n",
    "set.seed(42)\n",
    "balls <- 20 # only put 20 here as otherwise this can take quite.... \n",
    "layers<- 15\n",
    "ani.options(nmax = balls + layers - 2, 2)\n",
    "galton.sim = quincunx(balls = balls, col.balls = rainbow(layers))"
   ]
  },
  {
   "cell_type": "code",
   "execution_count": null,
   "metadata": {},
   "outputs": [],
   "source": [
    "barplot(galton.sim, space = 0)"
   ]
  },
  {
   "cell_type": "code",
   "execution_count": null,
   "metadata": {},
   "outputs": [],
   "source": [
    "X11()\n",
    "x<- seq(-2,12, length=101)\n",
    "plot(x, dnorm(x,mean=5, sd=sqrt(3)), type=\"l\", lwd=2, col=2)\n",
    "abline(v=5, col=3)"
   ]
  },
  {
   "cell_type": "code",
   "execution_count": null,
   "metadata": {},
   "outputs": [],
   "source": [
    "x1    <- seq(-5,15, length=51)   # 51 is an arbitrary grid size\n",
    "x2    <- seq(-5,15, length=51)\n",
    "dens <- matrix(0,51,51)\n",
    "\n",
    "# defines mu and Sigma\n",
    "mu <- c(5,5)\n",
    "Sigma <- matrix(c(9,0,0,4), byrow=TRUE, ncol=2)\n",
    "\n",
    "# fills grid with density values\n",
    "require(mvtnorm)\n",
    "for (i in 1:51){\n",
    "  for (j in 1:51){\n",
    "    dens[i,j] <- dmvnorm(x=c(x1[i],x2[j]), mean=mu, sigma=Sigma)\n",
    "  }\n",
    "}\n",
    "persp(x1, x2, dens, theta=40, phi=20)  # draws the density in 3D\n",
    "contour(x1, x2, dens)                  # draws contour plots in 2D"
   ]
  },
  {
   "cell_type": "code",
   "execution_count": null,
   "metadata": {},
   "outputs": [],
   "source": [
    "Sigma <- matrix(c(9,3,3,4), byrow=TRUE, ncol=2)\n",
    "for (i in 1:51){\n",
    "  for (j in 1:51){\n",
    "    dens[i,j] <- dmvnorm(x=c(x1[i],x2[j]), mean=mu, sigma=Sigma)\n",
    "  }\n",
    "}\n",
    "persp(x1, x2, dens, theta=40, phi=20)  \n",
    "contour(x1, x2, dens, nlevels=20 )   "
   ]
  },
  {
   "cell_type": "code",
   "execution_count": null,
   "metadata": {},
   "outputs": [],
   "source": [
    "det(Sigma)"
   ]
  },
  {
   "cell_type": "code",
   "execution_count": null,
   "metadata": {},
   "outputs": [],
   "source": [
    "wally.m <- colMeans(wally.pts[,c(\"X\",\"Y\")])\n",
    "wally.S <- var(wally.pts[,c(\"X\",\"Y\")])\n",
    "wally.Mdist <- mahalanobis(wally.pts[,c(\"X\",\"Y\")], center=wally.m, cov=wally.S)\n",
    "detect <- which(wally.Mdist>qchisq(0.975,2) )\n",
    "detect"
   ]
  },
  {
   "cell_type": "code",
   "execution_count": null,
   "metadata": {},
   "outputs": [],
   "source": [
    "plot(wally.pts$X, wally.pts$Y)\n",
    "points(wally.m[1], wally.m[2], pch=15, cex=2,col=2 )\n",
    "points(wally.pts$X[detect], wally.pts$Y[detect], pch=16, col=3, cex=2)\n",
    "legend(2,8,pch=c(15,16), col=c(2,3),  legend=c(\"mean\", \"identified outlier\"))"
   ]
  },
  {
   "cell_type": "code",
   "execution_count": null,
   "metadata": {},
   "outputs": [],
   "source": [
    "qqplot(qchisq(ppoints(68), df=2),wally.Mdist)\n",
    "abline(a=0,b=1, col=2, lwd=2)\n",
    "text(3,8,\"clearly not multivariate normal\")"
   ]
  },
  {
   "cell_type": "code",
   "execution_count": null,
   "metadata": {},
   "outputs": [],
   "source": [
    "require(mvtnorm)\n",
    "mu    <- c(5,5)\n",
    "Sigma <- matrix(c(9,0,0,4), byrow=TRUE, ncol=2)\n",
    "Z <- rmvnorm(300, mean=mu, sigma=Sigma)\n",
    "Z.Mdist <- mahalanobis(Z, mu, Sigma)\n",
    "qqplot(qchisq(ppoints(300), df=2),Z.Mdist)\n",
    "abline(a=0,b=1, col=2, lwd=2)\n",
    "text(3,10,\"clearly multivariate normal\")"
   ]
  }
 ],
 "metadata": {
  "kernelspec": {
   "display_name": "R",
   "language": "R",
   "name": "ir"
  },
  "language_info": {
   "codemirror_mode": "r",
   "file_extension": ".r",
   "mimetype": "text/x-r-source",
   "name": "R",
   "pygments_lexer": "r",
   "version": "4.0.3"
  }
 },
 "nbformat": 4,
 "nbformat_minor": 4
}
