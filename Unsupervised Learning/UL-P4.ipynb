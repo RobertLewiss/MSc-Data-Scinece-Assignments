{
 "cells": [
  {
   "cell_type": "markdown",
   "metadata": {},
   "source": [
    "# Unsupervised Learning\n",
    "\n",
    "### Practical 4 (Solutions)\n",
    "\n",
    "The purpose of this practical is to use principal component analysis to analyze handwritten digits, and to see how the principal component scores could be used for automated recognition of such digits.\n"
   ]
  },
  {
   "cell_type": "markdown",
   "metadata": {},
   "source": [
    "#### Handwritten digits data\n",
    "\n",
    "Load the data set `digits` from R package `rsvd`, and read the help file.\n"
   ]
  },
  {
   "cell_type": "code",
   "execution_count": null,
   "metadata": {},
   "outputs": [],
   "source": [
    "require(rsvd)\n",
    "data(digits)\n",
    "# help(digits)"
   ]
  },
  {
   "cell_type": "markdown",
   "metadata": {},
   "source": [
    "In order to get a first impression of the data, please execute"
   ]
  },
  {
   "cell_type": "code",
   "execution_count": null,
   "metadata": {},
   "outputs": [],
   "source": [
    "digits[c(1:10, 11991:12000),1:10]"
   ]
  },
  {
   "cell_type": "markdown",
   "metadata": {},
   "source": [
    "which gives an excerpt of the first ten rows, corresponding to digit \"0\", and the last ten rows, corresponding to digit \"3\". The inclusion of the label information in the first column does cause a problem; the code given at the bottom of the help file (of `digits`) to visualize the images does not work properly for this reason. What we need to do is to remove the first column, but re-assign it to the data frame in form of row names (labels). We do this via"
   ]
  },
  {
   "cell_type": "code",
   "execution_count": null,
   "metadata": {},
   "outputs": [],
   "source": [
    "digits.dat <- digits[,2:785]\n",
    "rownames(digits.dat) <- digits[,1]"
   ]
  },
  {
   "cell_type": "markdown",
   "metadata": {},
   "source": [
    "Repeat the command from the second chunk but now use `digits.dat` instead of `digits`.  Verify that the dimension of `digits.dat` is $12000 \\times  784$ (note that $784 = 28 \\times 28$, the grid size of the image)."
   ]
  },
  {
   "cell_type": "code",
   "execution_count": null,
   "metadata": {},
   "outputs": [],
   "source": [
    "digits.dat[c(1:10, 11991:12000),1:10]\n",
    "dim(digits.dat)"
   ]
  },
  {
   "cell_type": "markdown",
   "metadata": {},
   "source": [
    "We are now in a position to display the handwritten characters. Apply the code as given at the bottom of the help file, but with `digits` replaced by `digits.dat`. Do this for images in row 1,2,4000,7000 and 10000."
   ]
  },
  {
   "cell_type": "code",
   "execution_count": null,
   "metadata": {},
   "outputs": [],
   "source": [
    "digit1 <- matrix(digits.dat[1,], nrow = 28, ncol = 28)\n",
    "image(digit1[,28:1], col = gray(255:0 / 255))\n",
    "digit2 <- matrix(digits.dat[2,], nrow = 28, ncol = 28)\n",
    "image(digit2[,28:1], col = gray(255:0 / 255))\n",
    "digit4000 <- matrix(digits.dat[4000,], nrow = 28, ncol = 28)\n",
    "image(digit4000[,28:1], col = gray(255:0 / 255))\n",
    "digit7000 <- matrix(digits.dat[7000,], nrow = 28, ncol = 28)\n",
    "image(digit7000[,28:1], col = gray(255:0 / 255))\n",
    "digit10000 <- matrix(digits.dat[10000,], nrow = 28, ncol = 28)\n",
    "image(digit10000[,28:1], col = gray(255:0 / 255))"
   ]
  },
  {
   "cell_type": "markdown",
   "metadata": {},
   "source": [
    "#### Principal component analysis\n",
    "\n",
    "We proceed with a principal component analysis of this high-dimensional data set. Apply `prcomp` on `digits.dat`,  calling the resulting object `digits.pr`.  Produce the scree plot."
   ]
  },
  {
   "cell_type": "code",
   "execution_count": null,
   "metadata": {},
   "outputs": [],
   "source": [
    "digits.pr <- prcomp(digits.dat)\n",
    "plot(digits.pr)"
   ]
  },
  {
   "cell_type": "markdown",
   "metadata": {},
   "source": [
    "You can visualize the image corresponding to the first principal component via"
   ]
  },
  {
   "cell_type": "code",
   "execution_count": null,
   "metadata": {},
   "outputs": [],
   "source": [
    "digitpr1 <- matrix(digits.pr$rotation[,1], nrow = 28, ncol = 28)\n",
    "image(digitpr1[,28:1], col = gray(255:0 / 255))"
   ]
  },
  {
   "cell_type": "markdown",
   "metadata": {},
   "source": [
    "Repeat this for some other principal components.\n"
   ]
  },
  {
   "cell_type": "code",
   "execution_count": null,
   "metadata": {},
   "outputs": [],
   "source": [
    "digitpr2 <- matrix(digits.pr$rotation[,2], nrow = 28, ncol = 28)\n",
    "image(digitpr2[,28:1], col = gray(255:0 / 255))\n",
    "digitpr3 <- matrix(digits.pr$rotation[,3], nrow = 28, ncol = 28)\n",
    "image(digitpr3[,28:1], col = gray(255:0 / 255))\n",
    "digitpr4 <- matrix(digits.pr$rotation[,4], nrow = 28, ncol = 28)\n",
    "image(digitpr4[,28:1], col = gray(255:0 / 255))      \n",
    "digitpr5 <- matrix(digits.pr$rotation[,5], nrow = 28, ncol = 28)\n",
    "image(digitpr5[,28:1], col = gray(255:0 / 255))"
   ]
  },
  {
   "cell_type": "markdown",
   "metadata": {},
   "source": [
    "#### Principal component scores as \"feature space\"\n",
    "\n",
    "We can plot the principal component scores against each other to identify any clusterings of handwritten letters. For instance, produce a plot of the first against the second principal scores, colored by the known true digit number."
   ]
  },
  {
   "cell_type": "code",
   "execution_count": null,
   "metadata": {},
   "outputs": [],
   "source": [
    "plot(digits.pr$x[,1],digits.pr$x[,2], col=1+as.numeric(rownames(digits.dat))  )"
   ]
  },
  {
   "cell_type": "markdown",
   "metadata": {},
   "source": [
    "We see that such data could be used to do *classification* of handwritten letters based on the first two principal components, by identifying appropriate decision boundaries given on these training data.  Methods for doing so are studied in ASML Classification submodule. "
   ]
  },
  {
   "cell_type": "markdown",
   "metadata": {},
   "source": [
    "Extend the graphics to encompass the first *three* principal component scores (using `scatterplot3d`). Do the digits appear better separable in this space?"
   ]
  },
  {
   "cell_type": "code",
   "execution_count": null,
   "metadata": {},
   "outputs": [],
   "source": [
    "require(scatterplot3d) \n",
    "scatterplot3d(digits.pr$x[,1],digits.pr$x[,2],digits.pr$x[,2], color=1+as.numeric(rownames(digits.dat)))"
   ]
  },
  {
   "cell_type": "markdown",
   "metadata": {},
   "source": [
    "Find out which cluster corresponds to which digit!"
   ]
  },
  {
   "cell_type": "code",
   "execution_count": null,
   "metadata": {},
   "outputs": [],
   "source": [
    "some.labels<- rownames(digits.dat)[c(1,4000,7000,10000)]\n",
    "some.labels\n",
    "some.numbers<- as.numeric(some.labels)\n",
    "some.numbers\n",
    "plot(0:3, as.numeric(some.numbers), col=some.numbers+1)\n",
    "# So 0=black, 1=red, 2=green, 3=blue"
   ]
  },
  {
   "cell_type": "markdown",
   "metadata": {},
   "source": [
    "#### Digit Reconstruction\n",
    "\n",
    "Finally, assume we have decided to compress the data into the low-dimensional coordinate system spanned by their first 10 principal components (that is, the first 10 columns of `digits.pr$x`).  Now, reconstruct the handwritten digits based on this approximation. Display the reconstructed digits in the same way as the original digits above."
   ]
  },
  {
   "cell_type": "markdown",
   "metadata": {},
   "source": [
    "*Hint*: Reconstructions have the form $m+\\Gamma_{1:10}\\times S_{1:10}^T$, where $m$ is the column mean vector of `digits.dat`, $\\Gamma_{1:10}$ are the first 10 columns of the Rotation matrix, and $S_{1:10}^T$ is the transpose of the first 10 columns of `digits.pr$x`. "
   ]
  },
  {
   "cell_type": "code",
   "execution_count": null,
   "metadata": {},
   "outputs": [],
   "source": [
    "m <- colMeans(digits.dat)\n",
    "digits.reconstr <- t(m+digits.pr$rotation[,1:10]%*%t(digits.pr$x[,1:10]))\n",
    "\n",
    "digitre1 <- matrix(digits.reconstr[1,], nrow = 28, ncol = 28)\n",
    "image(digitre1[,28:1], col = gray(255:0 / 255))\n",
    "\n",
    "digitre2 <- matrix(digits.reconstr[2,], nrow = 28, ncol = 28)\n",
    "image(digitre2[,28:1], col = gray(255:0 / 255))\n",
    "\n",
    "digitre4000 <- matrix(digits.reconstr[4000,], nrow = 28, ncol = 28)\n",
    "image(digitre4000[,28:1], col = gray(255:0 / 255))\n",
    "\n",
    "digitre7000 <- matrix(digits.reconstr[7000,], nrow = 28, ncol = 28)\n",
    "image(digitre7000[,28:1], col = gray(255:0 / 255))\n",
    "\n",
    "digitre10000 <- matrix(digits.reconstr[10000,], nrow = 28, ncol = 28)\n",
    "image(digitre10000[,28:1], col = gray(255:0 / 255))"
   ]
  }
 ],
 "metadata": {
  "kernelspec": {
   "display_name": "R",
   "language": "R",
   "name": "ir"
  },
  "language_info": {
   "codemirror_mode": "r",
   "file_extension": ".r",
   "mimetype": "text/x-r-source",
   "name": "R",
   "pygments_lexer": "r",
   "version": "4.0.3"
  }
 },
 "nbformat": 4,
 "nbformat_minor": 4
}
